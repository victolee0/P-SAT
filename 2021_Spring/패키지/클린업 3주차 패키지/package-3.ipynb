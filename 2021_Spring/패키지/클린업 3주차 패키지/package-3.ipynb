{
 "cells": [
  {
   "cell_type": "markdown",
   "metadata": {},
   "source": [
    "## 문제 0 기본 세팅. \n",
    "tidyverse, data.table, gridExtra를 부른 후, setwd로 ‘data.csv’ 및 ‘test.csv’가 있는\n",
    "폴더로 경로를 설정하고, fread로 ‘data.csv’와 ‘test.csv’를 불러오세요."
   ]
  },
  {
   "cell_type": "code",
   "execution_count": 1,
   "metadata": {},
   "outputs": [],
   "source": [
    "import pandas as pd\n",
    "data = pd.read_csv('data.csv')\n",
    "test = pd.read_csv('test.csv')"
   ]
  },
  {
   "cell_type": "code",
   "execution_count": 2,
   "metadata": {},
   "outputs": [
    {
     "name": "stdout",
     "output_type": "stream",
     "text": [
      "<class 'pandas.core.frame.DataFrame'>\n",
      "RangeIndex: 4087 entries, 0 to 4086\n",
      "Data columns (total 12 columns):\n",
      " #   Column             Non-Null Count  Dtype  \n",
      "---  ------             --------------  -----  \n",
      " 0   id                 4087 non-null   int64  \n",
      " 1   gender             4087 non-null   object \n",
      " 2   age                4087 non-null   float64\n",
      " 3   hypertension       4087 non-null   int64  \n",
      " 4   heart_disease      4087 non-null   int64  \n",
      " 5   ever_married       4087 non-null   object \n",
      " 6   work_type          4087 non-null   object \n",
      " 7   Residence_type     4087 non-null   object \n",
      " 8   avg_glucose_level  4087 non-null   float64\n",
      " 9   bmi                3922 non-null   float64\n",
      " 10  smoking_status     4087 non-null   object \n",
      " 11  stroke             4087 non-null   int64  \n",
      "dtypes: float64(3), int64(4), object(5)\n",
      "memory usage: 383.3+ KB\n"
     ]
    }
   ],
   "source": [
    "data.info()"
   ]
  },
  {
   "cell_type": "code",
   "execution_count": 3,
   "metadata": {},
   "outputs": [
    {
     "name": "stdout",
     "output_type": "stream",
     "text": [
      "<class 'pandas.core.frame.DataFrame'>\n",
      "RangeIndex: 1023 entries, 0 to 1022\n",
      "Data columns (total 12 columns):\n",
      " #   Column             Non-Null Count  Dtype  \n",
      "---  ------             --------------  -----  \n",
      " 0   id                 1023 non-null   int64  \n",
      " 1   gender             1023 non-null   object \n",
      " 2   age                1023 non-null   float64\n",
      " 3   hypertension       1023 non-null   int64  \n",
      " 4   heart_disease      1023 non-null   int64  \n",
      " 5   ever_married       1023 non-null   object \n",
      " 6   work_type          1023 non-null   object \n",
      " 7   Residence_type     1023 non-null   object \n",
      " 8   avg_glucose_level  1023 non-null   float64\n",
      " 9   bmi                987 non-null    float64\n",
      " 10  smoking_status     1023 non-null   object \n",
      " 11  stroke             1023 non-null   int64  \n",
      "dtypes: float64(3), int64(4), object(5)\n",
      "memory usage: 96.0+ KB\n"
     ]
    }
   ],
   "source": [
    "test.info()"
   ]
  },
  {
   "cell_type": "markdown",
   "metadata": {},
   "source": [
    "## 문제 1. \n",
    "‘bmi(bmi 지수)’ 변수를 numeric 자료형으로 바꾸고, NA값을 mean imputation으로 채우세요"
   ]
  },
  {
   "cell_type": "code",
   "execution_count": 4,
   "metadata": {},
   "outputs": [],
   "source": [
    "from sklearn.impute import SimpleImputer\n",
    "imputer = SimpleImputer(strategy='mean')\n",
    "bmi = data['bmi'].values.reshape(-1,1)\n",
    "data['bmi'] = imputer.fit_transform(bmi)"
   ]
  },
  {
   "cell_type": "code",
   "execution_count": 5,
   "metadata": {},
   "outputs": [
    {
     "data": {
      "text/plain": [
       "0"
      ]
     },
     "execution_count": 5,
     "metadata": {},
     "output_type": "execute_result"
    }
   ],
   "source": [
    "data['bmi'].isnull().sum()"
   ]
  },
  {
   "cell_type": "markdown",
   "metadata": {},
   "source": [
    "## 문제 2.\n",
    "문자형(character) 변수를 명목형 변수(factor)로 바꾸세요.\n"
   ]
  },
  {
   "cell_type": "code",
   "execution_count": 6,
   "metadata": {},
   "outputs": [
    {
     "name": "stdout",
     "output_type": "stream",
     "text": [
      "<class 'pandas.core.frame.DataFrame'>\n",
      "RangeIndex: 4087 entries, 0 to 4086\n",
      "Data columns (total 12 columns):\n",
      " #   Column             Non-Null Count  Dtype  \n",
      "---  ------             --------------  -----  \n",
      " 0   id                 4087 non-null   int64  \n",
      " 1   gender             4087 non-null   object \n",
      " 2   age                4087 non-null   float64\n",
      " 3   hypertension       4087 non-null   int64  \n",
      " 4   heart_disease      4087 non-null   int64  \n",
      " 5   ever_married       4087 non-null   object \n",
      " 6   work_type          4087 non-null   object \n",
      " 7   Residence_type     4087 non-null   object \n",
      " 8   avg_glucose_level  4087 non-null   float64\n",
      " 9   bmi                4087 non-null   float64\n",
      " 10  smoking_status     4087 non-null   object \n",
      " 11  stroke             4087 non-null   int64  \n",
      "dtypes: float64(3), int64(4), object(5)\n",
      "memory usage: 383.3+ KB\n"
     ]
    }
   ],
   "source": [
    "data.info()"
   ]
  },
  {
   "cell_type": "code",
   "execution_count": 7,
   "metadata": {},
   "outputs": [],
   "source": [
    "char_cols = [i for i in data if data[i].dtype == object]\n",
    "for i in char_cols:\n",
    "    data[i] = data[i].astype('category')"
   ]
  },
  {
   "cell_type": "code",
   "execution_count": 8,
   "metadata": {},
   "outputs": [
    {
     "name": "stdout",
     "output_type": "stream",
     "text": [
      "<class 'pandas.core.frame.DataFrame'>\n",
      "RangeIndex: 4087 entries, 0 to 4086\n",
      "Data columns (total 12 columns):\n",
      " #   Column             Non-Null Count  Dtype   \n",
      "---  ------             --------------  -----   \n",
      " 0   id                 4087 non-null   int64   \n",
      " 1   gender             4087 non-null   category\n",
      " 2   age                4087 non-null   float64 \n",
      " 3   hypertension       4087 non-null   int64   \n",
      " 4   heart_disease      4087 non-null   int64   \n",
      " 5   ever_married       4087 non-null   category\n",
      " 6   work_type          4087 non-null   category\n",
      " 7   Residence_type     4087 non-null   category\n",
      " 8   avg_glucose_level  4087 non-null   float64 \n",
      " 9   bmi                4087 non-null   float64 \n",
      " 10  smoking_status     4087 non-null   category\n",
      " 11  stroke             4087 non-null   int64   \n",
      "dtypes: category(5), float64(3), int64(4)\n",
      "memory usage: 244.4 KB\n"
     ]
    }
   ],
   "source": [
    "data.info()"
   ]
  },
  {
   "cell_type": "markdown",
   "metadata": {},
   "source": [
    "## 문제 3. \n",
    "‘id’ 변수를 제거하세요"
   ]
  },
  {
   "cell_type": "code",
   "execution_count": 9,
   "metadata": {},
   "outputs": [],
   "source": [
    "data = data.drop('id', axis=1)"
   ]
  },
  {
   "cell_type": "markdown",
   "metadata": {},
   "source": [
    "## 문제 4. \n",
    "타겟(stoke)값 별로 범주형 변수의 분포를 다음과 같이 시각화 하고, 간단히 해석해보세요.\n",
    "(gather, gridExtra 패키지 내 함수 이용).\n"
   ]
  },
  {
   "cell_type": "code",
   "execution_count": 10,
   "metadata": {},
   "outputs": [],
   "source": [
    "import matplotlib.pyplot as plt\n",
    "import seaborn as sns\n",
    "import warnings\n",
    "warnings.filterwarnings(\"ignore\")"
   ]
  },
  {
   "cell_type": "code",
   "execution_count": 11,
   "metadata": {
    "scrolled": true
   },
   "outputs": [
    {
     "data": {
      "image/png": "[encoded data removed]",
      "text/plain": [
       "<Figure size 1440x576 with 2 Axes>"
      ]
     },
     "metadata": {
      "needs_background": "light"
     },
     "output_type": "display_data"
    }
   ],
   "source": [
    "cat_cols=['work_type','smoking_status','Residence_type','hypertension','heart_disease','gender','ever_married']\n",
    "clr = sns.color_palette('pastel')\n",
    "fig, ax = plt.subplots(1,2, figsize=(20,8))\n",
    "stroke1 = pd.melt(data[data['stroke']==1][cat_cols])\n",
    "stroke0 = pd.melt(data[data['stroke']==0][cat_cols])\n",
    "pd.crosstab(stroke1['variable'], stroke1['value']).plot.barh(stacked=True, ax=ax[0], color=clr, title=\"Stroke = 1\")\n",
    "pd.crosstab(stroke0['variable'], stroke0['value']).plot.barh(stacked=True, ax=ax[1], color=clr, title=\"Stroke = 0\")\n",
    "ax[0].legend(bbox_to_anchor=(0.9,-0.1),ncol=4)\n",
    "ax[1].legend(bbox_to_anchor=(1.1,-0.1),ncol=5)\n",
    "for i in range(2):\n",
    "    ax[i].spines['top'].set_visible(False)\n",
    "    ax[i].spines['right'].set_visible(False)"
   ]
  },
  {
   "cell_type": "markdown",
   "metadata": {},
   "source": [
    "## 문제 5.\n",
    "타겟(stoke)값 별로 수치형 변수의 분포를 다음과 같이 시각화 하고, 간단히 해석해보세요.\n",
    "(gather, gridExtra 패키지 내 함수 이용).\n"
   ]
  },
  {
   "cell_type": "code",
   "execution_count": 12,
   "metadata": {},
   "outputs": [
    {
     "data": {
      "image/png": "[encoded data removed]",
      "text/plain": [
       "<Figure size 720x360 with 2 Axes>"
      ]
     },
     "metadata": {
      "needs_background": "light"
     },
     "output_type": "display_data"
    }
   ],
   "source": [
    "num_cols=['age', 'avg_glucose_level', 'bmi']\n",
    "clr = ['r','g','b']\n",
    "sns.set_palette(sns.color_palette(clr))\n",
    "fig, ax = plt.subplots(2,1,figsize=(10,5))\n",
    "stroke1 = data[data['stroke']==1][num_cols]\n",
    "stroke0 = data[data['stroke']==0][num_cols]\n",
    "for i in num_cols:\n",
    "    sns.kdeplot(data=stroke1, x=i, ax=ax[0], label=i)\n",
    "    sns.kdeplot(data=stroke0, x=i, ax=ax[1], label=i)\n",
    "for i in range(2):\n",
    "    ax[i].legend()\n",
    "    ax[i].spines['top'].set_visible(False)\n",
    "    ax[i].spines['right'].set_visible(False)"
   ]
  },
  {
   "cell_type": "markdown",
   "metadata": {},
   "source": [
    "## 문제 6.\n",
    "타겟 변수와 범주형 변수에 대한 카이스퀘어 독립성 검정을 진행하고 다음과 같이 출력하세요. \n",
    "(데이터프레임을 만든 후, for 문으로 독립성 검정을 진행하여 chi 변수에 검정 결과를 넣으세요.)"
   ]
  },
  {
   "cell_type": "code",
   "execution_count": 13,
   "metadata": {},
   "outputs": [],
   "source": [
    "from scipy.stats import chi2_contingency"
   ]
  },
  {
   "cell_type": "code",
   "execution_count": 14,
   "metadata": {},
   "outputs": [
    {
     "data": {
      "text/html": [
       "<div>\n",
       "<style scoped>\n",
       "    .dataframe tbody tr th:only-of-type {\n",
       "        vertical-align: middle;\n",
       "    }\n",
       "\n",
       "    .dataframe tbody tr th {\n",
       "        vertical-align: top;\n",
       "    }\n",
       "\n",
       "    .dataframe thead th {\n",
       "        text-align: right;\n",
       "    }\n",
       "</style>\n",
       "<table border=\"1\" class=\"dataframe\">\n",
       "  <thead>\n",
       "    <tr style=\"text-align: right;\">\n",
       "      <th></th>\n",
       "      <th>cate_var</th>\n",
       "      <th>chi</th>\n",
       "    </tr>\n",
       "  </thead>\n",
       "  <tbody>\n",
       "    <tr>\n",
       "      <th>0</th>\n",
       "      <td>work_type</td>\n",
       "      <td>NA</td>\n",
       "    </tr>\n",
       "    <tr>\n",
       "      <th>1</th>\n",
       "      <td>smoking_status</td>\n",
       "      <td>NA</td>\n",
       "    </tr>\n",
       "    <tr>\n",
       "      <th>2</th>\n",
       "      <td>Residence_type</td>\n",
       "      <td>NA</td>\n",
       "    </tr>\n",
       "    <tr>\n",
       "      <th>3</th>\n",
       "      <td>hypertension</td>\n",
       "      <td>NA</td>\n",
       "    </tr>\n",
       "    <tr>\n",
       "      <th>4</th>\n",
       "      <td>heart_disease</td>\n",
       "      <td>NA</td>\n",
       "    </tr>\n",
       "    <tr>\n",
       "      <th>5</th>\n",
       "      <td>gender</td>\n",
       "      <td>NA</td>\n",
       "    </tr>\n",
       "    <tr>\n",
       "      <th>6</th>\n",
       "      <td>ever_married</td>\n",
       "      <td>NA</td>\n",
       "    </tr>\n",
       "  </tbody>\n",
       "</table>\n",
       "</div>"
      ],
      "text/plain": [
       "         cate_var chi\n",
       "0       work_type  NA\n",
       "1  smoking_status  NA\n",
       "2  Residence_type  NA\n",
       "3    hypertension  NA\n",
       "4   heart_disease  NA\n",
       "5          gender  NA\n",
       "6    ever_married  NA"
      ]
     },
     "execution_count": 14,
     "metadata": {},
     "output_type": "execute_result"
    }
   ],
   "source": [
    "chi_df = pd.DataFrame({\"cate_var\":cat_cols, \"chi\": \"NA\"})\n",
    "chi_df"
   ]
  },
  {
   "cell_type": "code",
   "execution_count": 15,
   "metadata": {},
   "outputs": [
    {
     "data": {
      "text/html": [
       "<div>\n",
       "<style scoped>\n",
       "    .dataframe tbody tr th:only-of-type {\n",
       "        vertical-align: middle;\n",
       "    }\n",
       "\n",
       "    .dataframe tbody tr th {\n",
       "        vertical-align: top;\n",
       "    }\n",
       "\n",
       "    .dataframe thead th {\n",
       "        text-align: right;\n",
       "    }\n",
       "</style>\n",
       "<table border=\"1\" class=\"dataframe\">\n",
       "  <thead>\n",
       "    <tr style=\"text-align: right;\">\n",
       "      <th></th>\n",
       "      <th>cate_var</th>\n",
       "      <th>chi</th>\n",
       "    </tr>\n",
       "  </thead>\n",
       "  <tbody>\n",
       "    <tr>\n",
       "      <th>0</th>\n",
       "      <td>work_type</td>\n",
       "      <td>0.0</td>\n",
       "    </tr>\n",
       "    <tr>\n",
       "      <th>1</th>\n",
       "      <td>smoking_status</td>\n",
       "      <td>0.000078</td>\n",
       "    </tr>\n",
       "    <tr>\n",
       "      <th>2</th>\n",
       "      <td>Residence_type</td>\n",
       "      <td>0.09553</td>\n",
       "    </tr>\n",
       "    <tr>\n",
       "      <th>3</th>\n",
       "      <td>hypertension</td>\n",
       "      <td>0.0</td>\n",
       "    </tr>\n",
       "    <tr>\n",
       "      <th>4</th>\n",
       "      <td>heart_disease</td>\n",
       "      <td>0.0</td>\n",
       "    </tr>\n",
       "    <tr>\n",
       "      <th>5</th>\n",
       "      <td>gender</td>\n",
       "      <td>0.83015</td>\n",
       "    </tr>\n",
       "    <tr>\n",
       "      <th>6</th>\n",
       "      <td>ever_married</td>\n",
       "      <td>0.0</td>\n",
       "    </tr>\n",
       "  </tbody>\n",
       "</table>\n",
       "</div>"
      ],
      "text/plain": [
       "         cate_var       chi\n",
       "0       work_type       0.0\n",
       "1  smoking_status  0.000078\n",
       "2  Residence_type   0.09553\n",
       "3    hypertension       0.0\n",
       "4   heart_disease       0.0\n",
       "5          gender   0.83015\n",
       "6    ever_married       0.0"
      ]
     },
     "execution_count": 15,
     "metadata": {},
     "output_type": "execute_result"
    }
   ],
   "source": [
    "for n,i in enumerate(cat_cols):\n",
    "    tmp = pd.crosstab(data[i], data[\"stroke\"])\n",
    "    chi_df.iloc[n]['chi'] = chi2_contingency(tmp)[1]\n",
    "chi_df"
   ]
  },
  {
   "cell_type": "markdown",
   "metadata": {},
   "source": [
    "## 문제 7. \n",
    "카이스퀘어 독립성 검정에서 가설을 기각하지 못한 범주형 변수를 제거하세요."
   ]
  },
  {
   "cell_type": "code",
   "execution_count": 16,
   "metadata": {},
   "outputs": [],
   "source": [
    "drop_col = []\n",
    "for i in range(len(cat_cols)):\n",
    "    if chi_df.iloc[i]['chi'] > 0.05:\n",
    "        drop_col.append(chi_df.iloc[i]['cate_var'])\n",
    "data = data.drop(columns=drop_col)"
   ]
  },
  {
   "cell_type": "code",
   "execution_count": 17,
   "metadata": {},
   "outputs": [
    {
     "data": {
      "text/html": [
       "<div>\n",
       "<style scoped>\n",
       "    .dataframe tbody tr th:only-of-type {\n",
       "        vertical-align: middle;\n",
       "    }\n",
       "\n",
       "    .dataframe tbody tr th {\n",
       "        vertical-align: top;\n",
       "    }\n",
       "\n",
       "    .dataframe thead th {\n",
       "        text-align: right;\n",
       "    }\n",
       "</style>\n",
       "<table border=\"1\" class=\"dataframe\">\n",
       "  <thead>\n",
       "    <tr style=\"text-align: right;\">\n",
       "      <th></th>\n",
       "      <th>age</th>\n",
       "      <th>hypertension</th>\n",
       "      <th>heart_disease</th>\n",
       "      <th>ever_married</th>\n",
       "      <th>work_type</th>\n",
       "      <th>avg_glucose_level</th>\n",
       "      <th>bmi</th>\n",
       "      <th>smoking_status</th>\n",
       "      <th>stroke</th>\n",
       "    </tr>\n",
       "  </thead>\n",
       "  <tbody>\n",
       "    <tr>\n",
       "      <th>0</th>\n",
       "      <td>67.0</td>\n",
       "      <td>0</td>\n",
       "      <td>1</td>\n",
       "      <td>Yes</td>\n",
       "      <td>Private</td>\n",
       "      <td>228.69</td>\n",
       "      <td>36.600000</td>\n",
       "      <td>formerly smoked</td>\n",
       "      <td>1</td>\n",
       "    </tr>\n",
       "    <tr>\n",
       "      <th>1</th>\n",
       "      <td>61.0</td>\n",
       "      <td>0</td>\n",
       "      <td>0</td>\n",
       "      <td>Yes</td>\n",
       "      <td>Self-employed</td>\n",
       "      <td>202.21</td>\n",
       "      <td>28.827817</td>\n",
       "      <td>never smoked</td>\n",
       "      <td>1</td>\n",
       "    </tr>\n",
       "    <tr>\n",
       "      <th>2</th>\n",
       "      <td>80.0</td>\n",
       "      <td>0</td>\n",
       "      <td>1</td>\n",
       "      <td>Yes</td>\n",
       "      <td>Private</td>\n",
       "      <td>105.92</td>\n",
       "      <td>32.500000</td>\n",
       "      <td>never smoked</td>\n",
       "      <td>1</td>\n",
       "    </tr>\n",
       "    <tr>\n",
       "      <th>3</th>\n",
       "      <td>49.0</td>\n",
       "      <td>0</td>\n",
       "      <td>0</td>\n",
       "      <td>Yes</td>\n",
       "      <td>Private</td>\n",
       "      <td>171.23</td>\n",
       "      <td>34.400000</td>\n",
       "      <td>smokes</td>\n",
       "      <td>1</td>\n",
       "    </tr>\n",
       "    <tr>\n",
       "      <th>4</th>\n",
       "      <td>79.0</td>\n",
       "      <td>1</td>\n",
       "      <td>0</td>\n",
       "      <td>Yes</td>\n",
       "      <td>Self-employed</td>\n",
       "      <td>174.12</td>\n",
       "      <td>24.000000</td>\n",
       "      <td>never smoked</td>\n",
       "      <td>1</td>\n",
       "    </tr>\n",
       "    <tr>\n",
       "      <th>...</th>\n",
       "      <td>...</td>\n",
       "      <td>...</td>\n",
       "      <td>...</td>\n",
       "      <td>...</td>\n",
       "      <td>...</td>\n",
       "      <td>...</td>\n",
       "      <td>...</td>\n",
       "      <td>...</td>\n",
       "      <td>...</td>\n",
       "    </tr>\n",
       "    <tr>\n",
       "      <th>4082</th>\n",
       "      <td>80.0</td>\n",
       "      <td>1</td>\n",
       "      <td>0</td>\n",
       "      <td>Yes</td>\n",
       "      <td>Private</td>\n",
       "      <td>83.75</td>\n",
       "      <td>28.827817</td>\n",
       "      <td>never smoked</td>\n",
       "      <td>0</td>\n",
       "    </tr>\n",
       "    <tr>\n",
       "      <th>4083</th>\n",
       "      <td>81.0</td>\n",
       "      <td>0</td>\n",
       "      <td>0</td>\n",
       "      <td>Yes</td>\n",
       "      <td>Self-employed</td>\n",
       "      <td>125.20</td>\n",
       "      <td>40.000000</td>\n",
       "      <td>never smoked</td>\n",
       "      <td>0</td>\n",
       "    </tr>\n",
       "    <tr>\n",
       "      <th>4084</th>\n",
       "      <td>35.0</td>\n",
       "      <td>0</td>\n",
       "      <td>0</td>\n",
       "      <td>Yes</td>\n",
       "      <td>Self-employed</td>\n",
       "      <td>82.99</td>\n",
       "      <td>30.600000</td>\n",
       "      <td>never smoked</td>\n",
       "      <td>0</td>\n",
       "    </tr>\n",
       "    <tr>\n",
       "      <th>4085</th>\n",
       "      <td>51.0</td>\n",
       "      <td>0</td>\n",
       "      <td>0</td>\n",
       "      <td>Yes</td>\n",
       "      <td>Private</td>\n",
       "      <td>166.29</td>\n",
       "      <td>25.600000</td>\n",
       "      <td>formerly smoked</td>\n",
       "      <td>0</td>\n",
       "    </tr>\n",
       "    <tr>\n",
       "      <th>4086</th>\n",
       "      <td>44.0</td>\n",
       "      <td>0</td>\n",
       "      <td>0</td>\n",
       "      <td>Yes</td>\n",
       "      <td>Govt_job</td>\n",
       "      <td>85.28</td>\n",
       "      <td>26.200000</td>\n",
       "      <td>Unknown</td>\n",
       "      <td>0</td>\n",
       "    </tr>\n",
       "  </tbody>\n",
       "</table>\n",
       "<p>4087 rows × 9 columns</p>\n",
       "</div>"
      ],
      "text/plain": [
       "       age  hypertension  heart_disease ever_married      work_type  \\\n",
       "0     67.0             0              1          Yes        Private   \n",
       "1     61.0             0              0          Yes  Self-employed   \n",
       "2     80.0             0              1          Yes        Private   \n",
       "3     49.0             0              0          Yes        Private   \n",
       "4     79.0             1              0          Yes  Self-employed   \n",
       "...    ...           ...            ...          ...            ...   \n",
       "4082  80.0             1              0          Yes        Private   \n",
       "4083  81.0             0              0          Yes  Self-employed   \n",
       "4084  35.0             0              0          Yes  Self-employed   \n",
       "4085  51.0             0              0          Yes        Private   \n",
       "4086  44.0             0              0          Yes       Govt_job   \n",
       "\n",
       "      avg_glucose_level        bmi   smoking_status  stroke  \n",
       "0                228.69  36.600000  formerly smoked       1  \n",
       "1                202.21  28.827817     never smoked       1  \n",
       "2                105.92  32.500000     never smoked       1  \n",
       "3                171.23  34.400000           smokes       1  \n",
       "4                174.12  24.000000     never smoked       1  \n",
       "...                 ...        ...              ...     ...  \n",
       "4082              83.75  28.827817     never smoked       0  \n",
       "4083             125.20  40.000000     never smoked       0  \n",
       "4084              82.99  30.600000     never smoked       0  \n",
       "4085             166.29  25.600000  formerly smoked       0  \n",
       "4086              85.28  26.200000          Unknown       0  \n",
       "\n",
       "[4087 rows x 9 columns]"
      ]
     },
     "execution_count": 17,
     "metadata": {},
     "output_type": "execute_result"
    }
   ],
   "source": [
    "data"
   ]
  },
  {
   "cell_type": "markdown",
   "metadata": {},
   "source": [
    "## 문제 8.\n",
    "train data에서 했던 전처리 방법들을 사용하여 전처리 하세요"
   ]
  },
  {
   "cell_type": "code",
   "execution_count": 18,
   "metadata": {},
   "outputs": [],
   "source": [
    "imputer = SimpleImputer(strategy='mean')\n",
    "bmi = test['bmi'].values.reshape(-1,1)\n",
    "test['bmi'] = imputer.fit_transform(bmi)"
   ]
  },
  {
   "cell_type": "code",
   "execution_count": 19,
   "metadata": {},
   "outputs": [
    {
     "name": "stdout",
     "output_type": "stream",
     "text": [
      "<class 'pandas.core.frame.DataFrame'>\n",
      "RangeIndex: 1023 entries, 0 to 1022\n",
      "Data columns (total 12 columns):\n",
      " #   Column             Non-Null Count  Dtype   \n",
      "---  ------             --------------  -----   \n",
      " 0   id                 1023 non-null   int64   \n",
      " 1   gender             1023 non-null   category\n",
      " 2   age                1023 non-null   float64 \n",
      " 3   hypertension       1023 non-null   int64   \n",
      " 4   heart_disease      1023 non-null   int64   \n",
      " 5   ever_married       1023 non-null   category\n",
      " 6   work_type          1023 non-null   category\n",
      " 7   Residence_type     1023 non-null   category\n",
      " 8   avg_glucose_level  1023 non-null   float64 \n",
      " 9   bmi                1023 non-null   float64 \n",
      " 10  smoking_status     1023 non-null   category\n",
      " 11  stroke             1023 non-null   int64   \n",
      "dtypes: category(5), float64(3), int64(4)\n",
      "memory usage: 61.8 KB\n"
     ]
    }
   ],
   "source": [
    "char_cols = [i for i in test if test[i].dtype == object]\n",
    "for i in char_cols:\n",
    "    test[i] = test[i].astype('category')\n",
    "test.info()"
   ]
  },
  {
   "cell_type": "code",
   "execution_count": 20,
   "metadata": {},
   "outputs": [
    {
     "data": {
      "text/html": [
       "<div>\n",
       "<style scoped>\n",
       "    .dataframe tbody tr th:only-of-type {\n",
       "        vertical-align: middle;\n",
       "    }\n",
       "\n",
       "    .dataframe tbody tr th {\n",
       "        vertical-align: top;\n",
       "    }\n",
       "\n",
       "    .dataframe thead th {\n",
       "        text-align: right;\n",
       "    }\n",
       "</style>\n",
       "<table border=\"1\" class=\"dataframe\">\n",
       "  <thead>\n",
       "    <tr style=\"text-align: right;\">\n",
       "      <th></th>\n",
       "      <th>age</th>\n",
       "      <th>hypertension</th>\n",
       "      <th>heart_disease</th>\n",
       "      <th>ever_married</th>\n",
       "      <th>work_type</th>\n",
       "      <th>avg_glucose_level</th>\n",
       "      <th>bmi</th>\n",
       "      <th>smoking_status</th>\n",
       "      <th>stroke</th>\n",
       "    </tr>\n",
       "  </thead>\n",
       "  <tbody>\n",
       "    <tr>\n",
       "      <th>0</th>\n",
       "      <td>81.0</td>\n",
       "      <td>0</td>\n",
       "      <td>0</td>\n",
       "      <td>Yes</td>\n",
       "      <td>Private</td>\n",
       "      <td>186.21</td>\n",
       "      <td>29.000000</td>\n",
       "      <td>formerly smoked</td>\n",
       "      <td>1</td>\n",
       "    </tr>\n",
       "    <tr>\n",
       "      <th>1</th>\n",
       "      <td>50.0</td>\n",
       "      <td>1</td>\n",
       "      <td>0</td>\n",
       "      <td>Yes</td>\n",
       "      <td>Self-employed</td>\n",
       "      <td>167.41</td>\n",
       "      <td>30.900000</td>\n",
       "      <td>never smoked</td>\n",
       "      <td>1</td>\n",
       "    </tr>\n",
       "    <tr>\n",
       "      <th>2</th>\n",
       "      <td>52.0</td>\n",
       "      <td>1</td>\n",
       "      <td>0</td>\n",
       "      <td>Yes</td>\n",
       "      <td>Self-employed</td>\n",
       "      <td>233.29</td>\n",
       "      <td>48.900000</td>\n",
       "      <td>never smoked</td>\n",
       "      <td>1</td>\n",
       "    </tr>\n",
       "    <tr>\n",
       "      <th>3</th>\n",
       "      <td>65.0</td>\n",
       "      <td>0</td>\n",
       "      <td>0</td>\n",
       "      <td>Yes</td>\n",
       "      <td>Private</td>\n",
       "      <td>100.98</td>\n",
       "      <td>28.200000</td>\n",
       "      <td>formerly smoked</td>\n",
       "      <td>1</td>\n",
       "    </tr>\n",
       "    <tr>\n",
       "      <th>4</th>\n",
       "      <td>59.0</td>\n",
       "      <td>0</td>\n",
       "      <td>0</td>\n",
       "      <td>Yes</td>\n",
       "      <td>Private</td>\n",
       "      <td>211.78</td>\n",
       "      <td>29.153191</td>\n",
       "      <td>formerly smoked</td>\n",
       "      <td>1</td>\n",
       "    </tr>\n",
       "  </tbody>\n",
       "</table>\n",
       "</div>"
      ],
      "text/plain": [
       "    age  hypertension  heart_disease ever_married      work_type  \\\n",
       "0  81.0             0              0          Yes        Private   \n",
       "1  50.0             1              0          Yes  Self-employed   \n",
       "2  52.0             1              0          Yes  Self-employed   \n",
       "3  65.0             0              0          Yes        Private   \n",
       "4  59.0             0              0          Yes        Private   \n",
       "\n",
       "   avg_glucose_level        bmi   smoking_status  stroke  \n",
       "0             186.21  29.000000  formerly smoked       1  \n",
       "1             167.41  30.900000     never smoked       1  \n",
       "2             233.29  48.900000     never smoked       1  \n",
       "3             100.98  28.200000  formerly smoked       1  \n",
       "4             211.78  29.153191  formerly smoked       1  "
      ]
     },
     "execution_count": 20,
     "metadata": {},
     "output_type": "execute_result"
    }
   ],
   "source": [
    "test = test.drop(columns=drop_col)\n",
    "test = test.drop(columns=['id'])\n",
    "test.head()"
   ]
  },
  {
   "cell_type": "markdown",
   "metadata": {},
   "source": [
    "# Chapter 2. Catboost\n",
    "## 문제 0.\n",
    "Catboost 모델의 특성 및 대표적인 파라미터에 대해 간단히 설명하세요\n",
    "\n",
    "decision tree에서 gradient boosting을 기반으로 하는 머신러닝 방법\n",
    "level-wise하게 트리를 만든다. (BFS처럼)\n",
    "\n",
    "숫자형 피쳐와 범주형 피쳐를 모두 지원한다\n",
    "\n",
    "max_depth - 트리 깊이\n",
    "\n",
    "learning_rate - 학습률(step size)\n",
    "\n",
    "n_estimators - 트리의 수\n",
    "\n",
    "loss_function - 손실함수\n",
    "\n",
    "eval_metric - 평가척도"
   ]
  },
  {
   "cell_type": "markdown",
   "metadata": {},
   "source": [
    "## 문제 1.\n",
    "expand.grid를 사용하여 다음과 같은 데이터 프레임을 만드세요. (데이터 프레임명: logloss_cb)"
   ]
  },
  {
   "cell_type": "code",
   "execution_count": 21,
   "metadata": {},
   "outputs": [
    {
     "data": {
      "text/html": [
       "<div>\n",
       "<style scoped>\n",
       "    .dataframe tbody tr th:only-of-type {\n",
       "        vertical-align: middle;\n",
       "    }\n",
       "\n",
       "    .dataframe tbody tr th {\n",
       "        vertical-align: top;\n",
       "    }\n",
       "\n",
       "    .dataframe thead th {\n",
       "        text-align: right;\n",
       "    }\n",
       "</style>\n",
       "<table border=\"1\" class=\"dataframe\">\n",
       "  <thead>\n",
       "    <tr style=\"text-align: right;\">\n",
       "      <th></th>\n",
       "      <th>depth</th>\n",
       "      <th>iterations</th>\n",
       "      <th>logloss</th>\n",
       "    </tr>\n",
       "  </thead>\n",
       "  <tbody>\n",
       "    <tr>\n",
       "      <th>0</th>\n",
       "      <td>4</td>\n",
       "      <td>100</td>\n",
       "      <td>NA</td>\n",
       "    </tr>\n",
       "    <tr>\n",
       "      <th>1</th>\n",
       "      <td>4</td>\n",
       "      <td>200</td>\n",
       "      <td>NA</td>\n",
       "    </tr>\n",
       "    <tr>\n",
       "      <th>2</th>\n",
       "      <td>6</td>\n",
       "      <td>100</td>\n",
       "      <td>NA</td>\n",
       "    </tr>\n",
       "    <tr>\n",
       "      <th>3</th>\n",
       "      <td>6</td>\n",
       "      <td>200</td>\n",
       "      <td>NA</td>\n",
       "    </tr>\n",
       "    <tr>\n",
       "      <th>4</th>\n",
       "      <td>8</td>\n",
       "      <td>100</td>\n",
       "      <td>NA</td>\n",
       "    </tr>\n",
       "    <tr>\n",
       "      <th>5</th>\n",
       "      <td>8</td>\n",
       "      <td>200</td>\n",
       "      <td>NA</td>\n",
       "    </tr>\n",
       "  </tbody>\n",
       "</table>\n",
       "</div>"
      ],
      "text/plain": [
       "   depth  iterations logloss\n",
       "0      4         100      NA\n",
       "1      4         200      NA\n",
       "2      6         100      NA\n",
       "3      6         200      NA\n",
       "4      8         100      NA\n",
       "5      8         200      NA"
      ]
     },
     "execution_count": 21,
     "metadata": {},
     "output_type": "execute_result"
    }
   ],
   "source": [
    "from itertools import product\n",
    "depth=[4,6,8]\n",
    "iterations=[100,200]\n",
    "x=list(product(depth, iterations))\n",
    "c={'depth':[i[0] for i in x],'iterations':[i[1] for i in x], 'logloss':'NA'}\n",
    "logloss_cb=pd.DataFrame(c)\n",
    "logloss_cb"
   ]
  },
  {
   "cell_type": "markdown",
   "metadata": {},
   "source": [
    "## 문제 2.\n",
    "Catboost에 대해 depth와 iteration 파라미터 튜닝을 위한 grid search 5-fold CV를 진행하세요"
   ]
  },
  {
   "cell_type": "code",
   "execution_count": 22,
   "metadata": {},
   "outputs": [],
   "source": [
    "import catboost as cb\n",
    "import time\n"
   ]
  },
  {
   "cell_type": "code",
   "execution_count": 23,
   "metadata": {},
   "outputs": [],
   "source": [
    "cat_cols = ['ever_married', 'work_type', 'smoking_status', 'hypertension', 'heart_disease']\n",
    "pool_data = cb.Pool(data.iloc[:,:-1], label=data['stroke'], cat_features = [1,2,3,4,7])"
   ]
  },
  {
   "cell_type": "code",
   "execution_count": 24,
   "metadata": {},
   "outputs": [
    {
     "name": "stdout",
     "output_type": "stream",
     "text": [
      "총 160.0 초\n"
     ]
    }
   ],
   "source": [
    "from catboost import cv\n",
    "\n",
    "param={'depth':depth, 'iterations': iterations}\n",
    "start = time.time()\n",
    "loss_list = []\n",
    "for i in depth:\n",
    "    for j in iterations:\n",
    "        params={'depth':i, 'iterations':j, 'loss_function':'Logloss'}\n",
    "        result = cv(pool_data, params, verbose=False, fold_count=5, partition_random_seed=1234)\n",
    "        loss = result['test-Logloss-mean'].min()\n",
    "        loss_list.append(round(loss,4))\n",
    "        \n",
    "end = time.time()\n",
    "print(f'총 {end-start:.1f} 초')"
   ]
  },
  {
   "cell_type": "code",
   "execution_count": 25,
   "metadata": {},
   "outputs": [
    {
     "data": {
      "text/html": [
       "<div>\n",
       "<style scoped>\n",
       "    .dataframe tbody tr th:only-of-type {\n",
       "        vertical-align: middle;\n",
       "    }\n",
       "\n",
       "    .dataframe tbody tr th {\n",
       "        vertical-align: top;\n",
       "    }\n",
       "\n",
       "    .dataframe thead th {\n",
       "        text-align: right;\n",
       "    }\n",
       "</style>\n",
       "<table border=\"1\" class=\"dataframe\">\n",
       "  <thead>\n",
       "    <tr style=\"text-align: right;\">\n",
       "      <th></th>\n",
       "      <th>depth</th>\n",
       "      <th>iterations</th>\n",
       "      <th>logloss</th>\n",
       "    </tr>\n",
       "  </thead>\n",
       "  <tbody>\n",
       "    <tr>\n",
       "      <th>0</th>\n",
       "      <td>4</td>\n",
       "      <td>100</td>\n",
       "      <td>0.1589</td>\n",
       "    </tr>\n",
       "    <tr>\n",
       "      <th>1</th>\n",
       "      <td>4</td>\n",
       "      <td>200</td>\n",
       "      <td>0.1573</td>\n",
       "    </tr>\n",
       "    <tr>\n",
       "      <th>2</th>\n",
       "      <td>6</td>\n",
       "      <td>100</td>\n",
       "      <td>0.1579</td>\n",
       "    </tr>\n",
       "    <tr>\n",
       "      <th>3</th>\n",
       "      <td>6</td>\n",
       "      <td>200</td>\n",
       "      <td>0.1570</td>\n",
       "    </tr>\n",
       "    <tr>\n",
       "      <th>4</th>\n",
       "      <td>8</td>\n",
       "      <td>100</td>\n",
       "      <td>0.1575</td>\n",
       "    </tr>\n",
       "    <tr>\n",
       "      <th>5</th>\n",
       "      <td>8</td>\n",
       "      <td>200</td>\n",
       "      <td>0.1576</td>\n",
       "    </tr>\n",
       "  </tbody>\n",
       "</table>\n",
       "</div>"
      ],
      "text/plain": [
       "   depth  iterations  logloss\n",
       "0      4         100   0.1589\n",
       "1      4         200   0.1573\n",
       "2      6         100   0.1579\n",
       "3      6         200   0.1570\n",
       "4      8         100   0.1575\n",
       "5      8         200   0.1576"
      ]
     },
     "execution_count": 25,
     "metadata": {},
     "output_type": "execute_result"
    }
   ],
   "source": [
    "logloss_cb['logloss'] = loss_list\n",
    "logloss_cb"
   ]
  },
  {
   "cell_type": "markdown",
   "metadata": {},
   "source": [
    "## 문제 3.\n",
    "logloss_cb에서 가장 낮은 logloss 값의 행을 출력하세요"
   ]
  },
  {
   "cell_type": "code",
   "execution_count": 26,
   "metadata": {},
   "outputs": [
    {
     "data": {
      "text/html": [
       "<div>\n",
       "<style scoped>\n",
       "    .dataframe tbody tr th:only-of-type {\n",
       "        vertical-align: middle;\n",
       "    }\n",
       "\n",
       "    .dataframe tbody tr th {\n",
       "        vertical-align: top;\n",
       "    }\n",
       "\n",
       "    .dataframe thead th {\n",
       "        text-align: right;\n",
       "    }\n",
       "</style>\n",
       "<table border=\"1\" class=\"dataframe\">\n",
       "  <thead>\n",
       "    <tr style=\"text-align: right;\">\n",
       "      <th></th>\n",
       "      <th>depth</th>\n",
       "      <th>iterations</th>\n",
       "      <th>logloss</th>\n",
       "    </tr>\n",
       "  </thead>\n",
       "  <tbody>\n",
       "    <tr>\n",
       "      <th>3</th>\n",
       "      <td>6</td>\n",
       "      <td>200</td>\n",
       "      <td>0.157</td>\n",
       "    </tr>\n",
       "  </tbody>\n",
       "</table>\n",
       "</div>"
      ],
      "text/plain": [
       "   depth  iterations  logloss\n",
       "3      6         200    0.157"
      ]
     },
     "execution_count": 26,
     "metadata": {},
     "output_type": "execute_result"
    }
   ],
   "source": [
    "minloss = logloss_cb[logloss_cb['logloss']==logloss_cb['logloss'].min()]\n",
    "minloss"
   ]
  },
  {
   "cell_type": "markdown",
   "metadata": {},
   "source": [
    "## 문제 4.\n",
    "가장 낮은 logloss 값의 파라미터로 전체 데이터를 학습시켜 test set에 대한 logloss값을 구하세\n",
    "요."
   ]
  },
  {
   "cell_type": "code",
   "execution_count": 27,
   "metadata": {},
   "outputs": [
    {
     "data": {
      "text/plain": [
       "<catboost.core.CatBoostClassifier at 0x1ca4b5455f8>"
      ]
     },
     "execution_count": 27,
     "metadata": {},
     "output_type": "execute_result"
    }
   ],
   "source": [
    "from catboost import CatBoostClassifier\n",
    "p = logloss_cb.loc[minloss.index[0]]\n",
    "model = CatBoostClassifier(depth=p[0], iterations=p[1], loss_function='Logloss', random_state=1234)\n",
    "model.fit(pool_data, verbose=False)\n"
   ]
  },
  {
   "cell_type": "code",
   "execution_count": 28,
   "metadata": {},
   "outputs": [
    {
     "data": {
      "text/plain": [
       "0.16199213891445144"
      ]
     },
     "execution_count": 28,
     "metadata": {},
     "output_type": "execute_result"
    }
   ],
   "source": [
    "pool_test= cb.Pool(test.iloc[:,:-1], test['stroke'],cat_features=[1,2,3,4,7])\n",
    "loss = model.eval_metrics(pool_test,['Logloss'])\n",
    "min(loss['Logloss'])"
   ]
  },
  {
   "cell_type": "markdown",
   "metadata": {},
   "source": [
    "# Chapter 3. K-means Clustering\n",
    "## 문제 1.\n",
    "수치형 변수(age, avg_glucose_level, bmi)에 대해 scale 함수로 정규화 스케일링을 하세요."
   ]
  },
  {
   "cell_type": "code",
   "execution_count": 29,
   "metadata": {},
   "outputs": [],
   "source": [
    "from sklearn.preprocessing import MinMaxScaler\n",
    "sc = MinMaxScaler()\n",
    "origin_data=data.copy()\n",
    "num_cols = ['age','avg_glucose_level','bmi']\n",
    "data[num_cols] = sc.fit_transform(data[num_cols])"
   ]
  },
  {
   "cell_type": "code",
   "execution_count": 30,
   "metadata": {},
   "outputs": [
    {
     "data": {
      "text/html": [
       "<div>\n",
       "<style scoped>\n",
       "    .dataframe tbody tr th:only-of-type {\n",
       "        vertical-align: middle;\n",
       "    }\n",
       "\n",
       "    .dataframe tbody tr th {\n",
       "        vertical-align: top;\n",
       "    }\n",
       "\n",
       "    .dataframe thead th {\n",
       "        text-align: right;\n",
       "    }\n",
       "</style>\n",
       "<table border=\"1\" class=\"dataframe\">\n",
       "  <thead>\n",
       "    <tr style=\"text-align: right;\">\n",
       "      <th></th>\n",
       "      <th>age</th>\n",
       "      <th>hypertension</th>\n",
       "      <th>heart_disease</th>\n",
       "      <th>ever_married</th>\n",
       "      <th>work_type</th>\n",
       "      <th>avg_glucose_level</th>\n",
       "      <th>bmi</th>\n",
       "      <th>smoking_status</th>\n",
       "      <th>stroke</th>\n",
       "    </tr>\n",
       "  </thead>\n",
       "  <tbody>\n",
       "    <tr>\n",
       "      <th>0</th>\n",
       "      <td>0.816895</td>\n",
       "      <td>0</td>\n",
       "      <td>1</td>\n",
       "      <td>Yes</td>\n",
       "      <td>Private</td>\n",
       "      <td>0.801173</td>\n",
       "      <td>0.301260</td>\n",
       "      <td>formerly smoked</td>\n",
       "      <td>1</td>\n",
       "    </tr>\n",
       "    <tr>\n",
       "      <th>1</th>\n",
       "      <td>0.743652</td>\n",
       "      <td>0</td>\n",
       "      <td>0</td>\n",
       "      <td>Yes</td>\n",
       "      <td>Self-employed</td>\n",
       "      <td>0.678875</td>\n",
       "      <td>0.212232</td>\n",
       "      <td>never smoked</td>\n",
       "      <td>1</td>\n",
       "    </tr>\n",
       "    <tr>\n",
       "      <th>2</th>\n",
       "      <td>0.975586</td>\n",
       "      <td>0</td>\n",
       "      <td>1</td>\n",
       "      <td>Yes</td>\n",
       "      <td>Private</td>\n",
       "      <td>0.234159</td>\n",
       "      <td>0.254296</td>\n",
       "      <td>never smoked</td>\n",
       "      <td>1</td>\n",
       "    </tr>\n",
       "    <tr>\n",
       "      <th>3</th>\n",
       "      <td>0.597168</td>\n",
       "      <td>0</td>\n",
       "      <td>0</td>\n",
       "      <td>Yes</td>\n",
       "      <td>Private</td>\n",
       "      <td>0.535793</td>\n",
       "      <td>0.276060</td>\n",
       "      <td>smokes</td>\n",
       "      <td>1</td>\n",
       "    </tr>\n",
       "    <tr>\n",
       "      <th>4</th>\n",
       "      <td>0.963379</td>\n",
       "      <td>1</td>\n",
       "      <td>0</td>\n",
       "      <td>Yes</td>\n",
       "      <td>Self-employed</td>\n",
       "      <td>0.549141</td>\n",
       "      <td>0.156930</td>\n",
       "      <td>never smoked</td>\n",
       "      <td>1</td>\n",
       "    </tr>\n",
       "    <tr>\n",
       "      <th>...</th>\n",
       "      <td>...</td>\n",
       "      <td>...</td>\n",
       "      <td>...</td>\n",
       "      <td>...</td>\n",
       "      <td>...</td>\n",
       "      <td>...</td>\n",
       "      <td>...</td>\n",
       "      <td>...</td>\n",
       "      <td>...</td>\n",
       "    </tr>\n",
       "    <tr>\n",
       "      <th>4082</th>\n",
       "      <td>0.975586</td>\n",
       "      <td>1</td>\n",
       "      <td>0</td>\n",
       "      <td>Yes</td>\n",
       "      <td>Private</td>\n",
       "      <td>0.131766</td>\n",
       "      <td>0.212232</td>\n",
       "      <td>never smoked</td>\n",
       "      <td>0</td>\n",
       "    </tr>\n",
       "    <tr>\n",
       "      <th>4083</th>\n",
       "      <td>0.987793</td>\n",
       "      <td>0</td>\n",
       "      <td>0</td>\n",
       "      <td>Yes</td>\n",
       "      <td>Self-employed</td>\n",
       "      <td>0.323203</td>\n",
       "      <td>0.340206</td>\n",
       "      <td>never smoked</td>\n",
       "      <td>0</td>\n",
       "    </tr>\n",
       "    <tr>\n",
       "      <th>4084</th>\n",
       "      <td>0.426270</td>\n",
       "      <td>0</td>\n",
       "      <td>0</td>\n",
       "      <td>Yes</td>\n",
       "      <td>Self-employed</td>\n",
       "      <td>0.128256</td>\n",
       "      <td>0.232532</td>\n",
       "      <td>never smoked</td>\n",
       "      <td>0</td>\n",
       "    </tr>\n",
       "    <tr>\n",
       "      <th>4085</th>\n",
       "      <td>0.621582</td>\n",
       "      <td>0</td>\n",
       "      <td>0</td>\n",
       "      <td>Yes</td>\n",
       "      <td>Private</td>\n",
       "      <td>0.512978</td>\n",
       "      <td>0.175258</td>\n",
       "      <td>formerly smoked</td>\n",
       "      <td>0</td>\n",
       "    </tr>\n",
       "    <tr>\n",
       "      <th>4086</th>\n",
       "      <td>0.536133</td>\n",
       "      <td>0</td>\n",
       "      <td>0</td>\n",
       "      <td>Yes</td>\n",
       "      <td>Govt_job</td>\n",
       "      <td>0.138832</td>\n",
       "      <td>0.182131</td>\n",
       "      <td>Unknown</td>\n",
       "      <td>0</td>\n",
       "    </tr>\n",
       "  </tbody>\n",
       "</table>\n",
       "<p>4087 rows × 9 columns</p>\n",
       "</div>"
      ],
      "text/plain": [
       "           age  hypertension  heart_disease ever_married      work_type  \\\n",
       "0     0.816895             0              1          Yes        Private   \n",
       "1     0.743652             0              0          Yes  Self-employed   \n",
       "2     0.975586             0              1          Yes        Private   \n",
       "3     0.597168             0              0          Yes        Private   \n",
       "4     0.963379             1              0          Yes  Self-employed   \n",
       "...        ...           ...            ...          ...            ...   \n",
       "4082  0.975586             1              0          Yes        Private   \n",
       "4083  0.987793             0              0          Yes  Self-employed   \n",
       "4084  0.426270             0              0          Yes  Self-employed   \n",
       "4085  0.621582             0              0          Yes        Private   \n",
       "4086  0.536133             0              0          Yes       Govt_job   \n",
       "\n",
       "      avg_glucose_level       bmi   smoking_status  stroke  \n",
       "0              0.801173  0.301260  formerly smoked       1  \n",
       "1              0.678875  0.212232     never smoked       1  \n",
       "2              0.234159  0.254296     never smoked       1  \n",
       "3              0.535793  0.276060           smokes       1  \n",
       "4              0.549141  0.156930     never smoked       1  \n",
       "...                 ...       ...              ...     ...  \n",
       "4082           0.131766  0.212232     never smoked       0  \n",
       "4083           0.323203  0.340206     never smoked       0  \n",
       "4084           0.128256  0.232532     never smoked       0  \n",
       "4085           0.512978  0.175258  formerly smoked       0  \n",
       "4086           0.138832  0.182131          Unknown       0  \n",
       "\n",
       "[4087 rows x 9 columns]"
      ]
     },
     "execution_count": 30,
     "metadata": {},
     "output_type": "execute_result"
    }
   ],
   "source": [
    "data"
   ]
  },
  {
   "cell_type": "markdown",
   "metadata": {},
   "source": [
    "## 문제 2. \n",
    "fviz_nbclust 함수로 다음과 같이 시각화 한 뒤, 적절한 K값이 무엇인지 설명하세요."
   ]
  },
  {
   "cell_type": "code",
   "execution_count": 31,
   "metadata": {},
   "outputs": [],
   "source": [
    "import numpy as np\n",
    "from sklearn.cluster import KMeans\n",
    "from sklearn.metrics import silhouette_score\n",
    "scores = []\n",
    "ss = []\n",
    "for i in range(1,11):\n",
    "    score=0\n",
    "    km = KMeans(n_clusters=i, random_state=1234).fit(data[num_cols])\n",
    "    ss.append(km.inertia_)\n",
    "    if i>1:\n",
    "        score = silhouette_score(data[num_cols], km.labels_)\n",
    "    scores.append(score)"
   ]
  },
  {
   "cell_type": "code",
   "execution_count": 32,
   "metadata": {},
   "outputs": [
    {
     "data": {
      "image/png": "[encoded data removed]",
      "text/plain": [
       "<Figure size 1080x360 with 2 Axes>"
      ]
     },
     "metadata": {
      "needs_background": "light"
     },
     "output_type": "display_data"
    }
   ],
   "source": [
    "fig, ax = plt.subplots(1,2,figsize=(15,5))\n",
    "ax[0].plot(range(1,11), ss, 'bx-', marker=\".\")\n",
    "ax[0].set_title(\"Optimal number of clusters\")\n",
    "ax[1].plot(range(1,11), scores, 'bx-', marker=\".\")\n",
    "ax[0].set_ylabel(\"Total Within Sum of squares\")\n",
    "ax[1].set_ylabel(\"Average silhouette width\")\n",
    "for i in range(2):\n",
    "    ax[i].set_xlabel(\"Number of clusters k\")\n",
    "    ax[i].set_title(\"Optimal number of clusters\")\n",
    "    ax[i].set_xticks([i for i in range(1,11)])\n",
    "    ax[i].spines['top'].set_visible(False)\n",
    "    ax[i].spines['right'].set_visible(False)"
   ]
  },
  {
   "cell_type": "markdown",
   "metadata": {},
   "source": [
    "Silhouette 값이 3에서 가장 높은 것을 알 수 있다. WSS에서은 3보다 큰 값일수록 점점 값이 작아지지만 해당 값에서 Silhouette width의 값이 많이 낮기 때문에 3이 적절한 K값이 되겠다"
   ]
  },
  {
   "cell_type": "markdown",
   "metadata": {},
   "source": [
    "## 문제 3. \n",
    "K-means 클러스터링을 한 후, 다음과 같이 시각화하세요. (nstart = 1, iter.max =30, seed: 1234)"
   ]
  },
  {
   "cell_type": "code",
   "execution_count": 33,
   "metadata": {},
   "outputs": [],
   "source": [
    "kmeans = KMeans(n_clusters=3, random_state=1234, max_iter=30, n_init=1).fit(data[num_cols])\n",
    "labels = kmeans.labels_\n",
    "centers = kmeans.cluster_centers_"
   ]
  },
  {
   "cell_type": "code",
   "execution_count": 35,
   "metadata": {},
   "outputs": [],
   "source": [
    "from sklearn.decomposition import PCA\n",
    "pca = PCA(n_components=2, random_state=1234)\n",
    "p = pca.fit_transform(data[num_cols])\n",
    "clust_data = pd.DataFrame({\"Dim1\":[i[0] for i in p], \"Dim2\":[i[1] for i in p]})"
   ]
  },
  {
   "cell_type": "code",
   "execution_count": 36,
   "metadata": {},
   "outputs": [
    {
     "data": {
      "image/png": "[encoded data removed]",
      "text/plain": [
       "<Figure size 432x288 with 1 Axes>"
      ]
     },
     "metadata": {
      "needs_background": "light"
     },
     "output_type": "display_data"
    }
   ],
   "source": [
    "from scipy.spatial import ConvexHull\n",
    "plt.scatter(clust_data['Dim1'], clust_data[\"Dim2\"], c=labels, alpha=0.3)\n",
    "clrs=['m','c','y']\n",
    "for i in range(3):\n",
    "    points = clust_data[labels==i]\n",
    "    hull = ConvexHull(points)\n",
    "    for simplex in hull.simplices:\n",
    "        plt.plot(points.iloc[simplex,0],points.iloc[simplex,1], clrs[i])"
   ]
  },
  {
   "cell_type": "markdown",
   "metadata": {},
   "source": [
    "## 문제 4.\n",
    "사용한 변수인 age, avg_glucose_level(평균 혈당), bmi(bmi 수치)에 대해 다음과 같이 box_plot \n",
    "시각화를 하고, 클러스터 별로 해석해보세요. (사용 색 : #845ec2, #ffc75f, #ff5e78"
   ]
  },
  {
   "cell_type": "code",
   "execution_count": 37,
   "metadata": {},
   "outputs": [
    {
     "data": {
      "image/png": "[encoded data removed]",
      "text/plain": [
       "<Figure size 576x576 with 3 Axes>"
      ]
     },
     "metadata": {
      "needs_background": "light"
     },
     "output_type": "display_data"
    }
   ],
   "source": [
    "fig, ax = plt.subplots(1,3,figsize=(8,8))\n",
    "for i, col in enumerate(num_cols):\n",
    "    sns.boxplot(x=labels, y=col, data=origin_data, palette=['#845ec2', '#ffc75f', '#ff5e78'], ax=ax[i], showfliers=False)\n",
    "    ax[i].spines['top'].set_visible(False)\n",
    "    ax[i].spines['right'].set_visible(False)\n",
    "    ax[i].set_xlabel('cluster')\n",
    "  \n",
    "fig.tight_layout()\n"
   ]
  },
  {
   "cell_type": "code",
   "execution_count": null,
   "metadata": {},
   "outputs": [],
   "source": []
  }
 ],
 "metadata": {
  "kernelspec": {
   "display_name": "Python 3",
   "language": "python",
   "name": "python3"
  },
  "language_info": {
   "codemirror_mode": {
    "name": "ipython",
    "version": 3
   },
   "file_extension": ".py",
   "mimetype": "text/x-python",
   "name": "python",
   "nbconvert_exporter": "python",
   "pygments_lexer": "ipython3",
   "version": "3.7.3"
  }
 },
 "nbformat": 4,
 "nbformat_minor": 2
}
