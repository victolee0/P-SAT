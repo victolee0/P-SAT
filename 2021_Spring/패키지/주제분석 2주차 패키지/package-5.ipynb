{
 "cells": [
  {
   "cell_type": "code",
   "execution_count": 1,
   "metadata": {},
   "outputs": [],
   "source": [
    "import pandas as pd\n",
    "import numpy as np"
   ]
  },
  {
   "cell_type": "code",
   "execution_count": 2,
   "metadata": {},
   "outputs": [],
   "source": [
    "#1.1\n",
    "train = pd.read_csv('train.csv')\n",
    "test = pd.read_csv('test.csv')"
   ]
  },
  {
   "cell_type": "code",
   "execution_count": 3,
   "metadata": {},
   "outputs": [],
   "source": [
    "#1.2\n",
    "y = train['price']\n",
    "x = train.drop(['price'],axis=1)"
   ]
  },
  {
   "cell_type": "code",
   "execution_count": 4,
   "metadata": {},
   "outputs": [],
   "source": [
    "#1.3\n",
    "from sklearn.model_selection import train_test_split\n",
    "x_train, x_test, y_train, y_test = train_test_split(x, y, test_size=0.2)"
   ]
  },
  {
   "cell_type": "markdown",
   "metadata": {},
   "source": [
    "#1,4\n",
    "데이터가 무작위로 분할되기 때문에 시간에 있는 데이터에서 시간이 편향되어 분할되는 문제가 발생할 수 있다."
   ]
  },
  {
   "cell_type": "code",
   "execution_count": 5,
   "metadata": {},
   "outputs": [],
   "source": [
    "#1.5\n",
    "idx = train[train['transaction_year'] == 4].index\n",
    "val_x = x.iloc[idx]\n",
    "val_y = y.iloc[idx]\n",
    "train_x = x.iloc[-idx]\n",
    "train_y = y.iloc[-idx]"
   ]
  },
  {
   "cell_type": "code",
   "execution_count": 6,
   "metadata": {},
   "outputs": [],
   "source": [
    "#1.6\n",
    "from category_encoders.cat_boost import CatBoostEncoder\n",
    "ce = CatBoostEncoder()\n",
    "train_x = ce.fit_transform(train_x, train_y)\n",
    "validation_x = ce.fit_transform(val_x, val_y)"
   ]
  },
  {
   "cell_type": "code",
   "execution_count": 7,
   "metadata": {},
   "outputs": [
    {
     "data": {
      "text/html": [
       "<div>\n",
       "<style scoped>\n",
       "    .dataframe tbody tr th:only-of-type {\n",
       "        vertical-align: middle;\n",
       "    }\n",
       "\n",
       "    .dataframe tbody tr th {\n",
       "        vertical-align: top;\n",
       "    }\n",
       "\n",
       "    .dataframe thead th {\n",
       "        text-align: right;\n",
       "    }\n",
       "</style>\n",
       "<table border=\"1\" class=\"dataframe\">\n",
       "  <thead>\n",
       "    <tr style=\"text-align: right;\">\n",
       "      <th></th>\n",
       "      <th>dong</th>\n",
       "      <th>apt</th>\n",
       "      <th>exclusive_use_area</th>\n",
       "      <th>floor</th>\n",
       "      <th>transaction_year</th>\n",
       "      <th>until_trans</th>\n",
       "      <th>sin_date</th>\n",
       "      <th>cos_date</th>\n",
       "    </tr>\n",
       "  </thead>\n",
       "  <tbody>\n",
       "    <tr>\n",
       "      <th>2451</th>\n",
       "      <td>53693.710223</td>\n",
       "      <td>53693.710223</td>\n",
       "      <td>107.91</td>\n",
       "      <td>14</td>\n",
       "      <td>4</td>\n",
       "      <td>9</td>\n",
       "      <td>-1.000000e+00</td>\n",
       "      <td>-1.836970e-16</td>\n",
       "    </tr>\n",
       "    <tr>\n",
       "      <th>2452</th>\n",
       "      <td>68346.855111</td>\n",
       "      <td>68346.855111</td>\n",
       "      <td>151.81</td>\n",
       "      <td>10</td>\n",
       "      <td>4</td>\n",
       "      <td>9</td>\n",
       "      <td>-1.000000e+00</td>\n",
       "      <td>-1.836970e-16</td>\n",
       "    </tr>\n",
       "    <tr>\n",
       "      <th>2453</th>\n",
       "      <td>85231.236741</td>\n",
       "      <td>85231.236741</td>\n",
       "      <td>94.51</td>\n",
       "      <td>2</td>\n",
       "      <td>4</td>\n",
       "      <td>9</td>\n",
       "      <td>-2.449294e-16</td>\n",
       "      <td>1.000000e+00</td>\n",
       "    </tr>\n",
       "    <tr>\n",
       "      <th>2454</th>\n",
       "      <td>85048.427556</td>\n",
       "      <td>85048.427556</td>\n",
       "      <td>94.28</td>\n",
       "      <td>12</td>\n",
       "      <td>4</td>\n",
       "      <td>9</td>\n",
       "      <td>-2.449294e-16</td>\n",
       "      <td>1.000000e+00</td>\n",
       "    </tr>\n",
       "    <tr>\n",
       "      <th>2455</th>\n",
       "      <td>53693.710223</td>\n",
       "      <td>53693.710223</td>\n",
       "      <td>145.96</td>\n",
       "      <td>13</td>\n",
       "      <td>4</td>\n",
       "      <td>13</td>\n",
       "      <td>-1.000000e+00</td>\n",
       "      <td>-1.836970e-16</td>\n",
       "    </tr>\n",
       "  </tbody>\n",
       "</table>\n",
       "</div>"
      ],
      "text/plain": [
       "              dong           apt  exclusive_use_area  floor  transaction_year  \\\n",
       "2451  53693.710223  53693.710223              107.91     14                 4   \n",
       "2452  68346.855111  68346.855111              151.81     10                 4   \n",
       "2453  85231.236741  85231.236741               94.51      2                 4   \n",
       "2454  85048.427556  85048.427556               94.28     12                 4   \n",
       "2455  53693.710223  53693.710223              145.96     13                 4   \n",
       "\n",
       "      until_trans      sin_date      cos_date  \n",
       "2451            9 -1.000000e+00 -1.836970e-16  \n",
       "2452            9 -1.000000e+00 -1.836970e-16  \n",
       "2453            9 -2.449294e-16  1.000000e+00  \n",
       "2454            9 -2.449294e-16  1.000000e+00  \n",
       "2455           13 -1.000000e+00 -1.836970e-16  "
      ]
     },
     "execution_count": 7,
     "metadata": {},
     "output_type": "execute_result"
    }
   ],
   "source": [
    "validation_x.head()"
   ]
  },
  {
   "cell_type": "code",
   "execution_count": 8,
   "metadata": {},
   "outputs": [],
   "source": [
    "#2.1\n",
    "import matplotlib.pyplot as plt\n",
    "import seaborn as sns"
   ]
  },
  {
   "cell_type": "code",
   "execution_count": 9,
   "metadata": {},
   "outputs": [
    {
     "data": {
      "text/plain": [
       "<matplotlib.axes._subplots.AxesSubplot at 0x2cc899ab198>"
      ]
     },
     "execution_count": 9,
     "metadata": {},
     "output_type": "execute_result"
    },
    {
     "data": {
      "image/png": "[encoded data removed]",
      "text/plain": [
       "<Figure size 432x288 with 2 Axes>"
      ]
     },
     "metadata": {
      "needs_background": "light"
     },
     "output_type": "display_data"
    }
   ],
   "source": [
    "sns.heatmap(validation_x.corr())"
   ]
  },
  {
   "cell_type": "code",
   "execution_count": 10,
   "metadata": {},
   "outputs": [],
   "source": [
    "#2.2\n",
    "from sklearn.linear_model import Ridge\n",
    "from sklearn.metrics import mean_squared_error\n",
    "from math import sqrt"
   ]
  },
  {
   "cell_type": "code",
   "execution_count": 11,
   "metadata": {},
   "outputs": [],
   "source": [
    "alpha=[0.00001, 0.0001, 0.001, 0.01, 0.1]\n",
    "rmse = []\n",
    "for i in range(5):\n",
    "    r = Ridge(alpha[i])\n",
    "    r.fit(train_x, train_y)\n",
    "    pred = r.predict(validation_x)\n",
    "    rmse.append(sqrt(mean_squared_error(val_y, pred)))\n",
    "    "
   ]
  },
  {
   "cell_type": "code",
   "execution_count": 12,
   "metadata": {},
   "outputs": [
    {
     "data": {
      "text/plain": [
       "<matplotlib.axes._subplots.AxesSubplot at 0x2cc8bbf7ef0>"
      ]
     },
     "execution_count": 12,
     "metadata": {},
     "output_type": "execute_result"
    },
    {
     "data": {
      "image/png": "[encoded data removed]",
      "text/plain": [
       "<Figure size 432x288 with 1 Axes>"
      ]
     },
     "metadata": {
      "needs_background": "light"
     },
     "output_type": "display_data"
    }
   ],
   "source": [
    "#2.3\n",
    "sns.barplot(x=alpha, y=rmse)"
   ]
  },
  {
   "cell_type": "markdown",
   "metadata": {},
   "source": [
    "#2.4 \n",
    "\n",
    "모든 alpha 값에서 비슷한 mse값을 가지므로 튜닝이 잘 되지 않았다.\n"
   ]
  },
  {
   "cell_type": "code",
   "execution_count": 13,
   "metadata": {},
   "outputs": [],
   "source": [
    "#2.5\n",
    "from sklearn.linear_model import LinearRegression\n",
    "lr = LinearRegression()\n",
    "lr.fit(train_x, train_y)\n",
    "pred = r.predict(validation_x)\n",
    "m = sqrt(mean_squared_error(val_y, pred))"
   ]
  },
  {
   "cell_type": "code",
   "execution_count": 14,
   "metadata": {},
   "outputs": [
    {
     "name": "stdout",
     "output_type": "stream",
     "text": [
      "14398.384528003442 [14398.384420198045, 14398.384420295077, 14398.384421265422, 14398.384430968883, 14398.384528003442]\n"
     ]
    }
   ],
   "source": [
    "print(m, rmse)"
   ]
  },
  {
   "cell_type": "markdown",
   "metadata": {},
   "source": [
    "두 모형의 mse가 거의 같기 때문에 둘 중 어느 것을 쓰더라도 무방하다고 생각한다.\n"
   ]
  },
  {
   "cell_type": "markdown",
   "metadata": {},
   "source": [
    "# 3.1\n",
    "기존의 부스팅 모델은 level-wise하게 트리가 늘어났지만 lightgbm은 leaf wise하게 트리가 늘어난다.\n",
    "\n",
    "기존의 부스팅 모델은 트리의 균형을 맞춰야 했고 이 시간이 필요했지만 lightgbm은 균형을 맞추지 않는다\n",
    "\n",
    "장점 - 학습 시간이 적고 메모리 사용량이 적다.\n",
    "\n",
    "단점 - 데이터 수가 적을 경우 과적합 가능성이 크다."
   ]
  },
  {
   "cell_type": "code",
   "execution_count": 15,
   "metadata": {},
   "outputs": [],
   "source": [
    "#3.2\n",
    "import lightgbm as lgb\n",
    "from lightgbm import LGBMRegressor\n",
    "\n",
    "learning_rate=[0.01,0.05,0.1,0.3,0.5,0.7,0.99]\n",
    "rmse = []\n",
    "for i in learning_rate:\n",
    "    lgbm = LGBMRegressor(learning_rate=i)\n",
    "    lgbm.fit(train_x, train_y)\n",
    "    pred = lgbm.predict(validation_x)\n",
    "    mse = mean_squared_error(val_y, pred)\n",
    "    rmse.append(sqrt(mse))"
   ]
  },
  {
   "cell_type": "code",
   "execution_count": 16,
   "metadata": {},
   "outputs": [
    {
     "data": {
      "text/plain": [
       "[19624.585629587673,\n",
       " 11348.945663995275,\n",
       " 11336.742095656713,\n",
       " 11588.545637173223,\n",
       " 12145.509563600195,\n",
       " 12513.23175211141,\n",
       " 13736.35479883936]"
      ]
     },
     "execution_count": 16,
     "metadata": {},
     "output_type": "execute_result"
    }
   ],
   "source": [
    "rmse"
   ]
  },
  {
   "cell_type": "code",
   "execution_count": 17,
   "metadata": {},
   "outputs": [
    {
     "data": {
      "text/plain": [
       "<matplotlib.axes._subplots.AxesSubplot at 0x2cc87f00400>"
      ]
     },
     "execution_count": 17,
     "metadata": {},
     "output_type": "execute_result"
    },
    {
     "data": {
      "image/png": "[encoded data removed]",
      "text/plain": [
       "<Figure size 432x288 with 1 Axes>"
      ]
     },
     "metadata": {
      "needs_background": "light"
     },
     "output_type": "display_data"
    }
   ],
   "source": [
    "sns.barplot(x=learning_rate, y=rmse)"
   ]
  },
  {
   "cell_type": "markdown",
   "metadata": {},
   "source": [
    "#3.4\n",
    "grid search - 모든 파라미터의 값들을 입력하여 가장 높은 성능을 보이는 하이퍼 파라미터를 찾는 방법\n",
    "\n",
    "장점 - 모든 경우의 수를 고려하여 최적의 파라미터를 찾을 수 있다.\n",
    "\n",
    "단점 - 모든 경우의 수를 고려하기 때문에 파라미터를 찾는데 많은 비용이 들어간다.\n",
    "\n",
    "random search - 범위를 지정해주고 임의의 수를 파라미터로 하여 최적의 파라미터를 찾는 방식\n",
    "\n",
    "장점 - grid search에 비해 탐색 시간이 짧다\n",
    "\n",
    "단점 - 모든 경우를 고려하지 않기 때문에 찾은 파라미터가 최적의 파라미터가 아닐 수 있다\n",
    "\n",
    "\n",
    "bayesian optimization - 입력값을 받는 목적 함수를 하나 만들고 그 함수의 값을 최대로 만드는 최적해를 찾는 방법,\n",
    "\n",
    "장점 - 시간 대비 성능이 좋다\n",
    "단점 - 모르겠습니다.. 제가 이해하기 어려운게 단점...\n"
   ]
  },
  {
   "cell_type": "code",
   "execution_count": 21,
   "metadata": {},
   "outputs": [],
   "source": [
    "#4.1\n",
    "testy = test['price']\n",
    "testx = test.drop(['price'], axis=1)"
   ]
  },
  {
   "cell_type": "code",
   "execution_count": 28,
   "metadata": {},
   "outputs": [],
   "source": [
    "#4.2\n",
    "c=CatBoostEncoder()\n",
    "train_x = c.fit_transform(x, y)\n",
    "test_x = c.fit_transform(testx, testy)"
   ]
  },
  {
   "cell_type": "code",
   "execution_count": 30,
   "metadata": {},
   "outputs": [
    {
     "data": {
      "text/plain": [
       "15482.838426744162"
      ]
     },
     "execution_count": 30,
     "metadata": {},
     "output_type": "execute_result"
    }
   ],
   "source": [
    "#4.3\n",
    "r = Ridge(0.001)\n",
    "r.fit(train_x, y)\n",
    "pred = r.predict(test_x)\n",
    "mse = mean_squared_error(testy, pred)\n",
    "ridge_rmse = (sqrt(mse))\n",
    "ridge_rmse"
   ]
  },
  {
   "cell_type": "code",
   "execution_count": 31,
   "metadata": {},
   "outputs": [
    {
     "data": {
      "text/plain": [
       "13754.885724638347"
      ]
     },
     "execution_count": 31,
     "metadata": {},
     "output_type": "execute_result"
    }
   ],
   "source": [
    "lgbm = LGBMRegressor(learning_rate=0.05)\n",
    "lgbm.fit(train_x, y)\n",
    "pred = lgbm.predict(test_x)\n",
    "mse = mean_squared_error(testy, pred)\n",
    "lgbm_rmse = (sqrt(mse))\n",
    "lgbm_rmse"
   ]
  },
  {
   "cell_type": "markdown",
   "metadata": {},
   "source": [
    "#4.4\n",
    "\n",
    "test set에서 rmse가 Ridge 모델에서는 15482, lgbm 모델에서는 13754로 lgbm 모델에서 더 낮은 모습을 보인다.\n",
    "\n",
    "lgbm이 더 학습이 잘 되었다고 말할 수 있다."
   ]
  },
  {
   "cell_type": "code",
   "execution_count": null,
   "metadata": {},
   "outputs": [],
   "source": []
  }
 ],
 "metadata": {
  "kernelspec": {
   "display_name": "Python 3",
   "language": "python",
   "name": "python3"
  },
  "language_info": {
   "codemirror_mode": {
    "name": "ipython",
    "version": 3
   },
   "file_extension": ".py",
   "mimetype": "text/x-python",
   "name": "python",
   "nbconvert_exporter": "python",
   "pygments_lexer": "ipython3",
   "version": "3.7.3"
  }
 },
 "nbformat": 4,
 "nbformat_minor": 2
}
