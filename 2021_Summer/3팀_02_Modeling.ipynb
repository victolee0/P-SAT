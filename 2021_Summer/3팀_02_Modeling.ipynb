{
 "cells": [
  {
   "cell_type": "markdown",
   "metadata": {
    "id": "EpXVmomWYuKz"
   },
   "source": [
    "# 모델링"
   ]
  },
  {
   "cell_type": "code",
   "execution_count": 1,
   "metadata": {
    "colab": {
     "base_uri": "https://localhost:8080/"
    },
    "executionInfo": {
     "elapsed": 32837,
     "status": "ok",
     "timestamp": 1628336008342,
     "user": {
      "displayName": "Ko Kyounghyeon",
      "photoUrl": "",
      "userId": "16783283293138680635"
     },
     "user_tz": -540
    },
    "id": "_-XUol19YxOm",
    "outputId": "5a3c6abe-fae3-4e2d-a27a-6e3b58a8c902"
   },
   "outputs": [
    {
     "name": "stdout",
     "output_type": "stream",
     "text": [
      "Mounted at /content/drive\n"
     ]
    }
   ],
   "source": [
    "from google.colab import drive\n",
    "drive.mount('/content/drive')"
   ]
  },
  {
   "cell_type": "code",
   "execution_count": 5,
   "metadata": {
    "_cell_guid": "b1076dfc-b9ad-4769-8c92-a6c4dae69d19",
    "_uuid": "8f2839f25d086af736a60e9eeb907d3b93b6e0e5",
    "execution": {
     "iopub.execute_input": "2021-08-07T11:16:42.261047Z",
     "iopub.status.busy": "2021-08-07T11:16:42.260518Z",
     "iopub.status.idle": "2021-08-07T11:16:42.269781Z",
     "shell.execute_reply": "2021-08-07T11:16:42.269003Z",
     "shell.execute_reply.started": "2021-08-07T11:16:42.260997Z"
    },
    "executionInfo": {
     "elapsed": 268,
     "status": "ok",
     "timestamp": 1628336032142,
     "user": {
      "displayName": "Ko Kyounghyeon",
      "photoUrl": "",
      "userId": "16783283293138680635"
     },
     "user_tz": -540
    },
    "id": "98b-8p8_YuK1"
   },
   "outputs": [],
   "source": [
    "# 모듈 로드\n",
    "import numpy as np \n",
    "import pandas as pd \n",
    "import random\n",
    "import os\n",
    "from sklearn.naive_bayes import GaussianNB\n",
    "from sklearn.metrics import f1_score\n",
    "from sklearn.model_selection import train_test_split\n",
    "\n",
    "# 경로 저장 (로컬에서 따로 설정 필요)\n",
    "dirname = \"/content/drive/MyDrive/data/피셋방세\""
   ]
  },
  {
   "cell_type": "markdown",
   "metadata": {
    "id": "EgXcCERUYuK3"
   },
   "source": [
    "- randomness control"
   ]
  },
  {
   "cell_type": "code",
   "execution_count": 3,
   "metadata": {
    "execution": {
     "iopub.execute_input": "2021-08-07T11:16:56.329217Z",
     "iopub.status.busy": "2021-08-07T11:16:56.328721Z",
     "iopub.status.idle": "2021-08-07T11:16:56.333456Z",
     "shell.execute_reply": "2021-08-07T11:16:56.332778Z",
     "shell.execute_reply.started": "2021-08-07T11:16:56.329187Z"
    },
    "executionInfo": {
     "elapsed": 241,
     "status": "ok",
     "timestamp": 1628336017086,
     "user": {
      "displayName": "Ko Kyounghyeon",
      "photoUrl": "",
      "userId": "16783283293138680635"
     },
     "user_tz": -540
    },
    "id": "SpQNPZBqYuK3"
   },
   "outputs": [],
   "source": [
    "# 시드 값 17로 설정\n",
    "random.seed(17)\n",
    "np.random.seed(17)\n",
    "os.environ[\"PYTHONHASHSEED\"] = str(17)"
   ]
  },
  {
   "cell_type": "markdown",
   "metadata": {
    "id": "cw9XtgiJYuK4"
   },
   "source": [
    "- 데이터 로드"
   ]
  },
  {
   "cell_type": "code",
   "execution_count": 6,
   "metadata": {
    "execution": {
     "iopub.execute_input": "2021-08-07T11:15:12.081893Z",
     "iopub.status.busy": "2021-08-07T11:15:12.081543Z",
     "iopub.status.idle": "2021-08-07T11:15:13.187003Z",
     "shell.execute_reply": "2021-08-07T11:15:13.186087Z",
     "shell.execute_reply.started": "2021-08-07T11:15:12.081858Z"
    },
    "executionInfo": {
     "elapsed": 2535,
     "status": "ok",
     "timestamp": 1628336036476,
     "user": {
      "displayName": "Ko Kyounghyeon",
      "photoUrl": "",
      "userId": "16783283293138680635"
     },
     "user_tz": -540
    },
    "id": "66VQFyL6YuK4"
   },
   "outputs": [],
   "source": [
    "# 데이터 불러오기 (경로 설정 필요)\n",
    "data = pd.read_csv(dirname + \"/train.csv\")\n",
    "\n",
    "# target, 변수 분리\n",
    "target = data['target']\n",
    "train = data.drop(['target'], axis=1)"
   ]
  },
  {
   "cell_type": "markdown",
   "metadata": {
    "id": "JyhnCMyoYuK5"
   },
   "source": [
    "- 삭제할 변수 번호(var_#)로 변수 삭제"
   ]
  },
  {
   "cell_type": "code",
   "execution_count": 7,
   "metadata": {
    "execution": {
     "iopub.execute_input": "2021-08-07T11:15:13.555924Z",
     "iopub.status.busy": "2021-08-07T11:15:13.555552Z",
     "iopub.status.idle": "2021-08-07T11:15:13.575616Z",
     "shell.execute_reply": "2021-08-07T11:15:13.574443Z",
     "shell.execute_reply.started": "2021-08-07T11:15:13.555893Z"
    },
    "executionInfo": {
     "elapsed": 249,
     "status": "ok",
     "timestamp": 1628336040267,
     "user": {
      "displayName": "Ko Kyounghyeon",
      "photoUrl": "",
      "userId": "16783283293138680635"
     },
     "user_tz": -540
    },
    "id": "XI-Js7kLYuK5"
   },
   "outputs": [],
   "source": [
    "# 삭제할 변수 번호\n",
    "lst = [  3,   4,   7,  10,  14,  17,  25,  27,  29,  30,  37,  38,  39,\n",
    "             42,  46,  47,  54,  59,  60,  61,  62,  63,  64,  65,  69,  72,\n",
    "             73,  79,  84,  96,  98, 100, 103, 120, 124, 126, 129, 134, 136,\n",
    "            140, 143, 152, 153, 158, 160, 168, 171, 175, 176, 181, 182, 183,\n",
    "            187, 189]\n",
    "\n",
    "# 삭제 후 train2 에 저장\n",
    "train2 = train.drop(train.columns[lst], axis = 1)"
   ]
  },
  {
   "cell_type": "markdown",
   "metadata": {
    "id": "j7nymT0sYuK6"
   },
   "source": [
    "- Hold out 교차검증"
   ]
  },
  {
   "cell_type": "code",
   "execution_count": 8,
   "metadata": {
    "execution": {
     "iopub.execute_input": "2021-08-07T11:17:47.672437Z",
     "iopub.status.busy": "2021-08-07T11:17:47.671909Z",
     "iopub.status.idle": "2021-08-07T11:17:47.729112Z",
     "shell.execute_reply": "2021-08-07T11:17:47.728324Z",
     "shell.execute_reply.started": "2021-08-07T11:17:47.672404Z"
    },
    "executionInfo": {
     "elapsed": 331,
     "status": "ok",
     "timestamp": 1628336042977,
     "user": {
      "displayName": "Ko Kyounghyeon",
      "photoUrl": "",
      "userId": "16783283293138680635"
     },
     "user_tz": -540
    },
    "id": "5m7TaeEEYuK8"
   },
   "outputs": [],
   "source": [
    "# train ,test 75:25 분리\n",
    "X_train2, X_test2, y_train2, y_test2 = train_test_split(train2, target, random_state = 17, stratify = target)"
   ]
  },
  {
   "cell_type": "markdown",
   "metadata": {
    "id": "vEOe40mfYuK9"
   },
   "source": [
    "- 가우시안 나이브 베이즈는 베이지안 기반의 모델이므로 사전 확률을 안다면 설정 필요\n",
    "- 현재 타겟의 분포인 90:10으로 사전확률 설정 후 F1 스코어 확인"
   ]
  },
  {
   "cell_type": "code",
   "execution_count": 9,
   "metadata": {
    "colab": {
     "base_uri": "https://localhost:8080/"
    },
    "execution": {
     "iopub.execute_input": "2021-08-07T11:18:13.798213Z",
     "iopub.status.busy": "2021-08-07T11:18:13.79768Z",
     "iopub.status.idle": "2021-08-07T11:18:13.868837Z",
     "shell.execute_reply": "2021-08-07T11:18:13.867741Z",
     "shell.execute_reply.started": "2021-08-07T11:18:13.79816Z"
    },
    "executionInfo": {
     "elapsed": 246,
     "status": "ok",
     "timestamp": 1628336045599,
     "user": {
      "displayName": "Ko Kyounghyeon",
      "photoUrl": "",
      "userId": "16783283293138680635"
     },
     "user_tz": -540
    },
    "id": "-NF-ItgYYuK9",
    "outputId": "01a628c8-29b8-4327-b6f6-1160f3751d07"
   },
   "outputs": [
    {
     "data": {
      "text/plain": [
       "0.4688995215311005"
      ]
     },
     "execution_count": 9,
     "metadata": {
      "tags": []
     },
     "output_type": "execute_result"
    }
   ],
   "source": [
    "# priors : 사전 확률 설정 파라미터 (클래스의 개수만큼 입력해야 함)\n",
    "model = GaussianNB(priors = [0.9, 0.1])\n",
    "\n",
    "# 모델 피팅\n",
    "model.fit(X_train2, y_train2)\n",
    "\n",
    "# 예측 및 스코어 확인\n",
    "y_pred = model.predict(X_test2)\n",
    "f1_score(y_test2, y_pred)"
   ]
  },
  {
   "cell_type": "markdown",
   "metadata": {
    "id": "zf5c7nl_YuK9"
   },
   "source": [
    "- 사전 확률 값 80:20으로 조정 "
   ]
  },
  {
   "cell_type": "code",
   "execution_count": 10,
   "metadata": {
    "colab": {
     "base_uri": "https://localhost:8080/"
    },
    "execution": {
     "iopub.execute_input": "2021-08-07T11:18:06.05366Z",
     "iopub.status.busy": "2021-08-07T11:18:06.053316Z",
     "iopub.status.idle": "2021-08-07T11:18:06.148744Z",
     "shell.execute_reply": "2021-08-07T11:18:06.14807Z",
     "shell.execute_reply.started": "2021-08-07T11:18:06.053632Z"
    },
    "executionInfo": {
     "elapsed": 3,
     "status": "ok",
     "timestamp": 1628336048123,
     "user": {
      "displayName": "Ko Kyounghyeon",
      "photoUrl": "",
      "userId": "16783283293138680635"
     },
     "user_tz": -540
    },
    "id": "Y_0SFN5mYuK9",
    "outputId": "6b11289d-371f-4c0c-c733-69d296fe5d1e"
   },
   "outputs": [
    {
     "data": {
      "text/plain": [
       "0.5488165680473372"
      ]
     },
     "execution_count": 10,
     "metadata": {
      "tags": []
     },
     "output_type": "execute_result"
    }
   ],
   "source": [
    "# 사전 확률 값 조정\n",
    "model = GaussianNB(priors = [0.8, 0.2])\n",
    "\n",
    "# 모델 피팅\n",
    "model.fit(X_train2, y_train2)\n",
    "\n",
    "# 예측 및 스코어 확인\n",
    "y_pred = model.predict(X_test2)\n",
    "f1_score(y_test2, y_pred)"
   ]
  },
  {
   "cell_type": "markdown",
   "metadata": {
    "id": "dlYJEHr8YuK-"
   },
   "source": [
    "가장 높은 f1 score를 나타낸 `GaussianNB(priors = [0.8, 0.2])`을 최종 모델로 저장"
   ]
  },
  {
   "cell_type": "code",
   "execution_count": 13,
   "metadata": {
    "colab": {
     "base_uri": "https://localhost:8080/"
    },
    "execution": {
     "iopub.execute_input": "2021-08-07T11:23:14.319417Z",
     "iopub.status.busy": "2021-08-07T11:23:14.318798Z",
     "iopub.status.idle": "2021-08-07T11:23:14.328127Z",
     "shell.execute_reply": "2021-08-07T11:23:14.326971Z",
     "shell.execute_reply.started": "2021-08-07T11:23:14.319368Z"
    },
    "executionInfo": {
     "elapsed": 246,
     "status": "ok",
     "timestamp": 1628336066986,
     "user": {
      "displayName": "Ko Kyounghyeon",
      "photoUrl": "",
      "userId": "16783283293138680635"
     },
     "user_tz": -540
    },
    "id": "S9luulP8YuK-",
    "outputId": "247c5ad3-d465-4b94-b8e7-79afa2a4deab"
   },
   "outputs": [
    {
     "data": {
      "text/plain": [
       "['/content/drive/MyDrive/data/피셋방세/final_model.pkl']"
      ]
     },
     "execution_count": 13,
     "metadata": {
      "tags": []
     },
     "output_type": "execute_result"
    }
   ],
   "source": [
    "import joblib\n",
    "import pickle\n",
    "model = GaussianNB(priors = [0.8, 0.2])\n",
    "joblib.dump(model, dirname + \"/final_model.pkl\")"
   ]
  }
 ],
 "metadata": {
  "colab": {
   "collapsed_sections": [],
   "name": "modeling.ipynb",
   "provenance": []
  },
  "kernelspec": {
   "display_name": "Python 3",
   "language": "python",
   "name": "python3"
  },
  "language_info": {
   "codemirror_mode": {
    "name": "ipython",
    "version": 3
   },
   "file_extension": ".py",
   "mimetype": "text/x-python",
   "name": "python",
   "nbconvert_exporter": "python",
   "pygments_lexer": "ipython3",
   "version": "3.8.5"
  }
 },
 "nbformat": 4,
 "nbformat_minor": 1
}
