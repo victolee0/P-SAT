{
 "cells": [
  {
   "cell_type": "markdown",
   "metadata": {
    "id": "0zxCfJBcYygn"
   },
   "source": [
    "# 최종 예측"
   ]
  },
  {
   "cell_type": "code",
   "execution_count": 1,
   "metadata": {
    "colab": {
     "base_uri": "https://localhost:8080/"
    },
    "executionInfo": {
     "elapsed": 21897,
     "status": "ok",
     "timestamp": 1628335909142,
     "user": {
      "displayName": "Ko Kyounghyeon",
      "photoUrl": "",
      "userId": "16783283293138680635"
     },
     "user_tz": -540
    },
    "id": "ZC47Al_SYXgH",
    "outputId": "57733fd6-7a44-4d93-f4a2-45ed835646e3"
   },
   "outputs": [
    {
     "name": "stdout",
     "output_type": "stream",
     "text": [
      "Mounted at /content/drive\n"
     ]
    }
   ],
   "source": [
    "from google.colab import drive\n",
    "drive.mount('/content/drive')"
   ]
  },
  {
   "cell_type": "code",
   "execution_count": 4,
   "metadata": {
    "_cell_guid": "b1076dfc-b9ad-4769-8c92-a6c4dae69d19",
    "_uuid": "8f2839f25d086af736a60e9eeb907d3b93b6e0e5",
    "execution": {
     "iopub.execute_input": "2021-08-07T11:26:13.589145Z",
     "iopub.status.busy": "2021-08-07T11:26:13.588667Z",
     "iopub.status.idle": "2021-08-07T11:26:13.599642Z",
     "shell.execute_reply": "2021-08-07T11:26:13.597913Z",
     "shell.execute_reply.started": "2021-08-07T11:26:13.589103Z"
    },
    "executionInfo": {
     "elapsed": 270,
     "status": "ok",
     "timestamp": 1628336123895,
     "user": {
      "displayName": "Ko Kyounghyeon",
      "photoUrl": "",
      "userId": "16783283293138680635"
     },
     "user_tz": -540
    },
    "id": "cq9wF88vYTbX"
   },
   "outputs": [],
   "source": [
    "# 모듈 로드\n",
    "import numpy as np \n",
    "import pandas as pd \n",
    "import joblib\n",
    "import pickle\n",
    "from sklearn.naive_bayes import GaussianNB\n",
    "\n",
    "# 경로 저장 (로컬에서 따로 설정 필요)\n",
    "dirname = \"/content/drive/MyDrive/data/피셋방세\""
   ]
  },
  {
   "cell_type": "markdown",
   "metadata": {
    "id": "UQxBTTgMYTbY"
   },
   "source": [
    "- 데이터 및 모델 로드"
   ]
  },
  {
   "cell_type": "code",
   "execution_count": 5,
   "metadata": {
    "execution": {
     "iopub.execute_input": "2021-08-07T11:26:14.924906Z",
     "iopub.status.busy": "2021-08-07T11:26:14.924473Z",
     "iopub.status.idle": "2021-08-07T11:26:16.241727Z",
     "shell.execute_reply": "2021-08-07T11:26:16.240039Z",
     "shell.execute_reply.started": "2021-08-07T11:26:14.924846Z"
    },
    "executionInfo": {
     "elapsed": 3279,
     "status": "ok",
     "timestamp": 1628336130358,
     "user": {
      "displayName": "Ko Kyounghyeon",
      "photoUrl": "",
      "userId": "16783283293138680635"
     },
     "user_tz": -540
    },
    "id": "AwTbjC5iYTbY"
   },
   "outputs": [],
   "source": [
    "# train data\n",
    "data = pd.read_csv(dirname + '/train.csv')\n",
    "\n",
    "# train data 에서 타겟과 X변수 분리\n",
    "target = data['target']\n",
    "train = data.drop(['target'], axis=1)\n",
    "\n",
    "# test data\n",
    "test = pd.read_csv(dirname + '/test.csv')\n",
    "\n",
    "# 최종 가우시안 나이브 베이즈 모델\n",
    "model = joblib.load(dirname + '/final_model.pkl')"
   ]
  },
  {
   "cell_type": "markdown",
   "metadata": {
    "id": "XiIEoVu5YTbZ"
   },
   "source": [
    "- 모델 전처리 및 train data에 피팅"
   ]
  },
  {
   "cell_type": "code",
   "execution_count": 6,
   "metadata": {
    "executionInfo": {
     "elapsed": 311,
     "status": "ok",
     "timestamp": 1628336134883,
     "user": {
      "displayName": "Ko Kyounghyeon",
      "photoUrl": "",
      "userId": "16783283293138680635"
     },
     "user_tz": -540
    },
    "id": "SKFJNvxgYTbZ"
   },
   "outputs": [],
   "source": [
    "# 제거할 변수 번호(var_#) 리스트 저장\n",
    "lst = [  3,   4,   7,  10,  14,  17,  25,  27,  29,  30,  37,  38,  39,\n",
    "             42,  46,  47,  54,  59,  60,  61,  62,  63,  64,  65,  69,  72,\n",
    "             73,  79,  84,  96,  98, 100, 103, 120, 124, 126, 129, 134, 136,\n",
    "            140, 143, 152, 153, 158, 160, 168, 171, 175, 176, 181, 182, 183,\n",
    "            187, 189]\n",
    "\n",
    "# train 데이터와 test 데이터 모두 변수 제거 후 train2, test2에 따로 저장\n",
    "train2 = train.drop(train.columns[lst], axis = 1)\n",
    "test2 = test.drop(test.columns[lst], axis = 1)"
   ]
  },
  {
   "cell_type": "code",
   "execution_count": 7,
   "metadata": {
    "colab": {
     "base_uri": "https://localhost:8080/"
    },
    "executionInfo": {
     "elapsed": 5,
     "status": "ok",
     "timestamp": 1628336137938,
     "user": {
      "displayName": "Ko Kyounghyeon",
      "photoUrl": "",
      "userId": "16783283293138680635"
     },
     "user_tz": -540
    },
    "id": "fvCWVyG3YTbZ",
    "outputId": "54487de8-44dd-4857-96e9-1081c6fb586b"
   },
   "outputs": [
    {
     "data": {
      "text/plain": [
       "GaussianNB(priors=[0.8, 0.2], var_smoothing=1e-09)"
      ]
     },
     "execution_count": 7,
     "metadata": {
      "tags": []
     },
     "output_type": "execute_result"
    }
   ],
   "source": [
    "# train 데이터로 모델 적합\n",
    "model.fit(train2, target)"
   ]
  },
  {
   "cell_type": "markdown",
   "metadata": {
    "id": "vs9UcvKIYTbZ"
   },
   "source": [
    "- 최종 예측"
   ]
  },
  {
   "cell_type": "code",
   "execution_count": 8,
   "metadata": {
    "executionInfo": {
     "elapsed": 349,
     "status": "ok",
     "timestamp": 1628336142533,
     "user": {
      "displayName": "Ko Kyounghyeon",
      "photoUrl": "",
      "userId": "16783283293138680635"
     },
     "user_tz": -540
    },
    "id": "O4CUtlaZYTbZ"
   },
   "outputs": [],
   "source": [
    "pred = model.predict(test2)"
   ]
  },
  {
   "cell_type": "markdown",
   "metadata": {
    "id": "QsbTwVRLYTbZ"
   },
   "source": [
    "- 예측값 저장"
   ]
  },
  {
   "cell_type": "code",
   "execution_count": 9,
   "metadata": {
    "executionInfo": {
     "elapsed": 1296,
     "status": "ok",
     "timestamp": 1628336153738,
     "user": {
      "displayName": "Ko Kyounghyeon",
      "photoUrl": "",
      "userId": "16783283293138680635"
     },
     "user_tz": -540
    },
    "id": "zf90dKvZYTbZ"
   },
   "outputs": [],
   "source": [
    "res = pd.DataFrame(pred, columns=['target'])\n",
    "res = res.reset_index()\n",
    "res = res.rename(columns={\"index\":\"id\"})\n",
    "res['id'] += 1\n",
    "\n",
    "res.to_csv(dirname + '/submission.csv', index=False)"
   ]
  }
 ],
 "metadata": {
  "colab": {
   "collapsed_sections": [],
   "name": "prediction.ipynb",
   "provenance": []
  },
  "kernelspec": {
   "display_name": "Python 3",
   "language": "python",
   "name": "python3"
  },
  "language_info": {
   "codemirror_mode": {
    "name": "ipython",
    "version": 3
   },
   "file_extension": ".py",
   "mimetype": "text/x-python",
   "name": "python",
   "nbconvert_exporter": "python",
   "pygments_lexer": "ipython3",
   "version": "3.7.10"
  }
 },
 "nbformat": 4,
 "nbformat_minor": 0
}
