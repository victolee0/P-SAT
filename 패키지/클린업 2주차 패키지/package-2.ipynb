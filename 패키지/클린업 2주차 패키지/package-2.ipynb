{
 "cells": [
  {
   "cell_type": "markdown",
   "metadata": {},
   "source": [
    "## 문제 0 \n",
    "기본 세팅. tidyverse, data.table, VIM 패키지를 부른 후, setwd로 ‘data.csv’가 있는 폴더로 경로를 설정하고, \n",
    "fread로 ‘data.csv’를 불러오세요.\n",
    "\n"
   ]
  },
  {
   "cell_type": "code",
   "execution_count": 1,
   "metadata": {},
   "outputs": [],
   "source": [
    "import pandas as pd\n",
    "data = pd.read_csv('data.csv')"
   ]
  },
  {
   "cell_type": "code",
   "execution_count": 2,
   "metadata": {},
   "outputs": [
    {
     "data": {
      "text/html": [
       "<div>\n",
       "<style scoped>\n",
       "    .dataframe tbody tr th:only-of-type {\n",
       "        vertical-align: middle;\n",
       "    }\n",
       "\n",
       "    .dataframe tbody tr th {\n",
       "        vertical-align: top;\n",
       "    }\n",
       "\n",
       "    .dataframe thead th {\n",
       "        text-align: right;\n",
       "    }\n",
       "</style>\n",
       "<table border=\"1\" class=\"dataframe\">\n",
       "  <thead>\n",
       "    <tr style=\"text-align: right;\">\n",
       "      <th></th>\n",
       "      <th>OC</th>\n",
       "      <th>bedCount</th>\n",
       "      <th>revenue1</th>\n",
       "      <th>salescost1</th>\n",
       "      <th>sga1</th>\n",
       "      <th>salary1</th>\n",
       "      <th>noi1</th>\n",
       "      <th>noe1</th>\n",
       "      <th>interest1</th>\n",
       "      <th>ctax1</th>\n",
       "      <th>...</th>\n",
       "      <th>inventoryAsset2</th>\n",
       "      <th>nonCAsset2</th>\n",
       "      <th>tanAsset2</th>\n",
       "      <th>OnonCAsset2</th>\n",
       "      <th>receivableL2</th>\n",
       "      <th>debt2</th>\n",
       "      <th>surplus2</th>\n",
       "      <th>employee1</th>\n",
       "      <th>employee2</th>\n",
       "      <th>ownerChange</th>\n",
       "    </tr>\n",
       "  </thead>\n",
       "  <tbody>\n",
       "    <tr>\n",
       "      <th>0</th>\n",
       "      <td>open</td>\n",
       "      <td>175.0</td>\n",
       "      <td>4.217530e+09</td>\n",
       "      <td>0.0</td>\n",
       "      <td>3.961135e+09</td>\n",
       "      <td>2.033835e+09</td>\n",
       "      <td>15652441.0</td>\n",
       "      <td>1.523624e+07</td>\n",
       "      <td>1.323624e+07</td>\n",
       "      <td>31641798.0</td>\n",
       "      <td>...</td>\n",
       "      <td>1.359897e+07</td>\n",
       "      <td>2.548115e+09</td>\n",
       "      <td>2.386263e+09</td>\n",
       "      <td>1.458986e+08</td>\n",
       "      <td>0.0</td>\n",
       "      <td>7.589937e+08</td>\n",
       "      <td>1.271224e+09</td>\n",
       "      <td>62.0</td>\n",
       "      <td>64.0</td>\n",
       "      <td>same</td>\n",
       "    </tr>\n",
       "    <tr>\n",
       "      <th>1</th>\n",
       "      <td>open</td>\n",
       "      <td>410.0</td>\n",
       "      <td>NaN</td>\n",
       "      <td>NaN</td>\n",
       "      <td>NaN</td>\n",
       "      <td>NaN</td>\n",
       "      <td>NaN</td>\n",
       "      <td>NaN</td>\n",
       "      <td>NaN</td>\n",
       "      <td>NaN</td>\n",
       "      <td>...</td>\n",
       "      <td>NaN</td>\n",
       "      <td>NaN</td>\n",
       "      <td>NaN</td>\n",
       "      <td>NaN</td>\n",
       "      <td>NaN</td>\n",
       "      <td>NaN</td>\n",
       "      <td>NaN</td>\n",
       "      <td>801.0</td>\n",
       "      <td>813.0</td>\n",
       "      <td>same</td>\n",
       "    </tr>\n",
       "    <tr>\n",
       "      <th>2</th>\n",
       "      <td>open</td>\n",
       "      <td>468.0</td>\n",
       "      <td>1.004522e+09</td>\n",
       "      <td>515483669.0</td>\n",
       "      <td>4.472197e+08</td>\n",
       "      <td>2.964023e+08</td>\n",
       "      <td>76156.0</td>\n",
       "      <td>3.000000e+04</td>\n",
       "      <td>0.000000e+00</td>\n",
       "      <td>0.0</td>\n",
       "      <td>...</td>\n",
       "      <td>0.000000e+00</td>\n",
       "      <td>0.000000e+00</td>\n",
       "      <td>0.000000e+00</td>\n",
       "      <td>0.000000e+00</td>\n",
       "      <td>0.0</td>\n",
       "      <td>0.000000e+00</td>\n",
       "      <td>0.000000e+00</td>\n",
       "      <td>234.0</td>\n",
       "      <td>1.0</td>\n",
       "      <td>same</td>\n",
       "    </tr>\n",
       "    <tr>\n",
       "      <th>3</th>\n",
       "      <td>open</td>\n",
       "      <td>353.0</td>\n",
       "      <td>7.250734e+10</td>\n",
       "      <td>0.0</td>\n",
       "      <td>7.067740e+10</td>\n",
       "      <td>3.178605e+10</td>\n",
       "      <td>506223059.0</td>\n",
       "      <td>1.259568e+09</td>\n",
       "      <td>1.196881e+09</td>\n",
       "      <td>173769780.0</td>\n",
       "      <td>...</td>\n",
       "      <td>1.235181e+09</td>\n",
       "      <td>3.958356e+10</td>\n",
       "      <td>3.485576e+10</td>\n",
       "      <td>3.915906e+09</td>\n",
       "      <td>0.0</td>\n",
       "      <td>3.775501e+10</td>\n",
       "      <td>7.740829e+09</td>\n",
       "      <td>663.0</td>\n",
       "      <td>663.0</td>\n",
       "      <td>same</td>\n",
       "    </tr>\n",
       "    <tr>\n",
       "      <th>4</th>\n",
       "      <td>open</td>\n",
       "      <td>196.0</td>\n",
       "      <td>4.904354e+10</td>\n",
       "      <td>0.0</td>\n",
       "      <td>4.765605e+10</td>\n",
       "      <td>2.446078e+10</td>\n",
       "      <td>112352259.0</td>\n",
       "      <td>1.419089e+09</td>\n",
       "      <td>1.307249e+09</td>\n",
       "      <td>0.0</td>\n",
       "      <td>...</td>\n",
       "      <td>4.427591e+08</td>\n",
       "      <td>4.653138e+10</td>\n",
       "      <td>4.562945e+10</td>\n",
       "      <td>7.893407e+08</td>\n",
       "      <td>0.0</td>\n",
       "      <td>5.143259e+10</td>\n",
       "      <td>9.025550e+09</td>\n",
       "      <td>206.0</td>\n",
       "      <td>197.0</td>\n",
       "      <td>same</td>\n",
       "    </tr>\n",
       "  </tbody>\n",
       "</table>\n",
       "<p>5 rows × 43 columns</p>\n",
       "</div>"
      ],
      "text/plain": [
       "     OC  bedCount      revenue1   salescost1          sga1       salary1  \\\n",
       "0  open     175.0  4.217530e+09          0.0  3.961135e+09  2.033835e+09   \n",
       "1  open     410.0           NaN          NaN           NaN           NaN   \n",
       "2  open     468.0  1.004522e+09  515483669.0  4.472197e+08  2.964023e+08   \n",
       "3  open     353.0  7.250734e+10          0.0  7.067740e+10  3.178605e+10   \n",
       "4  open     196.0  4.904354e+10          0.0  4.765605e+10  2.446078e+10   \n",
       "\n",
       "          noi1          noe1     interest1        ctax1  ...  inventoryAsset2  \\\n",
       "0   15652441.0  1.523624e+07  1.323624e+07   31641798.0  ...     1.359897e+07   \n",
       "1          NaN           NaN           NaN          NaN  ...              NaN   \n",
       "2      76156.0  3.000000e+04  0.000000e+00          0.0  ...     0.000000e+00   \n",
       "3  506223059.0  1.259568e+09  1.196881e+09  173769780.0  ...     1.235181e+09   \n",
       "4  112352259.0  1.419089e+09  1.307249e+09          0.0  ...     4.427591e+08   \n",
       "\n",
       "     nonCAsset2     tanAsset2   OnonCAsset2  receivableL2         debt2  \\\n",
       "0  2.548115e+09  2.386263e+09  1.458986e+08           0.0  7.589937e+08   \n",
       "1           NaN           NaN           NaN           NaN           NaN   \n",
       "2  0.000000e+00  0.000000e+00  0.000000e+00           0.0  0.000000e+00   \n",
       "3  3.958356e+10  3.485576e+10  3.915906e+09           0.0  3.775501e+10   \n",
       "4  4.653138e+10  4.562945e+10  7.893407e+08           0.0  5.143259e+10   \n",
       "\n",
       "       surplus2  employee1  employee2  ownerChange  \n",
       "0  1.271224e+09       62.0       64.0         same  \n",
       "1           NaN      801.0      813.0         same  \n",
       "2  0.000000e+00      234.0        1.0         same  \n",
       "3  7.740829e+09      663.0      663.0         same  \n",
       "4  9.025550e+09      206.0      197.0         same  \n",
       "\n",
       "[5 rows x 43 columns]"
      ]
     },
     "execution_count": 2,
     "metadata": {},
     "output_type": "execute_result"
    }
   ],
   "source": [
    "data.head()"
   ]
  },
  {
   "cell_type": "markdown",
   "metadata": {},
   "source": [
    "## 문제 1. \n",
    "‘2’로 끝나는 변수를 모두 제거하세요. (단순히 변수의 이름 또는 인덱스 열거를 통한 제거가 아닌 적절한 함수\n",
    "를 사용할 것) (‘2’로 끝나는 변수는 2016년 기준 값이고, ‘1’은 2017년 기준입니다. 정확한 모델링을 위해서는 이를 모두\n",
    "고려해야 하지만, 전처리 방법 학습 및 간단한 모델링을 위해 2017년 기준 변수만 사용하도록 하겠습니다.) "
   ]
  },
  {
   "cell_type": "code",
   "execution_count": 3,
   "metadata": {},
   "outputs": [],
   "source": [
    "cols = [i for i in data.columns.tolist() if i[-1]!='2']\n",
    "data = data[cols]"
   ]
  },
  {
   "cell_type": "markdown",
   "metadata": {},
   "source": [
    "## 문제 2.\n",
    "‘VIM’ 패키지를 이용하여 다음과 같이 시각화 한 후 간단히 해석해 보세요. (아래처럼 변수가 모두 출력이 안될\n",
    "수 있습니다. 사용 색: pink, lightyellow)\n"
   ]
  },
  {
   "cell_type": "code",
   "execution_count": 4,
   "metadata": {},
   "outputs": [
    {
     "data": {
      "text/plain": [
       "<matplotlib.axes._subplots.AxesSubplot at 0x1bfd0b07400>"
      ]
     },
     "execution_count": 4,
     "metadata": {},
     "output_type": "execute_result"
    },
    {
     "data": {
      "image/png": "[encoded data removed]",
      "text/plain": [
       "<Figure size 1080x1440 with 3 Axes>"
      ]
     },
     "metadata": {
      "needs_background": "light"
     },
     "output_type": "display_data"
    }
   ],
   "source": [
    "import matplotlib.pyplot as plt\n",
    "import seaborn as sns\n",
    "import missingno as msno\n",
    "fig, ax = plt.subplots(2, figsize=(15,20))\n",
    "data.isna().sum().plot.bar(color='pink', ax=ax[0])\n",
    "msno.heatmap(data, ax=ax[1])\n"
   ]
  },
  {
   "cell_type": "markdown",
   "metadata": {},
   "source": [
    "(파이썬에서 VIM 패키지처럼 할 방법을 모르겠어서.. 비슷한 의미라고 생각되는 그래프로 대체합니다 죄송합니다)\n",
    "OwnerChange, employee1 변수에 값이 없다면 다른 변수에 값이 없을 수 있다.\n",
    "employee1 변수 값이 있다면 ownerChange 변수에도 값이 있을 확률이 높다."
   ]
  },
  {
   "cell_type": "markdown",
   "metadata": {},
   "source": [
    "## 문제 3-1\n",
    "NA imputation. 숫자 데이터의 NA값을 mean imputation을 통해 채우세요. (lapply 이용할 것)"
   ]
  },
  {
   "cell_type": "code",
   "execution_count": 5,
   "metadata": {},
   "outputs": [],
   "source": [
    "from sklearn.impute import SimpleImputer\n",
    "imp_mean = SimpleImputer(strategy='mean')\n",
    "imp_mean.fit(data.iloc[:,1:-1])\n",
    "data.iloc[:,1:-1] = imp_mean.transform(data.iloc[:,1:-1])"
   ]
  },
  {
   "cell_type": "code",
   "execution_count": 6,
   "metadata": {},
   "outputs": [
    {
     "data": {
      "text/plain": [
       "OC                  0\n",
       "bedCount            0\n",
       "revenue1            0\n",
       "salescost1          0\n",
       "sga1                0\n",
       "salary1             0\n",
       "noi1                0\n",
       "noe1                0\n",
       "interest1           0\n",
       "ctax1               0\n",
       "profit1             0\n",
       "liquidAsset1        0\n",
       "quickAsset1         0\n",
       "receivableS1        0\n",
       "inventoryAsset1     0\n",
       "nonCAsset1          0\n",
       "tanAsset1           0\n",
       "OnonCAsset1         0\n",
       "receivableL1        0\n",
       "debt1               0\n",
       "surplus1            0\n",
       "employee1           0\n",
       "ownerChange        12\n",
       "dtype: int64"
      ]
     },
     "execution_count": 6,
     "metadata": {},
     "output_type": "execute_result"
    }
   ],
   "source": [
    "data.isna().sum()"
   ]
  },
  {
   "cell_type": "markdown",
   "metadata": {},
   "source": [
    "## 문제 3-2 \n",
    "NA imputation. 범주 데이터의 NA값을 mode imputation을 통해 채우세요.\n"
   ]
  },
  {
   "cell_type": "code",
   "execution_count": 7,
   "metadata": {},
   "outputs": [],
   "source": [
    "imp_mode = SimpleImputer(strategy='most_frequent')\n",
    "imp_mode.fit(data)\n",
    "data[:] = imp_mode.transform(data)"
   ]
  },
  {
   "cell_type": "code",
   "execution_count": 8,
   "metadata": {},
   "outputs": [
    {
     "data": {
      "text/plain": [
       "OC                 0\n",
       "bedCount           0\n",
       "revenue1           0\n",
       "salescost1         0\n",
       "sga1               0\n",
       "salary1            0\n",
       "noi1               0\n",
       "noe1               0\n",
       "interest1          0\n",
       "ctax1              0\n",
       "profit1            0\n",
       "liquidAsset1       0\n",
       "quickAsset1        0\n",
       "receivableS1       0\n",
       "inventoryAsset1    0\n",
       "nonCAsset1         0\n",
       "tanAsset1          0\n",
       "OnonCAsset1        0\n",
       "receivableL1       0\n",
       "debt1              0\n",
       "surplus1           0\n",
       "employee1          0\n",
       "ownerChange        0\n",
       "dtype: int64"
      ]
     },
     "execution_count": 8,
     "metadata": {},
     "output_type": "execute_result"
    }
   ],
   "source": [
    "data.isna().sum()"
   ]
  },
  {
   "cell_type": "markdown",
   "metadata": {},
   "source": [
    "## 문제 4.\n",
    "변수 ‘OC(병원 개/폐업 여부)’를 타겟 변수로 사용하기 위해 “open”을 1, “close”를 0으로 바꾸세요.\n"
   ]
  },
  {
   "cell_type": "code",
   "execution_count": 9,
   "metadata": {},
   "outputs": [],
   "source": [
    "data[\"OC\"] = data[\"OC\"].apply(lambda x: 1 if x==\"open\" else 0)"
   ]
  },
  {
   "cell_type": "code",
   "execution_count": 10,
   "metadata": {},
   "outputs": [
    {
     "data": {
      "text/html": [
       "<div>\n",
       "<style scoped>\n",
       "    .dataframe tbody tr th:only-of-type {\n",
       "        vertical-align: middle;\n",
       "    }\n",
       "\n",
       "    .dataframe tbody tr th {\n",
       "        vertical-align: top;\n",
       "    }\n",
       "\n",
       "    .dataframe thead th {\n",
       "        text-align: right;\n",
       "    }\n",
       "</style>\n",
       "<table border=\"1\" class=\"dataframe\">\n",
       "  <thead>\n",
       "    <tr style=\"text-align: right;\">\n",
       "      <th></th>\n",
       "      <th>OC</th>\n",
       "      <th>bedCount</th>\n",
       "      <th>revenue1</th>\n",
       "      <th>salescost1</th>\n",
       "      <th>sga1</th>\n",
       "      <th>salary1</th>\n",
       "      <th>noi1</th>\n",
       "      <th>noe1</th>\n",
       "      <th>interest1</th>\n",
       "      <th>ctax1</th>\n",
       "      <th>...</th>\n",
       "      <th>receivableS1</th>\n",
       "      <th>inventoryAsset1</th>\n",
       "      <th>nonCAsset1</th>\n",
       "      <th>tanAsset1</th>\n",
       "      <th>OnonCAsset1</th>\n",
       "      <th>receivableL1</th>\n",
       "      <th>debt1</th>\n",
       "      <th>surplus1</th>\n",
       "      <th>employee1</th>\n",
       "      <th>ownerChange</th>\n",
       "    </tr>\n",
       "  </thead>\n",
       "  <tbody>\n",
       "    <tr>\n",
       "      <th>0</th>\n",
       "      <td>1</td>\n",
       "      <td>175.0</td>\n",
       "      <td>4.217530e+09</td>\n",
       "      <td>0.000000e+00</td>\n",
       "      <td>3.961135e+09</td>\n",
       "      <td>2.033835e+09</td>\n",
       "      <td>1.565244e+07</td>\n",
       "      <td>1.523624e+07</td>\n",
       "      <td>1.323624e+07</td>\n",
       "      <td>3.164180e+07</td>\n",
       "      <td>...</td>\n",
       "      <td>4.700557e+08</td>\n",
       "      <td>1.502781e+07</td>\n",
       "      <td>2.514586e+09</td>\n",
       "      <td>2.360684e+09</td>\n",
       "      <td>1.434496e+08</td>\n",
       "      <td>0.000000</td>\n",
       "      <td>6.828260e+08</td>\n",
       "      <td>1.496394e+09</td>\n",
       "      <td>62.0</td>\n",
       "      <td>same</td>\n",
       "    </tr>\n",
       "    <tr>\n",
       "      <th>1</th>\n",
       "      <td>1</td>\n",
       "      <td>410.0</td>\n",
       "      <td>1.288175e+10</td>\n",
       "      <td>2.014903e+09</td>\n",
       "      <td>1.033244e+10</td>\n",
       "      <td>5.654115e+09</td>\n",
       "      <td>2.696151e+08</td>\n",
       "      <td>5.115870e+08</td>\n",
       "      <td>1.868966e+08</td>\n",
       "      <td>7.847322e+07</td>\n",
       "      <td>...</td>\n",
       "      <td>6.975862e+08</td>\n",
       "      <td>1.154533e+08</td>\n",
       "      <td>1.140673e+10</td>\n",
       "      <td>1.053408e+10</td>\n",
       "      <td>3.406503e+08</td>\n",
       "      <td>251680.238908</td>\n",
       "      <td>8.765310e+09</td>\n",
       "      <td>1.265935e+09</td>\n",
       "      <td>801.0</td>\n",
       "      <td>same</td>\n",
       "    </tr>\n",
       "    <tr>\n",
       "      <th>2</th>\n",
       "      <td>1</td>\n",
       "      <td>468.0</td>\n",
       "      <td>1.004522e+09</td>\n",
       "      <td>5.154837e+08</td>\n",
       "      <td>4.472197e+08</td>\n",
       "      <td>2.964023e+08</td>\n",
       "      <td>7.615600e+04</td>\n",
       "      <td>3.000000e+04</td>\n",
       "      <td>0.000000e+00</td>\n",
       "      <td>0.000000e+00</td>\n",
       "      <td>...</td>\n",
       "      <td>8.095950e+06</td>\n",
       "      <td>1.875997e+07</td>\n",
       "      <td>1.204810e+08</td>\n",
       "      <td>1.204810e+08</td>\n",
       "      <td>0.000000e+00</td>\n",
       "      <td>0.000000</td>\n",
       "      <td>9.241434e+07</td>\n",
       "      <td>0.000000e+00</td>\n",
       "      <td>234.0</td>\n",
       "      <td>same</td>\n",
       "    </tr>\n",
       "    <tr>\n",
       "      <th>3</th>\n",
       "      <td>1</td>\n",
       "      <td>353.0</td>\n",
       "      <td>7.250734e+10</td>\n",
       "      <td>0.000000e+00</td>\n",
       "      <td>7.067740e+10</td>\n",
       "      <td>3.178605e+10</td>\n",
       "      <td>5.062231e+08</td>\n",
       "      <td>1.259568e+09</td>\n",
       "      <td>1.196881e+09</td>\n",
       "      <td>1.737698e+08</td>\n",
       "      <td>...</td>\n",
       "      <td>0.000000e+00</td>\n",
       "      <td>1.506793e+09</td>\n",
       "      <td>4.317936e+10</td>\n",
       "      <td>3.832078e+10</td>\n",
       "      <td>3.945208e+09</td>\n",
       "      <td>0.000000</td>\n",
       "      <td>4.236380e+10</td>\n",
       "      <td>8.643659e+09</td>\n",
       "      <td>663.0</td>\n",
       "      <td>same</td>\n",
       "    </tr>\n",
       "    <tr>\n",
       "      <th>4</th>\n",
       "      <td>1</td>\n",
       "      <td>196.0</td>\n",
       "      <td>4.904354e+10</td>\n",
       "      <td>0.000000e+00</td>\n",
       "      <td>4.765605e+10</td>\n",
       "      <td>2.446078e+10</td>\n",
       "      <td>1.123523e+08</td>\n",
       "      <td>1.419089e+09</td>\n",
       "      <td>1.307249e+09</td>\n",
       "      <td>0.000000e+00</td>\n",
       "      <td>...</td>\n",
       "      <td>4.099320e+09</td>\n",
       "      <td>4.438186e+08</td>\n",
       "      <td>4.366733e+10</td>\n",
       "      <td>4.330613e+10</td>\n",
       "      <td>2.223400e+08</td>\n",
       "      <td>0.000000</td>\n",
       "      <td>4.989811e+10</td>\n",
       "      <td>9.025550e+09</td>\n",
       "      <td>206.0</td>\n",
       "      <td>same</td>\n",
       "    </tr>\n",
       "  </tbody>\n",
       "</table>\n",
       "<p>5 rows × 23 columns</p>\n",
       "</div>"
      ],
      "text/plain": [
       "   OC  bedCount      revenue1    salescost1          sga1       salary1  \\\n",
       "0   1     175.0  4.217530e+09  0.000000e+00  3.961135e+09  2.033835e+09   \n",
       "1   1     410.0  1.288175e+10  2.014903e+09  1.033244e+10  5.654115e+09   \n",
       "2   1     468.0  1.004522e+09  5.154837e+08  4.472197e+08  2.964023e+08   \n",
       "3   1     353.0  7.250734e+10  0.000000e+00  7.067740e+10  3.178605e+10   \n",
       "4   1     196.0  4.904354e+10  0.000000e+00  4.765605e+10  2.446078e+10   \n",
       "\n",
       "           noi1          noe1     interest1         ctax1  ...  receivableS1  \\\n",
       "0  1.565244e+07  1.523624e+07  1.323624e+07  3.164180e+07  ...  4.700557e+08   \n",
       "1  2.696151e+08  5.115870e+08  1.868966e+08  7.847322e+07  ...  6.975862e+08   \n",
       "2  7.615600e+04  3.000000e+04  0.000000e+00  0.000000e+00  ...  8.095950e+06   \n",
       "3  5.062231e+08  1.259568e+09  1.196881e+09  1.737698e+08  ...  0.000000e+00   \n",
       "4  1.123523e+08  1.419089e+09  1.307249e+09  0.000000e+00  ...  4.099320e+09   \n",
       "\n",
       "   inventoryAsset1    nonCAsset1     tanAsset1   OnonCAsset1   receivableL1  \\\n",
       "0     1.502781e+07  2.514586e+09  2.360684e+09  1.434496e+08       0.000000   \n",
       "1     1.154533e+08  1.140673e+10  1.053408e+10  3.406503e+08  251680.238908   \n",
       "2     1.875997e+07  1.204810e+08  1.204810e+08  0.000000e+00       0.000000   \n",
       "3     1.506793e+09  4.317936e+10  3.832078e+10  3.945208e+09       0.000000   \n",
       "4     4.438186e+08  4.366733e+10  4.330613e+10  2.223400e+08       0.000000   \n",
       "\n",
       "          debt1      surplus1  employee1  ownerChange  \n",
       "0  6.828260e+08  1.496394e+09       62.0         same  \n",
       "1  8.765310e+09  1.265935e+09      801.0         same  \n",
       "2  9.241434e+07  0.000000e+00      234.0         same  \n",
       "3  4.236380e+10  8.643659e+09      663.0         same  \n",
       "4  4.989811e+10  9.025550e+09      206.0         same  \n",
       "\n",
       "[5 rows x 23 columns]"
      ]
     },
     "execution_count": 10,
     "metadata": {},
     "output_type": "execute_result"
    }
   ],
   "source": [
    "data.head()"
   ]
  },
  {
   "cell_type": "markdown",
   "metadata": {},
   "source": [
    "## 문제 5.\n",
    "숫자 데이터 중 integer 자료형인 경우 num(numeric) 자료형으로 바꾸세요. (lapply 이용할 것)\n"
   ]
  },
  {
   "cell_type": "code",
   "execution_count": 11,
   "metadata": {},
   "outputs": [],
   "source": [
    "int_col=['noi1','noe1','interest1','ctax1','profit1','liquidAsset1','quickAsset1','debt1']"
   ]
  },
  {
   "cell_type": "code",
   "execution_count": 12,
   "metadata": {},
   "outputs": [],
   "source": [
    "data[int_col] = data[int_col].astype('int64')"
   ]
  },
  {
   "cell_type": "code",
   "execution_count": 13,
   "metadata": {
    "scrolled": true
   },
   "outputs": [
    {
     "data": {
      "text/html": [
       "<div>\n",
       "<style scoped>\n",
       "    .dataframe tbody tr th:only-of-type {\n",
       "        vertical-align: middle;\n",
       "    }\n",
       "\n",
       "    .dataframe tbody tr th {\n",
       "        vertical-align: top;\n",
       "    }\n",
       "\n",
       "    .dataframe thead th {\n",
       "        text-align: right;\n",
       "    }\n",
       "</style>\n",
       "<table border=\"1\" class=\"dataframe\">\n",
       "  <thead>\n",
       "    <tr style=\"text-align: right;\">\n",
       "      <th></th>\n",
       "      <th>OC</th>\n",
       "      <th>bedCount</th>\n",
       "      <th>revenue1</th>\n",
       "      <th>salescost1</th>\n",
       "      <th>sga1</th>\n",
       "      <th>salary1</th>\n",
       "      <th>noi1</th>\n",
       "      <th>noe1</th>\n",
       "      <th>interest1</th>\n",
       "      <th>ctax1</th>\n",
       "      <th>...</th>\n",
       "      <th>receivableS1</th>\n",
       "      <th>inventoryAsset1</th>\n",
       "      <th>nonCAsset1</th>\n",
       "      <th>tanAsset1</th>\n",
       "      <th>OnonCAsset1</th>\n",
       "      <th>receivableL1</th>\n",
       "      <th>debt1</th>\n",
       "      <th>surplus1</th>\n",
       "      <th>employee1</th>\n",
       "      <th>ownerChange</th>\n",
       "    </tr>\n",
       "  </thead>\n",
       "  <tbody>\n",
       "    <tr>\n",
       "      <th>0</th>\n",
       "      <td>1</td>\n",
       "      <td>175.0</td>\n",
       "      <td>4.217530e+09</td>\n",
       "      <td>0.000000e+00</td>\n",
       "      <td>3.961135e+09</td>\n",
       "      <td>2.033835e+09</td>\n",
       "      <td>15652441</td>\n",
       "      <td>15236236</td>\n",
       "      <td>13236236</td>\n",
       "      <td>31641798</td>\n",
       "      <td>...</td>\n",
       "      <td>4.700557e+08</td>\n",
       "      <td>1.502781e+07</td>\n",
       "      <td>2.514586e+09</td>\n",
       "      <td>2.360684e+09</td>\n",
       "      <td>1.434496e+08</td>\n",
       "      <td>0.000000</td>\n",
       "      <td>682825991</td>\n",
       "      <td>1.496394e+09</td>\n",
       "      <td>62.0</td>\n",
       "      <td>same</td>\n",
       "    </tr>\n",
       "    <tr>\n",
       "      <th>1</th>\n",
       "      <td>1</td>\n",
       "      <td>410.0</td>\n",
       "      <td>1.288175e+10</td>\n",
       "      <td>2.014903e+09</td>\n",
       "      <td>1.033244e+10</td>\n",
       "      <td>5.654115e+09</td>\n",
       "      <td>269615124</td>\n",
       "      <td>511587022</td>\n",
       "      <td>186896557</td>\n",
       "      <td>78473220</td>\n",
       "      <td>...</td>\n",
       "      <td>6.975862e+08</td>\n",
       "      <td>1.154533e+08</td>\n",
       "      <td>1.140673e+10</td>\n",
       "      <td>1.053408e+10</td>\n",
       "      <td>3.406503e+08</td>\n",
       "      <td>251680.238908</td>\n",
       "      <td>8765309695</td>\n",
       "      <td>1.265935e+09</td>\n",
       "      <td>801.0</td>\n",
       "      <td>same</td>\n",
       "    </tr>\n",
       "    <tr>\n",
       "      <th>2</th>\n",
       "      <td>1</td>\n",
       "      <td>468.0</td>\n",
       "      <td>1.004522e+09</td>\n",
       "      <td>5.154837e+08</td>\n",
       "      <td>4.472197e+08</td>\n",
       "      <td>2.964023e+08</td>\n",
       "      <td>76156</td>\n",
       "      <td>30000</td>\n",
       "      <td>0</td>\n",
       "      <td>0</td>\n",
       "      <td>...</td>\n",
       "      <td>8.095950e+06</td>\n",
       "      <td>1.875997e+07</td>\n",
       "      <td>1.204810e+08</td>\n",
       "      <td>1.204810e+08</td>\n",
       "      <td>0.000000e+00</td>\n",
       "      <td>0.000000</td>\n",
       "      <td>92414342</td>\n",
       "      <td>0.000000e+00</td>\n",
       "      <td>234.0</td>\n",
       "      <td>same</td>\n",
       "    </tr>\n",
       "    <tr>\n",
       "      <th>3</th>\n",
       "      <td>1</td>\n",
       "      <td>353.0</td>\n",
       "      <td>7.250734e+10</td>\n",
       "      <td>0.000000e+00</td>\n",
       "      <td>7.067740e+10</td>\n",
       "      <td>3.178605e+10</td>\n",
       "      <td>506223059</td>\n",
       "      <td>1259567512</td>\n",
       "      <td>1196881219</td>\n",
       "      <td>173769780</td>\n",
       "      <td>...</td>\n",
       "      <td>0.000000e+00</td>\n",
       "      <td>1.506793e+09</td>\n",
       "      <td>4.317936e+10</td>\n",
       "      <td>3.832078e+10</td>\n",
       "      <td>3.945208e+09</td>\n",
       "      <td>0.000000</td>\n",
       "      <td>42363797762</td>\n",
       "      <td>8.643659e+09</td>\n",
       "      <td>663.0</td>\n",
       "      <td>same</td>\n",
       "    </tr>\n",
       "    <tr>\n",
       "      <th>4</th>\n",
       "      <td>1</td>\n",
       "      <td>196.0</td>\n",
       "      <td>4.904354e+10</td>\n",
       "      <td>0.000000e+00</td>\n",
       "      <td>4.765605e+10</td>\n",
       "      <td>2.446078e+10</td>\n",
       "      <td>112352259</td>\n",
       "      <td>1419089382</td>\n",
       "      <td>1307248652</td>\n",
       "      <td>0</td>\n",
       "      <td>...</td>\n",
       "      <td>4.099320e+09</td>\n",
       "      <td>4.438186e+08</td>\n",
       "      <td>4.366733e+10</td>\n",
       "      <td>4.330613e+10</td>\n",
       "      <td>2.223400e+08</td>\n",
       "      <td>0.000000</td>\n",
       "      <td>49898105519</td>\n",
       "      <td>9.025550e+09</td>\n",
       "      <td>206.0</td>\n",
       "      <td>same</td>\n",
       "    </tr>\n",
       "  </tbody>\n",
       "</table>\n",
       "<p>5 rows × 23 columns</p>\n",
       "</div>"
      ],
      "text/plain": [
       "   OC  bedCount      revenue1    salescost1          sga1       salary1  \\\n",
       "0   1     175.0  4.217530e+09  0.000000e+00  3.961135e+09  2.033835e+09   \n",
       "1   1     410.0  1.288175e+10  2.014903e+09  1.033244e+10  5.654115e+09   \n",
       "2   1     468.0  1.004522e+09  5.154837e+08  4.472197e+08  2.964023e+08   \n",
       "3   1     353.0  7.250734e+10  0.000000e+00  7.067740e+10  3.178605e+10   \n",
       "4   1     196.0  4.904354e+10  0.000000e+00  4.765605e+10  2.446078e+10   \n",
       "\n",
       "        noi1        noe1   interest1      ctax1  ...  receivableS1  \\\n",
       "0   15652441    15236236    13236236   31641798  ...  4.700557e+08   \n",
       "1  269615124   511587022   186896557   78473220  ...  6.975862e+08   \n",
       "2      76156       30000           0          0  ...  8.095950e+06   \n",
       "3  506223059  1259567512  1196881219  173769780  ...  0.000000e+00   \n",
       "4  112352259  1419089382  1307248652          0  ...  4.099320e+09   \n",
       "\n",
       "   inventoryAsset1    nonCAsset1     tanAsset1   OnonCAsset1   receivableL1  \\\n",
       "0     1.502781e+07  2.514586e+09  2.360684e+09  1.434496e+08       0.000000   \n",
       "1     1.154533e+08  1.140673e+10  1.053408e+10  3.406503e+08  251680.238908   \n",
       "2     1.875997e+07  1.204810e+08  1.204810e+08  0.000000e+00       0.000000   \n",
       "3     1.506793e+09  4.317936e+10  3.832078e+10  3.945208e+09       0.000000   \n",
       "4     4.438186e+08  4.366733e+10  4.330613e+10  2.223400e+08       0.000000   \n",
       "\n",
       "         debt1      surplus1  employee1  ownerChange  \n",
       "0    682825991  1.496394e+09       62.0         same  \n",
       "1   8765309695  1.265935e+09      801.0         same  \n",
       "2     92414342  0.000000e+00      234.0         same  \n",
       "3  42363797762  8.643659e+09      663.0         same  \n",
       "4  49898105519  9.025550e+09      206.0         same  \n",
       "\n",
       "[5 rows x 23 columns]"
      ]
     },
     "execution_count": 13,
     "metadata": {},
     "output_type": "execute_result"
    }
   ],
   "source": [
    "data.head()"
   ]
  },
  {
   "cell_type": "markdown",
   "metadata": {},
   "source": [
    "# Chapter2. 분류모델\n",
    "## 문제 1.\n",
    "앞서 전처리한  데이터를createDataPartition으로 7:3 으로 train과 validation set 으로 나누세요 . (seed :1234, p: 0.3)"
   ]
  },
  {
   "cell_type": "code",
   "execution_count": 14,
   "metadata": {},
   "outputs": [],
   "source": [
    "data['ownerChange'] = data['ownerChange'].apply(lambda x: 1 if x=='same' else 0)"
   ]
  },
  {
   "cell_type": "code",
   "execution_count": 15,
   "metadata": {},
   "outputs": [],
   "source": [
    "from sklearn.model_selection import train_test_split\n",
    "train, test = train_test_split(data, train_size=0.7, test_size=0.3, random_state=1234)"
   ]
  },
  {
   "cell_type": "markdown",
   "metadata": {},
   "source": [
    "## 문제2.\n",
    "Hold-out. train 데이터의 모든 변수를 이용하여 ‘OC’를 타겟으로 하는 로지스틱 회귀를 만들고 validation set\n",
    "의 Accuracy값을 구하세요.\n"
   ]
  },
  {
   "cell_type": "code",
   "execution_count": 16,
   "metadata": {},
   "outputs": [],
   "source": [
    "from sklearn.linear_model import LogisticRegression\n",
    "X = train.iloc[:,1:]\n",
    "y = train.iloc[:,0]\n",
    "clf = LogisticRegression(solver='liblinear').fit(X, y)"
   ]
  },
  {
   "cell_type": "code",
   "execution_count": 17,
   "metadata": {},
   "outputs": [
    {
     "data": {
      "text/plain": [
       "0.8461538461538461"
      ]
     },
     "execution_count": 17,
     "metadata": {},
     "output_type": "execute_result"
    }
   ],
   "source": [
    "x_test = test.iloc[:, 1:]\n",
    "y_test = test.iloc[:, 0]\n",
    "clf.score(x_test,y_test)"
   ]
  },
  {
   "cell_type": "markdown",
   "metadata": {},
   "source": [
    "## 문제 3 \n",
    "Feature selection & Hold-out. 변수선택법 중 다중선택법을 이용하여 변수를 선택하고, 선택된 변수들로 로지\n",
    "스틱 회귀를 만들어 validation set의 Accuracy값을 구하세요."
   ]
  },
  {
   "cell_type": "code",
   "execution_count": 18,
   "metadata": {},
   "outputs": [
    {
     "name": "stdout",
     "output_type": "stream",
     "text": [
      "Character Variables (Dummies Generated, First Dummies Dropped): []\n",
      "Optimization terminated successfully.\n",
      "         Current function value: 0.075285\n",
      "         Iterations 17\n",
      "Eliminated : receivableL1\n",
      "Optimization terminated successfully.\n",
      "         Current function value: 0.075286\n",
      "         Iterations 15\n",
      "Eliminated : ctax1\n",
      "Optimization terminated successfully.\n",
      "         Current function value: 0.075287\n",
      "         Iterations 13\n",
      "Eliminated : tanAsset1\n",
      "Optimization terminated successfully.\n",
      "         Current function value: 0.075304\n",
      "         Iterations 14\n",
      "Eliminated : nonCAsset1\n",
      "Optimization terminated successfully.\n",
      "         Current function value: 0.075311\n",
      "         Iterations 14\n",
      "Eliminated : receivableS1\n",
      "Optimization terminated successfully.\n",
      "         Current function value: 0.075329\n",
      "         Iterations 14\n",
      "Eliminated : employee1\n",
      "Optimization terminated successfully.\n",
      "         Current function value: 0.075555\n",
      "         Iterations 13\n",
      "Eliminated : inventoryAsset1\n",
      "Optimization terminated successfully.\n",
      "         Current function value: 0.076499\n",
      "         Iterations 13\n",
      "Eliminated : bedCount\n",
      "Optimization terminated successfully.\n",
      "         Current function value: 0.077335\n",
      "         Iterations 12\n",
      "Eliminated : noi1\n",
      "Optimization terminated successfully.\n",
      "         Current function value: 0.079043\n",
      "         Iterations 13\n",
      "Eliminated : sga1\n",
      "Optimization terminated successfully.\n",
      "         Current function value: 0.079411\n",
      "         Iterations 12\n",
      "Eliminated : OnonCAsset1\n",
      "Optimization terminated successfully.\n",
      "         Current function value: 0.081719\n",
      "         Iterations 12\n",
      "Eliminated : profit1\n",
      "Optimization terminated successfully.\n",
      "         Current function value: 0.087134\n",
      "         Iterations 11\n",
      "Regained :  profit1\n",
      "                           Logit Regression Results                           \n",
      "==============================================================================\n",
      "Dep. Variable:                     OC   No. Observations:                  210\n",
      "Model:                          Logit   Df Residuals:                      198\n",
      "Method:                           MLE   Df Model:                           11\n",
      "Date:                Thu, 18 Mar 2021   Pseudo R-squ.:                  0.5381\n",
      "Time:                        13:00:27   Log-Likelihood:                -17.161\n",
      "converged:                       True   LL-Null:                       -37.153\n",
      "Covariance Type:            nonrobust   LLR p-value:                 3.599e-05\n",
      "================================================================================\n",
      "                   coef    std err          z      P>|z|      [0.025      0.975]\n",
      "--------------------------------------------------------------------------------\n",
      "intercept        2.3688      0.915      2.588      0.010       0.575       4.163\n",
      "revenue1       1.77e-09   7.85e-10      2.254      0.024    2.31e-10    3.31e-09\n",
      "salescost1   -1.639e-09    1.2e-09     -1.361      0.173      -4e-09    7.21e-10\n",
      "salary1      -2.861e-09   1.18e-09     -2.415      0.016   -5.18e-09   -5.39e-10\n",
      "noe1         -1.449e-09   1.04e-09     -1.389      0.165   -3.49e-09    5.95e-10\n",
      "interest1     -1.59e-08   4.83e-09     -3.292      0.001   -2.54e-08   -6.43e-09\n",
      "profit1      -1.133e-09   9.07e-10     -1.248      0.212   -2.91e-09    6.46e-10\n",
      "liquidAsset1  2.381e-08   1.46e-08      1.628      0.104   -4.86e-09    5.25e-08\n",
      "quickAsset1  -2.415e-08   1.47e-08     -1.638      0.101    -5.3e-08    4.74e-09\n",
      "debt1         2.837e-10   1.44e-10      1.973      0.049    1.85e-12    5.66e-10\n",
      "surplus1     -5.617e-10   2.44e-10     -2.301      0.021   -1.04e-09   -8.33e-11\n",
      "ownerChange      3.3096      1.228      2.694      0.007       0.902       5.717\n",
      "================================================================================\n",
      "\n",
      "Possibly complete quasi-separation: A fraction 0.18 of observations can be\n",
      "perfectly predicted. This might indicate that there is complete\n",
      "quasi-separation. In this case some parameters will not be identified.\n",
      "AIC: 58.32204787432263\n",
      "BIC: 98.48733824293225\n",
      "Final Variables: ['intercept', 'revenue1', 'salescost1', 'salary1', 'noe1', 'interest1', 'profit1', 'liquidAsset1', 'quickAsset1', 'debt1', 'surplus1', 'ownerChange']\n"
     ]
    }
   ],
   "source": [
    "import stepwiseSelection as ss #https://github.com/talhahascelik/python_stepwiseSelection\n",
    "col, log = ss.backwardSelection(X,y, model_type='logistic')"
   ]
  },
  {
   "cell_type": "code",
   "execution_count": 19,
   "metadata": {},
   "outputs": [
    {
     "data": {
      "text/plain": [
       "['revenue1',\n",
       " 'salescost1',\n",
       " 'salary1',\n",
       " 'noe1',\n",
       " 'interest1',\n",
       " 'profit1',\n",
       " 'liquidAsset1',\n",
       " 'quickAsset1',\n",
       " 'debt1',\n",
       " 'surplus1',\n",
       " 'ownerChange']"
      ]
     },
     "execution_count": 19,
     "metadata": {},
     "output_type": "execute_result"
    }
   ],
   "source": [
    "col.remove('intercept')\n",
    "col"
   ]
  },
  {
   "cell_type": "code",
   "execution_count": 20,
   "metadata": {},
   "outputs": [
    {
     "data": {
      "text/plain": [
       "0.8791208791208791"
      ]
     },
     "execution_count": 20,
     "metadata": {},
     "output_type": "execute_result"
    }
   ],
   "source": [
    "clf = LogisticRegression(solver='liblinear').fit(X[col],y)\n",
    "clf.score(x_test[col],y_test)"
   ]
  },
  {
   "cell_type": "markdown",
   "metadata": {},
   "source": [
    "## 문제 4.\n",
    "mtry에 대한 그리드서치를 위해 expand.grid를 이용하여 다음과 같은 데이터 프레임을 만드세요. (데이터 프\n",
    "레임 명: acc_rf)"
   ]
  },
  {
   "cell_type": "code",
   "execution_count": 21,
   "metadata": {},
   "outputs": [
    {
     "data": {
      "text/html": [
       "<div>\n",
       "<style scoped>\n",
       "    .dataframe tbody tr th:only-of-type {\n",
       "        vertical-align: middle;\n",
       "    }\n",
       "\n",
       "    .dataframe tbody tr th {\n",
       "        vertical-align: top;\n",
       "    }\n",
       "\n",
       "    .dataframe thead th {\n",
       "        text-align: right;\n",
       "    }\n",
       "</style>\n",
       "<table border=\"1\" class=\"dataframe\">\n",
       "  <thead>\n",
       "    <tr style=\"text-align: right;\">\n",
       "      <th></th>\n",
       "      <th>mtry</th>\n",
       "      <th>acc</th>\n",
       "    </tr>\n",
       "  </thead>\n",
       "  <tbody>\n",
       "    <tr>\n",
       "      <th>0</th>\n",
       "      <td>3</td>\n",
       "      <td>NA</td>\n",
       "    </tr>\n",
       "    <tr>\n",
       "      <th>1</th>\n",
       "      <td>4</td>\n",
       "      <td>NA</td>\n",
       "    </tr>\n",
       "    <tr>\n",
       "      <th>2</th>\n",
       "      <td>5</td>\n",
       "      <td>NA</td>\n",
       "    </tr>\n",
       "  </tbody>\n",
       "</table>\n",
       "</div>"
      ],
      "text/plain": [
       "   mtry acc\n",
       "0     3  NA\n",
       "1     4  NA\n",
       "2     5  NA"
      ]
     },
     "execution_count": 21,
     "metadata": {},
     "output_type": "execute_result"
    }
   ],
   "source": [
    "acc_rf=pd.DataFrame({'mtry':[3,4,5],'acc':'NA'})\n",
    "acc_rf"
   ]
  },
  {
   "cell_type": "markdown",
   "metadata": {},
   "source": [
    "## 문제 5.\n",
    "로지스틱회귀에서 선택된 변수들로 랜덤포레스트에 대한 5-fold CV 그리드서치를 진행하여 acc_rf의 acc 변\n",
    "수에 해당 Accuracy값을 넣으세요. (ntree 파라미터를 10으로 설정하고, 이중 for문을 이용하여 직접 코드를 짤 것)"
   ]
  },
  {
   "cell_type": "code",
   "execution_count": 22,
   "metadata": {},
   "outputs": [
    {
     "data": {
      "text/plain": [
       "GridSearchCV(estimator=RandomForestClassifier(n_estimators=10,\n",
       "                                              random_state=1234),\n",
       "             param_grid={'max_features': [3, 4, 5]}, scoring='accuracy')"
      ]
     },
     "execution_count": 22,
     "metadata": {},
     "output_type": "execute_result"
    }
   ],
   "source": [
    "from sklearn.model_selection import GridSearchCV\n",
    "from sklearn.ensemble import RandomForestClassifier\n",
    "param = {'max_features':[3,4,5]}\n",
    "rf = RandomForestClassifier(n_estimators=10,random_state=1234)\n",
    "rf.fit(X[col],y)\n",
    "rf_grid = GridSearchCV(rf, param_grid=param, scoring='accuracy')\n",
    "rf_grid.fit(X[col],y)"
   ]
  },
  {
   "cell_type": "code",
   "execution_count": 23,
   "metadata": {},
   "outputs": [
    {
     "data": {
      "text/html": [
       "<div>\n",
       "<style scoped>\n",
       "    .dataframe tbody tr th:only-of-type {\n",
       "        vertical-align: middle;\n",
       "    }\n",
       "\n",
       "    .dataframe tbody tr th {\n",
       "        vertical-align: top;\n",
       "    }\n",
       "\n",
       "    .dataframe thead th {\n",
       "        text-align: right;\n",
       "    }\n",
       "</style>\n",
       "<table border=\"1\" class=\"dataframe\">\n",
       "  <thead>\n",
       "    <tr style=\"text-align: right;\">\n",
       "      <th></th>\n",
       "      <th>mtry</th>\n",
       "      <th>acc</th>\n",
       "    </tr>\n",
       "  </thead>\n",
       "  <tbody>\n",
       "    <tr>\n",
       "      <th>0</th>\n",
       "      <td>3</td>\n",
       "      <td>0.928571</td>\n",
       "    </tr>\n",
       "    <tr>\n",
       "      <th>1</th>\n",
       "      <td>4</td>\n",
       "      <td>0.942857</td>\n",
       "    </tr>\n",
       "    <tr>\n",
       "      <th>2</th>\n",
       "      <td>5</td>\n",
       "      <td>0.947619</td>\n",
       "    </tr>\n",
       "  </tbody>\n",
       "</table>\n",
       "</div>"
      ],
      "text/plain": [
       "   mtry       acc\n",
       "0     3  0.928571\n",
       "1     4  0.942857\n",
       "2     5  0.947619"
      ]
     },
     "execution_count": 23,
     "metadata": {},
     "output_type": "execute_result"
    }
   ],
   "source": [
    "acc_rf['acc']=rf_grid.cv_results_['mean_test_score']\n",
    "acc_rf"
   ]
  },
  {
   "cell_type": "markdown",
   "metadata": {},
   "source": [
    "## 문제 6.\n",
    "acc_rf에서 가장 높은 Accuracy값의 행을 출력하세요."
   ]
  },
  {
   "cell_type": "code",
   "execution_count": 24,
   "metadata": {},
   "outputs": [
    {
     "data": {
      "text/html": [
       "<div>\n",
       "<style scoped>\n",
       "    .dataframe tbody tr th:only-of-type {\n",
       "        vertical-align: middle;\n",
       "    }\n",
       "\n",
       "    .dataframe tbody tr th {\n",
       "        vertical-align: top;\n",
       "    }\n",
       "\n",
       "    .dataframe thead th {\n",
       "        text-align: right;\n",
       "    }\n",
       "</style>\n",
       "<table border=\"1\" class=\"dataframe\">\n",
       "  <thead>\n",
       "    <tr style=\"text-align: right;\">\n",
       "      <th></th>\n",
       "      <th>mtry</th>\n",
       "      <th>acc</th>\n",
       "    </tr>\n",
       "  </thead>\n",
       "  <tbody>\n",
       "    <tr>\n",
       "      <th>2</th>\n",
       "      <td>5</td>\n",
       "      <td>0.947619</td>\n",
       "    </tr>\n",
       "  </tbody>\n",
       "</table>\n",
       "</div>"
      ],
      "text/plain": [
       "   mtry       acc\n",
       "2     5  0.947619"
      ]
     },
     "execution_count": 24,
     "metadata": {},
     "output_type": "execute_result"
    }
   ],
   "source": [
    "acc_rf[acc_rf['acc']==acc_rf['acc'].max()]"
   ]
  },
  {
   "cell_type": "markdown",
   "metadata": {},
   "source": [
    "## 문제 7.\n",
    "가장 좋은 파라미터 조합으로 랜덤포레스트 모델을 학습시킨 후, varImpPlot과 ggplot을 이용해 다음과 같이 시각화 하여 이를 기반으로 모델을 해석해주세요. (사용 색: pink)"
   ]
  },
  {
   "cell_type": "code",
   "execution_count": 25,
   "metadata": {},
   "outputs": [
    {
     "data": {
      "text/plain": [
       "RandomForestClassifier(max_features=4, n_estimators=10, random_state=1234)"
      ]
     },
     "execution_count": 25,
     "metadata": {},
     "output_type": "execute_result"
    }
   ],
   "source": [
    "rf = RandomForestClassifier(n_estimators=10, max_features=4, random_state=1234)\n",
    "rf.fit(X[col],y)\n"
   ]
  },
  {
   "cell_type": "code",
   "execution_count": 26,
   "metadata": {},
   "outputs": [
    {
     "name": "stderr",
     "output_type": "stream",
     "text": [
      "C:\\Users\\vbnmz\\Anaconda3\\lib\\site-packages\\seaborn\\_decorators.py:43: FutureWarning: Pass the following variables as keyword args: x, y. From version 0.12, the only valid positional argument will be `data`, and passing other arguments without an explicit keyword will result in an error or misinterpretation.\n",
      "  FutureWarning\n"
     ]
    },
    {
     "data": {
      "text/plain": [
       "<matplotlib.axes._subplots.AxesSubplot at 0x1bfd48cbf60>"
      ]
     },
     "execution_count": 26,
     "metadata": {},
     "output_type": "execute_result"
    },
    {
     "data": {
      "image/png": "[encoded data removed]",
      "text/plain": [
       "<Figure size 432x288 with 1 Axes>"
      ]
     },
     "metadata": {
      "needs_background": "light"
     },
     "output_type": "display_data"
    }
   ],
   "source": [
    "import seaborn as sns\n",
    "import matplotlib.pyplot as plt\n",
    "x, y = [list(x) for x in zip(*sorted(zip(rf.feature_importances_, col),reverse=True))]\n",
    "fig, ax = plt.subplots()\n",
    "sns.barplot(x, y, color='pink')"
   ]
  },
  {
   "cell_type": "markdown",
   "metadata": {},
   "source": [
    "profit1 변수가 모델에서 큰 영향력을 발휘하고 있고 salary1, noe1, quickAsset1, salescost1 변수는 모델에서 영향력이 약하다."
   ]
  },
  {
   "cell_type": "markdown",
   "metadata": {},
   "source": [
    "# Chapter 3. 회귀모델\n",
    "## 문제 1. Boston 데이터를 8:2로 train과 test set으로 나누세요. (p: 0.2)\n"
   ]
  },
  {
   "cell_type": "code",
   "execution_count": 27,
   "metadata": {},
   "outputs": [],
   "source": [
    "from sklearn.datasets import load_boston\n",
    "X, y = load_boston(return_X_y=True)\n",
    "X_train, X_test, y_train, y_test = train_test_split(X,y,train_size=0.8, random_state=1234)"
   ]
  },
  {
   "cell_type": "markdown",
   "metadata": {},
   "source": [
    "## 문제 2.\n",
    "expand.grid를 이용하여 다음과 같은 데이터 프레임을 만드세요. (데이터 프레임 명: RMSE_rf)"
   ]
  },
  {
   "cell_type": "code",
   "execution_count": 28,
   "metadata": {
    "scrolled": true
   },
   "outputs": [
    {
     "data": {
      "text/html": [
       "<div>\n",
       "<style scoped>\n",
       "    .dataframe tbody tr th:only-of-type {\n",
       "        vertical-align: middle;\n",
       "    }\n",
       "\n",
       "    .dataframe tbody tr th {\n",
       "        vertical-align: top;\n",
       "    }\n",
       "\n",
       "    .dataframe thead th {\n",
       "        text-align: right;\n",
       "    }\n",
       "</style>\n",
       "<table border=\"1\" class=\"dataframe\">\n",
       "  <thead>\n",
       "    <tr style=\"text-align: right;\">\n",
       "      <th></th>\n",
       "      <th>mtry</th>\n",
       "      <th>ntree</th>\n",
       "      <th>RMSE</th>\n",
       "    </tr>\n",
       "  </thead>\n",
       "  <tbody>\n",
       "    <tr>\n",
       "      <th>0</th>\n",
       "      <td>3</td>\n",
       "      <td>10</td>\n",
       "      <td>NA</td>\n",
       "    </tr>\n",
       "    <tr>\n",
       "      <th>1</th>\n",
       "      <td>3</td>\n",
       "      <td>100</td>\n",
       "      <td>NA</td>\n",
       "    </tr>\n",
       "    <tr>\n",
       "      <th>2</th>\n",
       "      <td>3</td>\n",
       "      <td>200</td>\n",
       "      <td>NA</td>\n",
       "    </tr>\n",
       "    <tr>\n",
       "      <th>3</th>\n",
       "      <td>4</td>\n",
       "      <td>10</td>\n",
       "      <td>NA</td>\n",
       "    </tr>\n",
       "    <tr>\n",
       "      <th>4</th>\n",
       "      <td>4</td>\n",
       "      <td>100</td>\n",
       "      <td>NA</td>\n",
       "    </tr>\n",
       "    <tr>\n",
       "      <th>5</th>\n",
       "      <td>4</td>\n",
       "      <td>200</td>\n",
       "      <td>NA</td>\n",
       "    </tr>\n",
       "    <tr>\n",
       "      <th>6</th>\n",
       "      <td>5</td>\n",
       "      <td>10</td>\n",
       "      <td>NA</td>\n",
       "    </tr>\n",
       "    <tr>\n",
       "      <th>7</th>\n",
       "      <td>5</td>\n",
       "      <td>100</td>\n",
       "      <td>NA</td>\n",
       "    </tr>\n",
       "    <tr>\n",
       "      <th>8</th>\n",
       "      <td>5</td>\n",
       "      <td>200</td>\n",
       "      <td>NA</td>\n",
       "    </tr>\n",
       "  </tbody>\n",
       "</table>\n",
       "</div>"
      ],
      "text/plain": [
       "   mtry  ntree RMSE\n",
       "0     3     10   NA\n",
       "1     3    100   NA\n",
       "2     3    200   NA\n",
       "3     4     10   NA\n",
       "4     4    100   NA\n",
       "5     4    200   NA\n",
       "6     5     10   NA\n",
       "7     5    100   NA\n",
       "8     5    200   NA"
      ]
     },
     "execution_count": 28,
     "metadata": {},
     "output_type": "execute_result"
    }
   ],
   "source": [
    "from itertools import product\n",
    "mtry=[3,4,5]\n",
    "ntree=[10,100,200]\n",
    "x=list(product(mtry, ntree))\n",
    "c={'mtry':[i[0] for i in x],'ntree':[i[1] for i in x], 'RMSE':'NA'}\n",
    "RMSE_rf=pd.DataFrame(c)\n",
    "RMSE_rf"
   ]
  },
  {
   "cell_type": "markdown",
   "metadata": {},
   "source": [
    "## 문제 3.\n",
    "medv를 종속변수로 하는 랜덤포레스트에 대한 5-fold CV 그리드서치를 진행하여 RMSE_rf의 RMSE 변수에\n",
    "해당 RMSE값을 넣으세요. (이중 for문을 이용하여 직접 코드를 짤 것)\n"
   ]
  },
  {
   "cell_type": "code",
   "execution_count": 29,
   "metadata": {},
   "outputs": [
    {
     "data": {
      "text/plain": [
       "GridSearchCV(estimator=RandomForestRegressor(random_state=1234),\n",
       "             param_grid={'max_features': [3, 4, 5],\n",
       "                         'n_estimators': [10, 100, 200]},\n",
       "             scoring='neg_mean_squared_error')"
      ]
     },
     "execution_count": 29,
     "metadata": {},
     "output_type": "execute_result"
    }
   ],
   "source": [
    "from sklearn.ensemble import RandomForestRegressor\n",
    "param = {'max_features':[3,4,5], 'n_estimators':[10,100,200]}\n",
    "rf = RandomForestRegressor(random_state=1234)\n",
    "rf.fit(X_train,y_train)\n",
    "rf_grid = GridSearchCV(rf, param_grid=param, scoring='neg_mean_squared_error')\n",
    "rf_grid.fit(X_train,y_train)"
   ]
  },
  {
   "cell_type": "code",
   "execution_count": 30,
   "metadata": {},
   "outputs": [
    {
     "data": {
      "text/html": [
       "<div>\n",
       "<style scoped>\n",
       "    .dataframe tbody tr th:only-of-type {\n",
       "        vertical-align: middle;\n",
       "    }\n",
       "\n",
       "    .dataframe tbody tr th {\n",
       "        vertical-align: top;\n",
       "    }\n",
       "\n",
       "    .dataframe thead th {\n",
       "        text-align: right;\n",
       "    }\n",
       "</style>\n",
       "<table border=\"1\" class=\"dataframe\">\n",
       "  <thead>\n",
       "    <tr style=\"text-align: right;\">\n",
       "      <th></th>\n",
       "      <th>mtry</th>\n",
       "      <th>ntree</th>\n",
       "      <th>RMSE</th>\n",
       "    </tr>\n",
       "  </thead>\n",
       "  <tbody>\n",
       "    <tr>\n",
       "      <th>0</th>\n",
       "      <td>3</td>\n",
       "      <td>10</td>\n",
       "      <td>16.499008</td>\n",
       "    </tr>\n",
       "    <tr>\n",
       "      <th>1</th>\n",
       "      <td>3</td>\n",
       "      <td>100</td>\n",
       "      <td>13.762698</td>\n",
       "    </tr>\n",
       "    <tr>\n",
       "      <th>2</th>\n",
       "      <td>3</td>\n",
       "      <td>200</td>\n",
       "      <td>13.665703</td>\n",
       "    </tr>\n",
       "    <tr>\n",
       "      <th>3</th>\n",
       "      <td>4</td>\n",
       "      <td>10</td>\n",
       "      <td>14.403357</td>\n",
       "    </tr>\n",
       "    <tr>\n",
       "      <th>4</th>\n",
       "      <td>4</td>\n",
       "      <td>100</td>\n",
       "      <td>12.918773</td>\n",
       "    </tr>\n",
       "    <tr>\n",
       "      <th>5</th>\n",
       "      <td>4</td>\n",
       "      <td>200</td>\n",
       "      <td>12.891598</td>\n",
       "    </tr>\n",
       "    <tr>\n",
       "      <th>6</th>\n",
       "      <td>5</td>\n",
       "      <td>10</td>\n",
       "      <td>14.425158</td>\n",
       "    </tr>\n",
       "    <tr>\n",
       "      <th>7</th>\n",
       "      <td>5</td>\n",
       "      <td>100</td>\n",
       "      <td>13.003433</td>\n",
       "    </tr>\n",
       "    <tr>\n",
       "      <th>8</th>\n",
       "      <td>5</td>\n",
       "      <td>200</td>\n",
       "      <td>13.090053</td>\n",
       "    </tr>\n",
       "  </tbody>\n",
       "</table>\n",
       "</div>"
      ],
      "text/plain": [
       "   mtry  ntree       RMSE\n",
       "0     3     10  16.499008\n",
       "1     3    100  13.762698\n",
       "2     3    200  13.665703\n",
       "3     4     10  14.403357\n",
       "4     4    100  12.918773\n",
       "5     4    200  12.891598\n",
       "6     5     10  14.425158\n",
       "7     5    100  13.003433\n",
       "8     5    200  13.090053"
      ]
     },
     "execution_count": 30,
     "metadata": {},
     "output_type": "execute_result"
    }
   ],
   "source": [
    "RMSE_rf['RMSE']=-rf_grid.cv_results_['mean_test_score']\n",
    "RMSE_rf"
   ]
  },
  {
   "cell_type": "markdown",
   "metadata": {},
   "source": [
    "## 문제 4.\n",
    "RMSE_rf에서 가장 낮은 RMSE값을 가진 행을 출력하세요"
   ]
  },
  {
   "cell_type": "code",
   "execution_count": 31,
   "metadata": {},
   "outputs": [
    {
     "data": {
      "text/html": [
       "<div>\n",
       "<style scoped>\n",
       "    .dataframe tbody tr th:only-of-type {\n",
       "        vertical-align: middle;\n",
       "    }\n",
       "\n",
       "    .dataframe tbody tr th {\n",
       "        vertical-align: top;\n",
       "    }\n",
       "\n",
       "    .dataframe thead th {\n",
       "        text-align: right;\n",
       "    }\n",
       "</style>\n",
       "<table border=\"1\" class=\"dataframe\">\n",
       "  <thead>\n",
       "    <tr style=\"text-align: right;\">\n",
       "      <th></th>\n",
       "      <th>mtry</th>\n",
       "      <th>ntree</th>\n",
       "      <th>RMSE</th>\n",
       "    </tr>\n",
       "  </thead>\n",
       "  <tbody>\n",
       "    <tr>\n",
       "      <th>5</th>\n",
       "      <td>4</td>\n",
       "      <td>200</td>\n",
       "      <td>12.891598</td>\n",
       "    </tr>\n",
       "  </tbody>\n",
       "</table>\n",
       "</div>"
      ],
      "text/plain": [
       "   mtry  ntree       RMSE\n",
       "5     4    200  12.891598"
      ]
     },
     "execution_count": 31,
     "metadata": {},
     "output_type": "execute_result"
    }
   ],
   "source": [
    "RMSE_rf[RMSE_rf['RMSE']==RMSE_rf['RMSE'].min()]"
   ]
  },
  {
   "cell_type": "markdown",
   "metadata": {},
   "source": [
    "## 문제 5. \n",
    "train set으로 그리드 서치로 나온 가장 좋은 조합의 파라미터의 랜덤포레스트를 학습시킨 후, test set의\n",
    "RMSE를 구하세요"
   ]
  },
  {
   "cell_type": "code",
   "execution_count": 32,
   "metadata": {},
   "outputs": [
    {
     "data": {
      "text/plain": [
       "{'max_features': 4, 'n_estimators': 200}"
      ]
     },
     "execution_count": 32,
     "metadata": {},
     "output_type": "execute_result"
    }
   ],
   "source": [
    "rf_grid.best_params_"
   ]
  },
  {
   "cell_type": "code",
   "execution_count": 33,
   "metadata": {},
   "outputs": [
    {
     "data": {
      "text/plain": [
       "9.094981105392145"
      ]
     },
     "execution_count": 33,
     "metadata": {},
     "output_type": "execute_result"
    }
   ],
   "source": [
    "from sklearn import metrics\n",
    "rf = RandomForestRegressor(n_estimators=200, max_features=4, random_state=1234)\n",
    "rf.fit(X_train,y_train)\n",
    "pred = rf.predict(X_test)\n",
    "metrics.mean_squared_error(y_test, pred)"
   ]
  }
 ],
 "metadata": {
  "kernelspec": {
   "display_name": "Python 3",
   "language": "python",
   "name": "python3"
  },
  "language_info": {
   "codemirror_mode": {
    "name": "ipython",
    "version": 3
   },
   "file_extension": ".py",
   "mimetype": "text/x-python",
   "name": "python",
   "nbconvert_exporter": "python",
   "pygments_lexer": "ipython3",
   "version": "3.7.3"
  }
 },
 "nbformat": 4,
 "nbformat_minor": 2
}
