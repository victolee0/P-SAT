{
 "cells": [
  {
   "cell_type": "markdown",
   "metadata": {},
   "source": [
    "# 21-01 주제분석 3주차 패키지"
   ]
  },
  {
   "cell_type": "markdown",
   "metadata": {},
   "source": [
    "- 주제분석 3주차 분석 툴은 Python/R 둘 다 가능합니다. \n",
    "    - 1-3주차 패키지 문제의 조건 및 힌트는 Python을 기준으로 하지만, R을 사용해도 무방합니다.\n",
    "    - 다만 2/3주차의 머신러닝/딥러닝 모듈을 편하게 사용하기 위해서는 Python이 더 편할겁니다.\n",
    "\n",
    "- 제출형식은 pdf/html/doc/ppt 등 발표가 가능하면 괜찮습니다. 하지만 html로 주시면 가장 감사합니다.\n",
    "\n",
    "- 패키지 과제 발표는 세미나 쉬는시간 이후에 하게 되며, 역시 랜덤으로 5시00분에 발표됩니다.\n",
    "\n",
    "- 제출기한은 목요일 자정까지이며 지각시 벌금 5000원이 있습니다. 미제출 시 만원입니다. \n",
    "    - 패키지 2회 무단 미제출 시 퇴출이니 유의해 주세요."
   ]
  },
  {
   "cell_type": "code",
   "execution_count": 1,
   "metadata": {},
   "outputs": [],
   "source": [
    "import pandas as pd\n",
    "import numpy as np\n",
    "import matplotlib.pyplot as plt\n",
    "import seaborn as sns\n",
    "from category_encoders.cat_boost import CatBoostEncoder\n",
    "import lightgbm as lbm\n",
    "from lightgbm import LGBMModel, LGBMRegressor"
   ]
  },
  {
   "cell_type": "markdown",
   "metadata": {},
   "source": [
    "- 이번주에 다룰 내용은 머신러닝 모델의 해석/기본적인 딥러닝입니다.\n",
    "- 더불어서 다뤄지지는 내용은 randomness control입니다.\n",
    "- 먼저 주어진 코드를 실행하세요."
   ]
  },
  {
   "cell_type": "code",
   "execution_count": 2,
   "metadata": {},
   "outputs": [
    {
     "data": {
      "text/plain": [
       "LGBMRegressor(learning_rate=0.3)"
      ]
     },
     "execution_count": 2,
     "metadata": {},
     "output_type": "execute_result"
    }
   ],
   "source": [
    "train = pd.read_csv('train.csv')\n",
    "test=  pd.read_csv('test.csv')\n",
    "\n",
    "train_x = train.drop(['price'], axis = 1)\n",
    "train_y = train.loc[:, ['price']]\n",
    "test_x = test.drop(['price'], axis = 1)\n",
    "test_y = np.sqrt(test.loc[:, ['price']])\n",
    "\n",
    "feature_list = list(train_x.columns)\n",
    "\n",
    "CBE_encoder = CatBoostEncoder()\n",
    "train_cbe = CBE_encoder.fit_transform(train_x[feature_list], train_y)\n",
    "test_cbe = CBE_encoder.transform(test_x[feature_list])\n",
    "\n",
    "best_lgbm_reg = LGBMRegressor(learning_rate = 0.3)\n",
    "best_lgbm_reg.fit(train_cbe, train_y)"
   ]
  },
  {
   "cell_type": "markdown",
   "metadata": {},
   "source": [
    "## 1. Interpretable ML\n",
    "\n",
    "해석가능한 머신러닝은 모델의 결과를 해석하기 위한 방법들입니다. 보통 랜덤포레스트(Random Forest)에서 Feature(Variable) Importance에 대해 들어본 적이 있을텐데, 그것과 유사합니다. Interpretable ML 방법의 특징은 어떤 모델에도 다 적용이 가능하다는건데, SVM이나 Neural Net같이 해석이 불가능하다고 알려진 모델들도 어떤 변수들이 모델을 만드는데 있어서 주요하게 사용되었는지를 파악할 수 있게 해줍니다. 물론 회귀분석처럼 '다른 변수들을 고정시킨 상황에서 $x_1$이 한단위 증가하면 $y$가 평균적으로 $\\beta_1$만큼 증가한다' 라고 말할수는 없지만요!\n",
    "\n",
    "Feature Importance/Partial Dependence Plot/Lime/SHAP 에 대한 해석은 조금 조심해야할 필요가 있습니다. 밑의 링크의 '모델해석 및 이탈원인 분석'을 참고하면 되는데, 처음에 딱 이해하기 쉬운 개념은 아니지만 나중에 보다보면 더 이해가 잘 되실 것 같아요.\n",
    "\n",
    "https://danbi-ncsoft.github.io/competition/2019/02/19/big-contest-2018-retrospect.html\n",
    "\n",
    "나중에 관심있으시면 이 책을 보는 것을 추천드립니다. 저도 아직 안봄 ㅎ\n",
    "\n",
    "https://christophm.github.io/interpretable-ml-book/"
   ]
  },
  {
   "cell_type": "markdown",
   "metadata": {},
   "source": [
    "#### **오늘의 해석은 각각 방법에 입각해서 엄밀하게 해석할 필요없이, 그냥 가볍게 해석해주시면 됩니다!**"
   ]
  },
  {
   "cell_type": "markdown",
   "metadata": {},
   "source": [
    "### 1.1 모델 불러오기\n",
    "\n",
    "주어진 패키지를 불러오고, `lgbm.pkl`을 불러오세요."
   ]
  },
  {
   "cell_type": "code",
   "execution_count": 3,
   "metadata": {},
   "outputs": [
    {
     "data": {
      "text/plain": [
       "LGBMRegressor(learning_rate=0.3)"
      ]
     },
     "execution_count": 3,
     "metadata": {},
     "output_type": "execute_result"
    }
   ],
   "source": [
    "#1.1\n",
    "import pickle\n",
    "import joblib\n",
    "\n",
    "with open('lgbm.pkl', 'rb') as f:\n",
    "    model = pickle.load(f)\n",
    "model"
   ]
  },
  {
   "cell_type": "markdown",
   "metadata": {},
   "source": [
    "### 1.2 Feature Importance 확인과 해석\n",
    "\n",
    "- 불러온 모델에 대해 `plot_importance`함수를 통해 Feature Importance를 시각화해주세요.\n",
    "- 결과에 대해 간단히 해석해주세요.\n",
    "\n",
    "여기서 Feature Importance는 Permutation를 통한 중요도를 보는 것이 아니고, tree 모델 자체의 구성에서 어떤 변수가 지니불순도를 잘 줄였는지를 확인한 것이라고 이해해주시면 됩니다. "
   ]
  },
  {
   "cell_type": "code",
   "execution_count": 4,
   "metadata": {},
   "outputs": [
    {
     "data": {
      "text/plain": [
       "<matplotlib.axes._subplots.AxesSubplot at 0x1e647696b00>"
      ]
     },
     "execution_count": 4,
     "metadata": {},
     "output_type": "execute_result"
    },
    {
     "data": {
      "image/png": "[encoded data removed]",
      "text/plain": [
       "<Figure size 432x288 with 1 Axes>"
      ]
     },
     "metadata": {
      "needs_background": "light"
     },
     "output_type": "display_data"
    }
   ],
   "source": [
    "lbm.plot_importance(model)"
   ]
  },
  {
   "cell_type": "markdown",
   "metadata": {},
   "source": [
    "지니불순도 - tree의 노드에 샘플들이 이질적으로 구성되어 있을 경우 지니 불순도는 높아진다.\n",
    "\n",
    "\n",
    "lightgbm은 tree 형태의 모델인데, 이 tree에서 exclusive_use_area 변수가 불순도를 가장 크게 감소시킨다고 해석할 수 있다"
   ]
  },
  {
   "cell_type": "markdown",
   "metadata": {},
   "source": [
    "**이제는 불러온 모델 말고, `best_lgbm_reg`를 사용하세요.**"
   ]
  },
  {
   "cell_type": "markdown",
   "metadata": {},
   "source": [
    "### 1.3 Randomness Control\n",
    "\n",
    "- `random, numpy` 패키지의 난수를 42로 고정하세요.\n",
    "- 더불어서 `os` 패키지의 난수도 고정해야합니다.\n",
    "\n",
    "Permutation 방식의 Feature Importance를 시행한건데, permutation자체에 랜덤성이 있다보니 결과가 재현 가능하도록 시드를 고정해줍니다.\n",
    "\n",
    "파이썬의 시드 고정은 R처럼 그냥 `set.seed()`한다고 해서 고정되지 않습니다. 전체 파이썬과 여러 패키지들의 randomness를 각각 고정해주어야 재현가능해집니다. 정말 귀찮고, 딥러닝의 경우 GPU를 사용할 경우 GPU의 계산과 관련된 시드를 고정하면 속도가 상당히 느려진다고 알려져 있습니다. 더불어서 재현도 100%되진 않으며 성능도 살짝 떨어진다고는 하지만, GPU를 사용하지 않는 경우에는 문제가 없고 최소한 할줄은 알아야겠죠?\n",
    "\n",
    "더불어서 왜 저런식으로 복잡하게 구성이 되는가?에 대해 궁금할 수 있는데 찾아본 적은 없지만 아마도 `numpy`는 c++가 뒤에서 연산을 해주는 것으로 알고있고(그래서 빠름!), `random`은 그냥 파이썬이고, `os`는 우리 os를 건드리는 것이 아닐까....? 추측입니다 :)"
   ]
  },
  {
   "cell_type": "code",
   "execution_count": 5,
   "metadata": {},
   "outputs": [],
   "source": [
    "#1.3\n",
    "import os\n",
    "import random\n",
    "random.seed(42)\n",
    "np.random.seed(42)\n"
   ]
  },
  {
   "cell_type": "markdown",
   "metadata": {},
   "source": [
    "### 1.4 Permutation Feature Importance\n",
    "\n",
    "- permutation feature importance를 계산하기 위해 `best_lgbm_reg`를 `permutation_importance`함수를 사용해 test set에 적합하세요.\n",
    "- permutation feature importance를 시각화해주세요.\n",
    "\n",
    "위의 1.2에서는 train에서 변수중요도를 보고, 지금은 test에서 봐서 좀 이상하다고 생각할수도 있습니다. 편의를 위해, 그리고 실제로 변수중요도에 대한 부분에서 어떤 set에 대해 봐야하는지가 100% 정답처럼 있는 것은 아니라고 알고 있어요.(물론 제가 틀렸을수도!) 아무튼 너무 신경쓰지말고 해주세요!"
   ]
  },
  {
   "cell_type": "code",
   "execution_count": 6,
   "metadata": {},
   "outputs": [],
   "source": [
    "#1.4\n",
    "from sklearn.inspection import permutation_importance\n",
    "res = permutation_importance(best_lgbm_reg,test_cbe, test_y)"
   ]
  },
  {
   "cell_type": "code",
   "execution_count": 7,
   "metadata": {},
   "outputs": [
    {
     "data": {
      "text/plain": [
       "<matplotlib.axes._subplots.AxesSubplot at 0x1e64a479438>"
      ]
     },
     "execution_count": 7,
     "metadata": {},
     "output_type": "execute_result"
    },
    {
     "data": {
      "image/png": "[encoded data removed]",
      "text/plain": [
       "<Figure size 432x288 with 1 Axes>"
      ]
     },
     "metadata": {
      "needs_background": "light"
     },
     "output_type": "display_data"
    }
   ],
   "source": [
    "imp = pd.Series(res.importances_mean)\n",
    "imp.plot.bar(yerr=res.importances_std)"
   ]
  },
  {
   "cell_type": "markdown",
   "metadata": {},
   "source": [
    "### 1.5 SHAP(SHapley Additive exPlanations)의 확인과 해석\n",
    "\n",
    "- SHAP Value를 구하고 간단한 해석을 해주세요.\n",
    "- `shap.TreeExplainer`, `shap_values`, `shap.summary_plot` 정도의 함수만 사용하면 됩니다.\n",
    "- 결과가 좀 다른건 상관없습니다."
   ]
  },
  {
   "cell_type": "code",
   "execution_count": 8,
   "metadata": {},
   "outputs": [
    {
     "name": "stderr",
     "output_type": "stream",
     "text": [
      "C:\\Users\\vbnmz\\Anaconda3\\lib\\site-packages\\tensorflow\\python\\framework\\dtypes.py:516: FutureWarning: Passing (type, 1) or '1type' as a synonym of type is deprecated; in a future version of numpy, it will be understood as (type, (1,)) / '(1,)type'.\n",
      "  _np_qint8 = np.dtype([(\"qint8\", np.int8, 1)])\n",
      "C:\\Users\\vbnmz\\Anaconda3\\lib\\site-packages\\tensorflow\\python\\framework\\dtypes.py:517: FutureWarning: Passing (type, 1) or '1type' as a synonym of type is deprecated; in a future version of numpy, it will be understood as (type, (1,)) / '(1,)type'.\n",
      "  _np_quint8 = np.dtype([(\"quint8\", np.uint8, 1)])\n",
      "C:\\Users\\vbnmz\\Anaconda3\\lib\\site-packages\\tensorflow\\python\\framework\\dtypes.py:518: FutureWarning: Passing (type, 1) or '1type' as a synonym of type is deprecated; in a future version of numpy, it will be understood as (type, (1,)) / '(1,)type'.\n",
      "  _np_qint16 = np.dtype([(\"qint16\", np.int16, 1)])\n",
      "C:\\Users\\vbnmz\\Anaconda3\\lib\\site-packages\\tensorflow\\python\\framework\\dtypes.py:519: FutureWarning: Passing (type, 1) or '1type' as a synonym of type is deprecated; in a future version of numpy, it will be understood as (type, (1,)) / '(1,)type'.\n",
      "  _np_quint16 = np.dtype([(\"quint16\", np.uint16, 1)])\n",
      "C:\\Users\\vbnmz\\Anaconda3\\lib\\site-packages\\tensorflow\\python\\framework\\dtypes.py:520: FutureWarning: Passing (type, 1) or '1type' as a synonym of type is deprecated; in a future version of numpy, it will be understood as (type, (1,)) / '(1,)type'.\n",
      "  _np_qint32 = np.dtype([(\"qint32\", np.int32, 1)])\n",
      "C:\\Users\\vbnmz\\Anaconda3\\lib\\site-packages\\tensorflow\\python\\framework\\dtypes.py:525: FutureWarning: Passing (type, 1) or '1type' as a synonym of type is deprecated; in a future version of numpy, it will be understood as (type, (1,)) / '(1,)type'.\n",
      "  np_resource = np.dtype([(\"resource\", np.ubyte, 1)])\n",
      "C:\\Users\\vbnmz\\Anaconda3\\lib\\site-packages\\tensorboard\\compat\\tensorflow_stub\\dtypes.py:541: FutureWarning: Passing (type, 1) or '1type' as a synonym of type is deprecated; in a future version of numpy, it will be understood as (type, (1,)) / '(1,)type'.\n",
      "  _np_qint8 = np.dtype([(\"qint8\", np.int8, 1)])\n",
      "C:\\Users\\vbnmz\\Anaconda3\\lib\\site-packages\\tensorboard\\compat\\tensorflow_stub\\dtypes.py:542: FutureWarning: Passing (type, 1) or '1type' as a synonym of type is deprecated; in a future version of numpy, it will be understood as (type, (1,)) / '(1,)type'.\n",
      "  _np_quint8 = np.dtype([(\"quint8\", np.uint8, 1)])\n",
      "C:\\Users\\vbnmz\\Anaconda3\\lib\\site-packages\\tensorboard\\compat\\tensorflow_stub\\dtypes.py:543: FutureWarning: Passing (type, 1) or '1type' as a synonym of type is deprecated; in a future version of numpy, it will be understood as (type, (1,)) / '(1,)type'.\n",
      "  _np_qint16 = np.dtype([(\"qint16\", np.int16, 1)])\n",
      "C:\\Users\\vbnmz\\Anaconda3\\lib\\site-packages\\tensorboard\\compat\\tensorflow_stub\\dtypes.py:544: FutureWarning: Passing (type, 1) or '1type' as a synonym of type is deprecated; in a future version of numpy, it will be understood as (type, (1,)) / '(1,)type'.\n",
      "  _np_quint16 = np.dtype([(\"quint16\", np.uint16, 1)])\n",
      "C:\\Users\\vbnmz\\Anaconda3\\lib\\site-packages\\tensorboard\\compat\\tensorflow_stub\\dtypes.py:545: FutureWarning: Passing (type, 1) or '1type' as a synonym of type is deprecated; in a future version of numpy, it will be understood as (type, (1,)) / '(1,)type'.\n",
      "  _np_qint32 = np.dtype([(\"qint32\", np.int32, 1)])\n",
      "C:\\Users\\vbnmz\\Anaconda3\\lib\\site-packages\\tensorboard\\compat\\tensorflow_stub\\dtypes.py:550: FutureWarning: Passing (type, 1) or '1type' as a synonym of type is deprecated; in a future version of numpy, it will be understood as (type, (1,)) / '(1,)type'.\n",
      "  np_resource = np.dtype([(\"resource\", np.ubyte, 1)])\n"
     ]
    }
   ],
   "source": [
    "#1.5\n",
    "import shap\n",
    "explainer = shap.TreeExplainer(best_lgbm_reg)\n",
    "shap_values = explainer.shap_values(train_cbe)"
   ]
  },
  {
   "cell_type": "code",
   "execution_count": 9,
   "metadata": {},
   "outputs": [
    {
     "data": {
      "image/png": "[encoded data removed]",
      "text/plain": [
       "<Figure size 576x338.4 with 2 Axes>"
      ]
     },
     "metadata": {
      "needs_background": "light"
     },
     "output_type": "display_data"
    }
   ],
   "source": [
    "shap.summary_plot(shap_values, train_cbe)"
   ]
  },
  {
   "cell_type": "markdown",
   "metadata": {},
   "source": [
    "apt,exclusive_use_area, dong, transaction_year,floor 변수의 값이 높을수록 가격이 높은 경향이 있다\n",
    "\n",
    "until_trans 변수의 값이 낮을수록 예상 가격이 높은 경향성이 있다\n",
    "\n",
    "나머지 변수는 상관성을 파악하기 어렵다"
   ]
  },
  {
   "cell_type": "markdown",
   "metadata": {},
   "source": [
    "## 2. 딥러닝 기본\n",
    "\n",
    "딥러닝 정말 간단히 해볼겁니다!"
   ]
  },
  {
   "cell_type": "markdown",
   "metadata": {},
   "source": [
    "### 2.1 주어진 코드를 실행하고, 현재 신경망의 구조에 대해 간단히 설명해주세요."
   ]
  },
  {
   "cell_type": "code",
   "execution_count": 10,
   "metadata": {},
   "outputs": [],
   "source": [
    "#2.1\n",
    "train = pd.read_csv('train.csv')\n",
    "train_x = train.drop(['price'], axis = 1)\n",
    "train_y = train.loc[:, ['price']]\n",
    "\n",
    "val_x = train_x[train['transaction_year'] == 4]\n",
    "val_y = train_y[train['transaction_year'] == 4]\n",
    "train_tune_x = train_x[train['transaction_year'] < 4]\n",
    "train_tune_y = train_y[train['transaction_year'] < 4]\n",
    "\n",
    "CBE_encoder = CatBoostEncoder()\n",
    "train_tune_cbe = CBE_encoder.fit_transform(train_tune_x[feature_list], train_tune_y)\n",
    "val_cbe = CBE_encoder.transform(val_x[feature_list])"
   ]
  },
  {
   "cell_type": "code",
   "execution_count": 11,
   "metadata": {},
   "outputs": [
    {
     "name": "stderr",
     "output_type": "stream",
     "text": [
      "Using TensorFlow backend.\n"
     ]
    }
   ],
   "source": [
    "import tensorflow as tf\n",
    "import keras\n",
    "from keras import metrics\n",
    "from keras import models\n",
    "from keras import layers\n",
    "from keras.layers import Dense\n",
    "from keras.optimizers import Adam"
   ]
  },
  {
   "cell_type": "code",
   "execution_count": 12,
   "metadata": {},
   "outputs": [],
   "source": [
    "def build_model():\n",
    "    model = keras.Sequential([\n",
    "    layers.Dense(256, activation='relu', input_shape=[len(train_tune_cbe.keys())]),\n",
    "    layers.Dense(64, activation='relu'),\n",
    "    layers.Dense(32, activation='relu'),\n",
    "    layers.Dense(1)\n",
    "    ])\n",
    "\n",
    "    optimizer = keras.optimizers.RMSprop(0.0001)\n",
    "\n",
    "    model.compile(loss='mse',\n",
    "                optimizer=optimizer,\n",
    "                metrics=['mse'])\n",
    "    return model"
   ]
  },
  {
   "cell_type": "code",
   "execution_count": 13,
   "metadata": {
    "scrolled": true
   },
   "outputs": [
    {
     "name": "stdout",
     "output_type": "stream",
     "text": [
      "Model: \"sequential_1\"\n",
      "_________________________________________________________________\n",
      "Layer (type)                 Output Shape              Param #   \n",
      "=================================================================\n",
      "dense_1 (Dense)              (None, 256)               2304      \n",
      "_________________________________________________________________\n",
      "dense_2 (Dense)              (None, 64)                16448     \n",
      "_________________________________________________________________\n",
      "dense_3 (Dense)              (None, 32)                2080      \n",
      "_________________________________________________________________\n",
      "dense_4 (Dense)              (None, 1)                 33        \n",
      "=================================================================\n",
      "Total params: 20,865\n",
      "Trainable params: 20,865\n",
      "Non-trainable params: 0\n",
      "_________________________________________________________________\n"
     ]
    }
   ],
   "source": [
    "model = build_model()\n",
    "model.summary()"
   ]
  },
  {
   "cell_type": "markdown",
   "metadata": {},
   "source": [
    "4개의 hiddden layer로 구성되어 있으며 각 layer는 256, 64, 32, 1개의 output을 결과로 낸다."
   ]
  },
  {
   "cell_type": "markdown",
   "metadata": {},
   "source": [
    "### 2.2 training loss와 validation loss를 시각화하세요.\n",
    "\n",
    "- 본인 컴에서 돌리면 꽤나 돌아갈수도 있어요. 주분과 함께하려면 패키지가 코랩으로 가거나, 주분이 코랩으로 가면 한번에 투 컴을 돌릴 수 있습니다."
   ]
  },
  {
   "cell_type": "code",
   "execution_count": 15,
   "metadata": {},
   "outputs": [
    {
     "name": "stderr",
     "output_type": "stream",
     "text": [
      "WARNING: Logging before flag parsing goes to stderr.\n",
      "W0506 17:45:31.053600 36916 deprecation_wrapper.py:119] From C:\\Users\\vbnmz\\Anaconda3\\lib\\site-packages\\keras\\backend\\tensorflow_backend.py:422: The name tf.global_variables is deprecated. Please use tf.compat.v1.global_variables instead.\n",
      "\n"
     ]
    },
    {
     "name": "stdout",
     "output_type": "stream",
     "text": [
      "Train on 312466 samples, validate on 109698 samples\n",
      "Epoch 1/300\n",
      "312466/312466 [==============================] - 3s 10us/step - loss: 441217023.0497 - mse: 441216960.0000 - val_loss: 326224818.8672 - val_mse: 326224800.0000\n",
      "Epoch 2/300\n",
      "312466/312466 [==============================] - 3s 10us/step - loss: 232555916.7627 - mse: 232555904.0000 - val_loss: 341022206.0873 - val_mse: 341022272.0000\n",
      "Epoch 3/300\n",
      "312466/312466 [==============================] - 3s 10us/step - loss: 232284114.9962 - mse: 232284032.0000 - val_loss: 342789922.0347 - val_mse: 342789888.0000\n",
      "Epoch 4/300\n",
      "312466/312466 [==============================] - 3s 10us/step - loss: 231966956.5652 - mse: 231966944.0000 - val_loss: 327348914.0440 - val_mse: 327348960.0000\n",
      "Epoch 5/300\n",
      "312466/312466 [==============================] - 3s 9us/step - loss: 231694103.3777 - mse: 231694160.0000 - val_loss: 324929219.1986 - val_mse: 324929120.0000\n",
      "Epoch 6/300\n",
      "312466/312466 [==============================] - 3s 10us/step - loss: 231284568.4957 - mse: 231284592.0000 - val_loss: 356335761.4163 - val_mse: 356335712.0000\n",
      "Epoch 7/300\n",
      "312466/312466 [==============================] - 3s 10us/step - loss: 231140544.6599 - mse: 231140512.0000 - val_loss: 318269346.9269 - val_mse: 318269376.0000\n",
      "Epoch 8/300\n",
      "312466/312466 [==============================] - 3s 10us/step - loss: 230750778.5552 - mse: 230750880.0000 - val_loss: 323318155.8714 - val_mse: 323318176.0000\n",
      "Epoch 9/300\n",
      "312466/312466 [==============================] - 3s 10us/step - loss: 230451540.1487 - mse: 230451488.0000 - val_loss: 346237786.3897 - val_mse: 346237824.0000\n",
      "Epoch 10/300\n",
      "312466/312466 [==============================] - 3s 10us/step - loss: 229987230.6062 - mse: 229987232.0000 - val_loss: 320070486.9576 - val_mse: 320070464.0000\n",
      "Epoch 11/300\n",
      "312466/312466 [==============================] - 3s 11us/step - loss: 229562495.3041 - mse: 229562544.0000 - val_loss: 336511753.1585 - val_mse: 336511712.0000\n",
      "Epoch 12/300\n",
      "312466/312466 [==============================] - 4s 14us/step - loss: 229022689.9866 - mse: 229022672.0000 - val_loss: 305793521.0019 - val_mse: 305793472.0000\n",
      "Epoch 13/300\n",
      "312466/312466 [==============================] - 5s 15us/step - loss: 228584471.9541 - mse: 228584592.0000 - val_loss: 327571552.9470 - val_mse: 327571456.0000\n",
      "Epoch 14/300\n",
      "312466/312466 [==============================] - 5s 14us/step - loss: 227935831.2115 - mse: 227935904.0000 - val_loss: 368521720.0509 - val_mse: 368521792.0000\n",
      "Epoch 15/300\n",
      "312466/312466 [==============================] - 5s 15us/step - loss: 227293292.2234 - mse: 227293280.0000 - val_loss: 363368422.9404 - val_mse: 363368384.0000\n",
      "Epoch 16/300\n",
      "312466/312466 [==============================] - 4s 14us/step - loss: 226490744.1536 - mse: 226490592.0000 - val_loss: 327655319.6380 - val_mse: 327655392.0000\n",
      "Epoch 17/300\n",
      "312466/312466 [==============================] - 3s 11us/step - loss: 225577408.8780 - mse: 225577360.0000 - val_loss: 327995789.6759 - val_mse: 327995904.0000\n",
      "Epoch 18/300\n",
      "312466/312466 [==============================] - 3s 11us/step - loss: 224665801.5619 - mse: 224665648.0000 - val_loss: 344747492.9114 - val_mse: 344747488.0000\n",
      "Epoch 19/300\n",
      "312466/312466 [==============================] - 3s 10us/step - loss: 223725375.8818 - mse: 223725408.0000 - val_loss: 311926510.1469 - val_mse: 311926528.0000\n",
      "Epoch 20/300\n",
      "312466/312466 [==============================] - 3s 10us/step - loss: 222450716.7714 - mse: 222450624.0000 - val_loss: 333697747.1772 - val_mse: 333697792.0000\n",
      "Epoch 21/300\n",
      "312466/312466 [==============================] - 3s 9us/step - loss: 221126128.3697 - mse: 221126096.0000 - val_loss: 355547512.6617 - val_mse: 355547456.0000\n",
      "Epoch 22/300\n",
      "312466/312466 [==============================] - 3s 10us/step - loss: 219620987.2957 - mse: 219621008.0000 - val_loss: 340326824.9058 - val_mse: 340326784.0000\n",
      "Epoch 23/300\n",
      "312466/312466 [==============================] - 4s 11us/step - loss: 217981346.7769 - mse: 217981408.0000 - val_loss: 326229222.1342 - val_mse: 326229216.0000\n",
      "Epoch 24/300\n",
      "312466/312466 [==============================] - 3s 11us/step - loss: 216487032.1424 - mse: 216487040.0000 - val_loss: 315817214.8854 - val_mse: 315817216.0000\n",
      "Epoch 25/300\n",
      "312466/312466 [==============================] - 3s 11us/step - loss: 214736292.6884 - mse: 214736448.0000 - val_loss: 316552284.6366 - val_mse: 316552256.0000\n",
      "Epoch 26/300\n",
      "312466/312466 [==============================] - 4s 12us/step - loss: 212861744.0424 - mse: 212861888.0000 - val_loss: 303705773.4745 - val_mse: 303705728.0000\n",
      "Epoch 27/300\n",
      "312466/312466 [==============================] - 4s 11us/step - loss: 211261282.7025 - mse: 211261344.0000 - val_loss: 308155368.8728 - val_mse: 308155392.0000\n",
      "Epoch 28/300\n",
      "312466/312466 [==============================] - 4s 11us/step - loss: 209448114.5216 - mse: 209448224.0000 - val_loss: 338418063.9301 - val_mse: 338418144.0000\n",
      "Epoch 29/300\n",
      "312466/312466 [==============================] - 4s 12us/step - loss: 207860456.1629 - mse: 207860384.0000 - val_loss: 377491866.8682 - val_mse: 377491872.0000\n",
      "Epoch 30/300\n",
      "312466/312466 [==============================] - 3s 10us/step - loss: 206374430.8306 - mse: 206374416.0000 - val_loss: 301533888.7856 - val_mse: 301533920.0000\n",
      "Epoch 31/300\n",
      "312466/312466 [==============================] - 3s 11us/step - loss: 205145493.8574 - mse: 205145680.0000 - val_loss: 306007894.2613 - val_mse: 306007872.0000\n",
      "Epoch 32/300\n",
      "312466/312466 [==============================] - 4s 14us/step - loss: 203770382.5752 - mse: 203770368.0000 - val_loss: 294400417.0329 - val_mse: 294400416.0000\n",
      "Epoch 33/300\n",
      "312466/312466 [==============================] - 5s 16us/step - loss: 202721858.7187 - mse: 202721824.0000 - val_loss: 306652046.9163 - val_mse: 306651968.0000\n",
      "Epoch 34/300\n",
      "312466/312466 [==============================] - 5s 15us/step - loss: 201748598.9868 - mse: 201748592.0000 - val_loss: 284117418.8513 - val_mse: 284117376.0000\n",
      "Epoch 35/300\n",
      "  9216/312466 [..............................] - ETA: 10s - loss: 177770816.4444 - mse: 177770816.0000"
     ]
    },
    {
     "name": "stderr",
     "output_type": "stream",
     "text": [
      "Method (on_train_batch_end) is slow compared to the batch update (0.115828). Check your callbacks.\n"
     ]
    },
    {
     "name": "stdout",
     "output_type": "stream",
     "text": [
      "312466/312466 [==============================] - 4s 14us/step - loss: 201144727.6927 - mse: 201144736.0000 - val_loss: 290442703.3647 - val_mse: 290442688.0000\n",
      "Epoch 36/300\n",
      "312466/312466 [==============================] - 4s 12us/step - loss: 200138981.6983 - mse: 200138896.0000 - val_loss: 309553766.7842 - val_mse: 309553792.0000\n",
      "Epoch 37/300\n",
      "312466/312466 [==============================] - 3s 10us/step - loss: 199493821.4766 - mse: 199493936.0000 - val_loss: 270395763.8615 - val_mse: 270395776.0000\n",
      "Epoch 38/300\n",
      "312466/312466 [==============================] - 3s 10us/step - loss: 198950343.0758 - mse: 198950336.0000 - val_loss: 290999089.4514 - val_mse: 290999104.0000\n",
      "Epoch 39/300\n",
      "312466/312466 [==============================] - 3s 10us/step - loss: 198460919.3786 - mse: 198460800.0000 - val_loss: 328824257.9752 - val_mse: 328824128.0000\n",
      "Epoch 40/300\n",
      "312466/312466 [==============================] - 3s 11us/step - loss: 197998092.5056 - mse: 197998000.0000 - val_loss: 285896514.9470 - val_mse: 285896480.0000\n",
      "Epoch 41/300\n",
      "312466/312466 [==============================] - 3s 11us/step - loss: 197694699.1006 - mse: 197694608.0000 - val_loss: 340682530.2266 - val_mse: 340682496.0000\n",
      "Epoch 42/300\n",
      "312466/312466 [==============================] - 3s 10us/step - loss: 197151676.8544 - mse: 197151696.0000 - val_loss: 313968108.1803 - val_mse: 313968064.0000\n",
      "Epoch 43/300\n",
      "312466/312466 [==============================] - 3s 10us/step - loss: 196765381.7524 - mse: 196765424.0000 - val_loss: 391930953.2621 - val_mse: 391930912.0000\n",
      "Epoch 44/300\n",
      "312466/312466 [==============================] - 3s 9us/step - loss: 196158749.0867 - mse: 196158576.0000 - val_loss: 348677053.9659 - val_mse: 348677024.0000\n",
      "Epoch 45/300\n",
      "312466/312466 [==============================] - 4s 13us/step - loss: 196028644.9219 - mse: 196028656.0000 - val_loss: 263366238.5171 - val_mse: 263366224.0000\n",
      "Epoch 46/300\n",
      "312466/312466 [==============================] - 3s 11us/step - loss: 195647842.9728 - mse: 195647872.0000 - val_loss: 304412829.4319 - val_mse: 304412864.0000\n",
      "Epoch 47/300\n",
      "312466/312466 [==============================] - 4s 13us/step - loss: 195172591.8031 - mse: 195172688.0000 - val_loss: 356344780.5826 - val_mse: 356344800.0000\n",
      "Epoch 48/300\n",
      "312466/312466 [==============================] - 4s 12us/step - loss: 194764195.1663 - mse: 194764256.0000 - val_loss: 367327595.1474 - val_mse: 367327616.0000\n",
      "Epoch 49/300\n",
      "312466/312466 [==============================] - 3s 10us/step - loss: 194434403.8486 - mse: 194434336.0000 - val_loss: 294532164.5532 - val_mse: 294532160.0000\n",
      "Epoch 50/300\n",
      "312466/312466 [==============================] - 3s 10us/step - loss: 193889935.3815 - mse: 193889920.0000 - val_loss: 351162935.5092 - val_mse: 351162912.0000\n",
      "Epoch 51/300\n",
      "312466/312466 [==============================] - 3s 9us/step - loss: 193621198.9704 - mse: 193621232.0000 - val_loss: 428425992.7936 - val_mse: 428425984.0000\n",
      "Epoch 52/300\n",
      "312466/312466 [==============================] - 3s 10us/step - loss: 193328449.3433 - mse: 193328448.0000 - val_loss: 337286482.5650 - val_mse: 337286496.0000\n",
      "Epoch 53/300\n",
      "312466/312466 [==============================] - 3s 9us/step - loss: 193149634.9852 - mse: 193149728.0000 - val_loss: 259222023.4211 - val_mse: 259222048.0000\n",
      "Epoch 54/300\n",
      "312466/312466 [==============================] - 3s 9us/step - loss: 192520056.5723 - mse: 192520000.0000 - val_loss: 275778116.4737 - val_mse: 275778144.0000\n",
      "Epoch 55/300\n",
      "312466/312466 [==============================] - 3s 9us/step - loss: 192542574.9167 - mse: 192542624.0000 - val_loss: 346239167.8953 - val_mse: 346239040.0000\n",
      "Epoch 56/300\n",
      "312466/312466 [==============================] - 3s 9us/step - loss: 192101059.3872 - mse: 192101120.0000 - val_loss: 336398984.2840 - val_mse: 336398976.0000\n",
      "Epoch 57/300\n",
      "312466/312466 [==============================] - 3s 9us/step - loss: 191904496.1276 - mse: 191904464.0000 - val_loss: 357457851.0958 - val_mse: 357457888.0000\n",
      "Epoch 58/300\n",
      "312466/312466 [==============================] - 3s 10us/step - loss: 191367685.9611 - mse: 191367552.0000 - val_loss: 378883726.9058 - val_mse: 378883680.0000\n",
      "Epoch 59/300\n",
      "312466/312466 [==============================] - 3s 10us/step - loss: 191307095.9339 - mse: 191307008.0000 - val_loss: 268038657.7166 - val_mse: 268038576.0000\n",
      "Epoch 60/300\n",
      "312466/312466 [==============================] - 3s 9us/step - loss: 190858721.3725 - mse: 190858592.0000 - val_loss: 290073688.8177 - val_mse: 290073664.0000\n",
      "Epoch 61/300\n",
      "312466/312466 [==============================] - 3s 9us/step - loss: 190229207.3305 - mse: 190229264.0000 - val_loss: 264708190.2934 - val_mse: 264708256.0000\n",
      "Epoch 62/300\n",
      "312466/312466 [==============================] - 3s 10us/step - loss: 189925056.6727 - mse: 189925040.0000 - val_loss: 328456447.4425 - val_mse: 328456480.0000\n",
      "Epoch 63/300\n",
      "312466/312466 [==============================] - 3s 10us/step - loss: 189795918.7917 - mse: 189795968.0000 - val_loss: 272604781.3981 - val_mse: 272604800.0000\n",
      "Epoch 64/300\n",
      "312466/312466 [==============================] - 4s 11us/step - loss: 189188141.3330 - mse: 189188048.0000 - val_loss: 280778076.0395 - val_mse: 280778048.0000\n",
      "Epoch 65/300\n",
      "312466/312466 [==============================] - 3s 11us/step - loss: 189153967.6744 - mse: 189153888.0000 - val_loss: 285239238.8488 - val_mse: 285239232.0000\n",
      "Epoch 66/300\n",
      "312466/312466 [==============================] - 4s 12us/step - loss: 188452891.8240 - mse: 188452816.0000 - val_loss: 358318645.4421 - val_mse: 358318624.0000\n",
      "Epoch 67/300\n",
      "312466/312466 [==============================] - 4s 12us/step - loss: 188189885.7800 - mse: 188189872.0000 - val_loss: 361344161.9758 - val_mse: 361344096.0000\n",
      "Epoch 68/300\n",
      "312466/312466 [==============================] - 4s 12us/step - loss: 188192062.7012 - mse: 188192000.0000 - val_loss: 297725819.8396 - val_mse: 297725792.0000\n",
      "Epoch 69/300\n",
      "312466/312466 [==============================] - 3s 11us/step - loss: 187759316.9472 - mse: 187759344.0000 - val_loss: 362795258.8189 - val_mse: 362795264.0000\n",
      "Epoch 70/300\n",
      "312466/312466 [==============================] - 3s 10us/step - loss: 187335260.0202 - mse: 187335408.0000 - val_loss: 330623902.1129 - val_mse: 330623904.0000\n",
      "Epoch 71/300\n",
      "312466/312466 [==============================] - 3s 10us/step - loss: 186948705.8397 - mse: 186948608.0000 - val_loss: 250593720.1094 - val_mse: 250593648.0000\n",
      "Epoch 72/300\n",
      "312466/312466 [==============================] - 3s 9us/step - loss: 186886023.7481 - mse: 186886080.0000 - val_loss: 270990220.3828 - val_mse: 270990304.0000\n",
      "Epoch 73/300\n",
      "312466/312466 [==============================] - 3s 10us/step - loss: 186700242.8368 - mse: 186700272.0000 - val_loss: 333259302.5261 - val_mse: 333259296.0000\n",
      "Epoch 74/300\n",
      "312466/312466 [==============================] - 3s 10us/step - loss: 186462121.4020 - mse: 186462016.0000 - val_loss: 306474318.0342 - val_mse: 306474304.0000\n",
      "Epoch 75/300\n",
      "312466/312466 [==============================] - 3s 10us/step - loss: 186146995.3441 - mse: 186147056.0000 - val_loss: 366335351.7717 - val_mse: 366335360.0000\n",
      "Epoch 76/300\n",
      "312466/312466 [==============================] - 3s 9us/step - loss: 185743829.2560 - mse: 185743824.0000 - val_loss: 384471272.7545 - val_mse: 384471168.0000\n",
      "Epoch 77/300\n",
      "312466/312466 [==============================] - 3s 10us/step - loss: 185698884.2518 - mse: 185698832.0000 - val_loss: 274229441.8417 - val_mse: 274229408.0000\n",
      "Epoch 78/300\n",
      "312466/312466 [==============================] - 3s 9us/step - loss: 185736498.3707 - mse: 185736480.0000 - val_loss: 249943768.8572 - val_mse: 249943760.0000\n",
      "Epoch 79/300\n",
      "312466/312466 [==============================] - 3s 10us/step - loss: 185491392.5325 - mse: 185491456.0000 - val_loss: 246612703.1252 - val_mse: 246612688.0000\n",
      "Epoch 80/300\n",
      "312466/312466 [==============================] - 3s 9us/step - loss: 185174005.2337 - mse: 185173984.0000 - val_loss: 363442606.1077 - val_mse: 363442560.0000\n",
      "Epoch 81/300\n",
      "312466/312466 [==============================] - 3s 10us/step - loss: 184578976.2912 - mse: 184578960.0000 - val_loss: 282181396.6025 - val_mse: 282181408.0000\n",
      "Epoch 82/300\n"
     ]
    },
    {
     "name": "stdout",
     "output_type": "stream",
     "text": [
      "312466/312466 [==============================] - 3s 10us/step - loss: 184581873.9915 - mse: 184581824.0000 - val_loss: 276697454.1538 - val_mse: 276697536.0000\n",
      "Epoch 83/300\n",
      "312466/312466 [==============================] - 3s 10us/step - loss: 184269646.5109 - mse: 184269504.0000 - val_loss: 255486949.2448 - val_mse: 255486944.0000\n",
      "Epoch 84/300\n",
      "312466/312466 [==============================] - 3s 10us/step - loss: 183879420.9698 - mse: 183879328.0000 - val_loss: 287522589.0104 - val_mse: 287522656.0000\n",
      "Epoch 85/300\n",
      "312466/312466 [==============================] - 3s 10us/step - loss: 184071899.3018 - mse: 184071824.0000 - val_loss: 377015078.3356 - val_mse: 377015072.0000\n",
      "Epoch 86/300\n",
      "312466/312466 [==============================] - 3s 10us/step - loss: 184215800.0766 - mse: 184215776.0000 - val_loss: 318050346.1013 - val_mse: 318050400.0000\n",
      "Epoch 87/300\n",
      "312466/312466 [==============================] - 3s 11us/step - loss: 183728676.0243 - mse: 183728640.0000 - val_loss: 282880340.5956 - val_mse: 282880448.0000\n",
      "Epoch 88/300\n",
      "312466/312466 [==============================] - 3s 10us/step - loss: 183469865.1302 - mse: 183469888.0000 - val_loss: 266542305.1982 - val_mse: 266542272.0000\n",
      "Epoch 89/300\n",
      "312466/312466 [==============================] - 3s 10us/step - loss: 183420560.2447 - mse: 183420608.0000 - val_loss: 247235308.0762 - val_mse: 247235312.0000\n",
      "Epoch 90/300\n",
      "312466/312466 [==============================] - 3s 10us/step - loss: 183255855.7364 - mse: 183255840.0000 - val_loss: 367726214.7184 - val_mse: 367726336.0000\n",
      "Epoch 91/300\n",
      "312466/312466 [==============================] - 3s 10us/step - loss: 183099169.9960 - mse: 183099168.0000 - val_loss: 261282394.4628 - val_mse: 261282464.0000\n",
      "Epoch 92/300\n",
      "312466/312466 [==============================] - 3s 10us/step - loss: 182884060.4441 - mse: 182884048.0000 - val_loss: 295812011.7760 - val_mse: 295812032.0000\n",
      "Epoch 93/300\n",
      "312466/312466 [==============================] - 3s 10us/step - loss: 182435220.6609 - mse: 182435280.0000 - val_loss: 344153661.3521 - val_mse: 344153664.0000\n",
      "Epoch 94/300\n",
      "312466/312466 [==============================] - 3s 10us/step - loss: 182199981.8368 - mse: 182200000.0000 - val_loss: 293295060.8739 - val_mse: 293295104.0000\n",
      "Epoch 95/300\n",
      "312466/312466 [==============================] - 3s 10us/step - loss: 182041844.9385 - mse: 182041728.0000 - val_loss: 283680838.5455 - val_mse: 283680800.0000\n",
      "Epoch 96/300\n",
      "312466/312466 [==============================] - 3s 10us/step - loss: 182237302.3062 - mse: 182237408.0000 - val_loss: 270191626.1681 - val_mse: 270191680.0000\n",
      "Epoch 97/300\n",
      "312466/312466 [==============================] - 3s 10us/step - loss: 181981101.9646 - mse: 181981088.0000 - val_loss: 243621566.1958 - val_mse: 243621584.0000\n",
      "Epoch 98/300\n",
      "312466/312466 [==============================] - 3s 10us/step - loss: 181797624.6689 - mse: 181797632.0000 - val_loss: 340156683.3843 - val_mse: 340156640.0000\n",
      "Epoch 99/300\n",
      "312466/312466 [==============================] - 3s 10us/step - loss: 181668375.4605 - mse: 181668368.0000 - val_loss: 309236779.5526 - val_mse: 309236832.0000\n",
      "Epoch 100/300\n",
      "312466/312466 [==============================] - 3s 9us/step - loss: 181535665.7958 - mse: 181535728.0000 - val_loss: 313228229.1490 - val_mse: 313228224.0000\n",
      "Epoch 101/300\n",
      "312466/312466 [==============================] - 3s 10us/step - loss: 181182159.9678 - mse: 181182112.0000 - val_loss: 259748519.8972 - val_mse: 259748512.0000\n",
      "Epoch 102/300\n",
      "312466/312466 [==============================] - 4s 11us/step - loss: 181144228.4010 - mse: 181144304.0000 - val_loss: 359266645.7015 - val_mse: 359266592.0000\n",
      "Epoch 103/300\n",
      "312466/312466 [==============================] - 3s 10us/step - loss: 181246914.3208 - mse: 181246848.0000 - val_loss: 257751276.2259 - val_mse: 257751312.0000\n",
      "Epoch 104/300\n",
      "312466/312466 [==============================] - 3s 10us/step - loss: 180931496.9278 - mse: 180931488.0000 - val_loss: 329467862.2000 - val_mse: 329467904.0000\n",
      "Epoch 105/300\n",
      "312466/312466 [==============================] - 3s 9us/step - loss: 180913709.7229 - mse: 180913632.0000 - val_loss: 250781712.0982 - val_mse: 250781696.0000\n",
      "Epoch 106/300\n",
      "312466/312466 [==============================] - 3s 10us/step - loss: 180532231.5206 - mse: 180532272.0000 - val_loss: 345860940.6442 - val_mse: 345860864.0000\n",
      "Epoch 107/300\n",
      "312466/312466 [==============================] - 3s 9us/step - loss: 180737660.8708 - mse: 180737744.0000 - val_loss: 341217491.6913 - val_mse: 341217632.0000\n",
      "Epoch 108/300\n",
      "312466/312466 [==============================] - 3s 9us/step - loss: 180693048.9311 - mse: 180693088.0000 - val_loss: 244353766.7219 - val_mse: 244353712.0000\n",
      "Epoch 109/300\n",
      "312466/312466 [==============================] - 3s 10us/step - loss: 180447182.4171 - mse: 180447248.0000 - val_loss: 301194408.3802 - val_mse: 301194368.0000\n",
      "Epoch 110/300\n",
      "312466/312466 [==============================] - 3s 10us/step - loss: 179984278.6168 - mse: 179984288.0000 - val_loss: 321583850.1681 - val_mse: 321583808.0000\n",
      "Epoch 111/300\n",
      "312466/312466 [==============================] - 3s 9us/step - loss: 180309079.9933 - mse: 180309056.0000 - val_loss: 362415548.1579 - val_mse: 362415424.0000\n",
      "Epoch 112/300\n",
      "312466/312466 [==============================] - 3s 9us/step - loss: 179892244.1443 - mse: 179892224.0000 - val_loss: 268965718.4873 - val_mse: 268965728.0000\n",
      "Epoch 113/300\n",
      "312466/312466 [==============================] - 3s 9us/step - loss: 180024340.7935 - mse: 180024336.0000 - val_loss: 280061327.1657 - val_mse: 280061280.0000\n",
      "Epoch 114/300\n",
      "312466/312466 [==============================] - 3s 9us/step - loss: 179930974.1963 - mse: 179931008.0000 - val_loss: 292415222.6125 - val_mse: 292415200.0000\n",
      "Epoch 115/300\n",
      "312466/312466 [==============================] - 3s 9us/step - loss: 179713605.9067 - mse: 179713600.0000 - val_loss: 261111121.2790 - val_mse: 261111104.0000\n",
      "Epoch 116/300\n",
      "312466/312466 [==============================] - 3s 9us/step - loss: 179362897.9829 - mse: 179362864.0000 - val_loss: 321773135.8757 - val_mse: 321773056.0000\n",
      "Epoch 117/300\n",
      "312466/312466 [==============================] - 3s 10us/step - loss: 179368174.1413 - mse: 179368160.0000 - val_loss: 316948089.1107 - val_mse: 316948032.0000\n",
      "Epoch 118/300\n",
      "312466/312466 [==============================] - 3s 9us/step - loss: 179415205.2695 - mse: 179415168.0000 - val_loss: 351649951.5659 - val_mse: 351649824.0000\n",
      "Epoch 119/300\n",
      "312466/312466 [==============================] - 3s 9us/step - loss: 179357791.2411 - mse: 179357888.0000 - val_loss: 321486426.2358 - val_mse: 321486432.0000\n",
      "Epoch 120/300\n",
      "312466/312466 [==============================] - 3s 9us/step - loss: 178927835.0444 - mse: 178927920.0000 - val_loss: 275998125.6211 - val_mse: 275998112.0000\n",
      "Epoch 121/300\n",
      "312466/312466 [==============================] - 3s 9us/step - loss: 178822886.3066 - mse: 178822816.0000 - val_loss: 273072858.8437 - val_mse: 273072800.0000\n",
      "Epoch 122/300\n",
      "312466/312466 [==============================] - 3s 9us/step - loss: 179125923.6375 - mse: 179125872.0000 - val_loss: 317364518.8304 - val_mse: 317364480.0000\n",
      "Epoch 123/300\n",
      "312466/312466 [==============================] - 3s 9us/step - loss: 178429001.5918 - mse: 178429104.0000 - val_loss: 283439375.0123 - val_mse: 283439424.0000\n",
      "Epoch 124/300\n",
      "312466/312466 [==============================] - 3s 9us/step - loss: 178636720.7585 - mse: 178636784.0000 - val_loss: 365910515.8774 - val_mse: 365910656.0000\n",
      "Epoch 125/300\n",
      "312466/312466 [==============================] - 3s 9us/step - loss: 178152302.8849 - mse: 178152208.0000 - val_loss: 301920342.2481 - val_mse: 301920384.0000\n",
      "Epoch 126/300\n",
      "312466/312466 [==============================] - 3s 9us/step - loss: 178446290.6403 - mse: 178446416.0000 - val_loss: 315646655.3244 - val_mse: 315646592.0000\n",
      "Epoch 127/300\n",
      "312466/312466 [==============================] - 3s 9us/step - loss: 178121624.5431 - mse: 178121600.0000 - val_loss: 245547901.2843 - val_mse: 245547920.0000\n",
      "Epoch 128/300\n",
      "312466/312466 [==============================] - 3s 9us/step - loss: 178160146.8451 - mse: 178160064.0000 - val_loss: 238752023.9759 - val_mse: 238752048.0000\n",
      "Epoch 129/300\n"
     ]
    },
    {
     "name": "stdout",
     "output_type": "stream",
     "text": [
      "312466/312466 [==============================] - 3s 10us/step - loss: 177979185.8960 - mse: 177979120.0000 - val_loss: 260134866.9317 - val_mse: 260134864.0000\n",
      "Epoch 130/300\n",
      "312466/312466 [==============================] - 3s 9us/step - loss: 177676261.4454 - mse: 177676288.0000 - val_loss: 358357980.4470 - val_mse: 358357920.0000\n",
      "Epoch 131/300\n",
      "312466/312466 [==============================] - 3s 10us/step - loss: 177640524.6192 - mse: 177640512.0000 - val_loss: 354161776.2541 - val_mse: 354161888.0000\n",
      "Epoch 132/300\n",
      "312466/312466 [==============================] - 3s 10us/step - loss: 177521272.1013 - mse: 177521232.0000 - val_loss: 291877838.3556 - val_mse: 291877856.0000\n",
      "Epoch 133/300\n",
      "312466/312466 [==============================] - 3s 10us/step - loss: 177181908.5211 - mse: 177181920.0000 - val_loss: 269440756.6978 - val_mse: 269440768.0000\n",
      "Epoch 134/300\n",
      "312466/312466 [==============================] - 3s 10us/step - loss: 177535722.1849 - mse: 177535776.0000 - val_loss: 254831990.3857 - val_mse: 254831920.0000\n",
      "Epoch 135/300\n",
      "312466/312466 [==============================] - 3s 10us/step - loss: 176831160.3711 - mse: 176831232.0000 - val_loss: 319232659.8961 - val_mse: 319232704.0000\n",
      "Epoch 136/300\n",
      "312466/312466 [==============================] - 3s 9us/step - loss: 176862889.1547 - mse: 176862896.0000 - val_loss: 287109716.1038 - val_mse: 287109760.0000\n",
      "Epoch 137/300\n",
      "312466/312466 [==============================] - 3s 10us/step - loss: 176770211.8589 - mse: 176770256.0000 - val_loss: 334757763.8109 - val_mse: 334757664.0000\n",
      "Epoch 138/300\n",
      "312466/312466 [==============================] - 3s 10us/step - loss: 176965372.7595 - mse: 176965376.0000 - val_loss: 337045844.7339 - val_mse: 337045920.0000\n",
      "Epoch 139/300\n",
      "312466/312466 [==============================] - 3s 10us/step - loss: 176695263.1483 - mse: 176695328.0000 - val_loss: 297069063.0279 - val_mse: 297069056.0000\n",
      "Epoch 140/300\n",
      "312466/312466 [==============================] - 3s 10us/step - loss: 176791070.3723 - mse: 176791040.0000 - val_loss: 292063575.4316 - val_mse: 292063488.0000\n",
      "Epoch 141/300\n",
      "312466/312466 [==============================] - 3s 9us/step - loss: 176480080.0355 - mse: 176480048.0000 - val_loss: 285288822.0556 - val_mse: 285288832.0000\n",
      "Epoch 142/300\n",
      "312466/312466 [==============================] - 3s 10us/step - loss: 176403143.8689 - mse: 176403184.0000 - val_loss: 253497038.9532 - val_mse: 253496992.0000\n",
      "Epoch 143/300\n",
      "312466/312466 [==============================] - 3s 10us/step - loss: 176208938.7692 - mse: 176208944.0000 - val_loss: 259266028.5123 - val_mse: 259266048.0000\n",
      "Epoch 144/300\n",
      "312466/312466 [==============================] - 3s 9us/step - loss: 176130311.6346 - mse: 176130320.0000 - val_loss: 257707145.7262 - val_mse: 257707184.0000\n",
      "Epoch 145/300\n",
      "312466/312466 [==============================] - 3s 10us/step - loss: 175966065.2560 - mse: 175966112.0000 - val_loss: 366078000.6225 - val_mse: 366077952.0000\n",
      "Epoch 146/300\n",
      "312466/312466 [==============================] - 3s 10us/step - loss: 175751219.1394 - mse: 175751392.0000 - val_loss: 366088073.9485 - val_mse: 366088256.0000\n",
      "Epoch 147/300\n",
      "312466/312466 [==============================] - 3s 10us/step - loss: 175976666.7071 - mse: 175976672.0000 - val_loss: 274227078.2286 - val_mse: 274227040.0000\n",
      "Epoch 148/300\n",
      "312466/312466 [==============================] - 3s 9us/step - loss: 175543908.3873 - mse: 175543776.0000 - val_loss: 280796354.4154 - val_mse: 280796384.0000\n",
      "Epoch 149/300\n",
      "312466/312466 [==============================] - 3s 9us/step - loss: 175525015.7255 - mse: 175525024.0000 - val_loss: 266711175.5756 - val_mse: 266711232.0000\n",
      "Epoch 150/300\n",
      "312466/312466 [==============================] - 3s 9us/step - loss: 175402673.8445 - mse: 175402672.0000 - val_loss: 317129510.9234 - val_mse: 317129472.0000\n",
      "Epoch 151/300\n",
      "312466/312466 [==============================] - 3s 10us/step - loss: 175360737.9552 - mse: 175360656.0000 - val_loss: 324145135.5467 - val_mse: 324145152.0000\n",
      "Epoch 152/300\n",
      "312466/312466 [==============================] - 3s 9us/step - loss: 175251641.1759 - mse: 175251568.0000 - val_loss: 290473154.6114 - val_mse: 290473184.0000\n",
      "Epoch 153/300\n",
      "312466/312466 [==============================] - 3s 9us/step - loss: 175467403.1243 - mse: 175467424.0000 - val_loss: 289727979.0100 - val_mse: 289728000.0000\n",
      "Epoch 154/300\n",
      "312466/312466 [==============================] - 3s 10us/step - loss: 174903061.3524 - mse: 174903232.0000 - val_loss: 239764889.4319 - val_mse: 239764896.0000\n",
      "Epoch 155/300\n",
      "312466/312466 [==============================] - 3s 9us/step - loss: 174944002.2069 - mse: 174944032.0000 - val_loss: 290968465.2511 - val_mse: 290968480.0000\n",
      "Epoch 156/300\n",
      "312466/312466 [==============================] - 3s 10us/step - loss: 174811156.2259 - mse: 174811232.0000 - val_loss: 274469124.9662 - val_mse: 274469152.0000\n",
      "Epoch 157/300\n",
      "312466/312466 [==============================] - 3s 9us/step - loss: 174447648.4161 - mse: 174447664.0000 - val_loss: 290450032.6998 - val_mse: 290450080.0000\n",
      "Epoch 158/300\n",
      "312466/312466 [==============================] - 3s 9us/step - loss: 174635333.3236 - mse: 174635296.0000 - val_loss: 267190511.1161 - val_mse: 267190480.0000\n",
      "Epoch 159/300\n",
      "312466/312466 [==============================] - 3s 9us/step - loss: 174600502.5116 - mse: 174600528.0000 - val_loss: 251771287.8272 - val_mse: 251771248.0000\n",
      "Epoch 160/300\n",
      "312466/312466 [==============================] - 3s 9us/step - loss: 174074079.7404 - mse: 174074000.0000 - val_loss: 306917289.7177 - val_mse: 306917248.0000\n",
      "Epoch 161/300\n",
      "312466/312466 [==============================] - 3s 10us/step - loss: 174462322.8109 - mse: 174462304.0000 - val_loss: 366270755.1248 - val_mse: 366270688.0000\n",
      "Epoch 162/300\n",
      "312466/312466 [==============================] - 3s 9us/step - loss: 174131085.1036 - mse: 174131040.0000 - val_loss: 229525288.8706 - val_mse: 229525312.0000\n",
      "Epoch 163/300\n",
      "312466/312466 [==============================] - 3s 9us/step - loss: 174163440.7444 - mse: 174163408.0000 - val_loss: 318841993.5728 - val_mse: 318841984.0000\n",
      "Epoch 164/300\n",
      "312466/312466 [==============================] - 3s 9us/step - loss: 174285478.2241 - mse: 174285424.0000 - val_loss: 246872120.3054 - val_mse: 246872080.0000\n",
      "Epoch 165/300\n",
      "312466/312466 [==============================] - 3s 9us/step - loss: 173655121.6294 - mse: 173655200.0000 - val_loss: 324715637.1102 - val_mse: 324715680.0000\n",
      "Epoch 166/300\n",
      "312466/312466 [==============================] - 3s 9us/step - loss: 173754789.6800 - mse: 173754896.0000 - val_loss: 367734452.2050 - val_mse: 367734400.0000\n",
      "Epoch 167/300\n",
      "312466/312466 [==============================] - 3s 9us/step - loss: 173474067.5241 - mse: 173474032.0000 - val_loss: 296625258.9630 - val_mse: 296625312.0000\n",
      "Epoch 168/300\n",
      "312466/312466 [==============================] - 3s 9us/step - loss: 173539451.4111 - mse: 173539472.0000 - val_loss: 306438790.2201 - val_mse: 306438752.0000\n",
      "Epoch 169/300\n",
      "312466/312466 [==============================] - 3s 9us/step - loss: 173262889.9147 - mse: 173262880.0000 - val_loss: 291820067.4215 - val_mse: 291820128.0000\n",
      "Epoch 170/300\n",
      "312466/312466 [==============================] - 3s 9us/step - loss: 173231597.3550 - mse: 173231664.0000 - val_loss: 316632400.7234 - val_mse: 316632384.0000\n",
      "Epoch 171/300\n",
      "312466/312466 [==============================] - 3s 9us/step - loss: 173222052.3216 - mse: 173222112.0000 - val_loss: 269137456.5324 - val_mse: 269137504.0000\n",
      "Epoch 172/300\n",
      "312466/312466 [==============================] - 3s 9us/step - loss: 173112481.5968 - mse: 173112512.0000 - val_loss: 268445860.0982 - val_mse: 268445824.0000\n",
      "Epoch 173/300\n",
      "312466/312466 [==============================] - 3s 9us/step - loss: 172958866.7973 - mse: 172958944.0000 - val_loss: 262903102.0730 - val_mse: 262903152.0000\n",
      "Epoch 174/300\n",
      "312466/312466 [==============================] - 3s 9us/step - loss: 172957460.6011 - mse: 172957456.0000 - val_loss: 355541768.2706 - val_mse: 355541920.0000\n",
      "Epoch 175/300\n",
      "312466/312466 [==============================] - 3s 10us/step - loss: 173021446.0830 - mse: 173021488.0000 - val_loss: 262348485.0600 - val_mse: 262348496.0000\n",
      "Epoch 176/300\n"
     ]
    },
    {
     "name": "stdout",
     "output_type": "stream",
     "text": [
      "312466/312466 [==============================] - 3s 9us/step - loss: 172763719.7533 - mse: 172763664.0000 - val_loss: 242508843.9878 - val_mse: 242508848.0000\n",
      "Epoch 177/300\n",
      "312466/312466 [==============================] - 3s 10us/step - loss: 172690177.3439 - mse: 172690176.0000 - val_loss: 264708462.9942 - val_mse: 264708496.0000\n",
      "Epoch 178/300\n",
      "312466/312466 [==============================] - 3s 9us/step - loss: 172731676.2963 - mse: 172731600.0000 - val_loss: 326584359.8989 - val_mse: 326584480.0000\n",
      "Epoch 179/300\n",
      "312466/312466 [==============================] - 3s 10us/step - loss: 172575616.8463 - mse: 172575664.0000 - val_loss: 302323569.8643 - val_mse: 302323584.0000\n",
      "Epoch 180/300\n",
      "312466/312466 [==============================] - 3s 10us/step - loss: 172705523.2153 - mse: 172705600.0000 - val_loss: 299535443.3153 - val_mse: 299535488.0000\n",
      "Epoch 181/300\n",
      "312466/312466 [==============================] - 3s 9us/step - loss: 172367253.3715 - mse: 172367264.0000 - val_loss: 301970679.5769 - val_mse: 301970688.0000\n",
      "Epoch 182/300\n",
      "312466/312466 [==============================] - 3s 10us/step - loss: 172386572.5361 - mse: 172386592.0000 - val_loss: 302890900.6805 - val_mse: 302890912.0000\n",
      "Epoch 183/300\n",
      "312466/312466 [==============================] - 3s 10us/step - loss: 172316842.0457 - mse: 172316880.0000 - val_loss: 298227025.8445 - val_mse: 298226976.0000\n",
      "Epoch 184/300\n",
      "312466/312466 [==============================] - 3s 10us/step - loss: 171821535.2138 - mse: 171821648.0000 - val_loss: 345358749.1567 - val_mse: 345358688.0000\n",
      "Epoch 185/300\n",
      "312466/312466 [==============================] - 3s 10us/step - loss: 171805208.8058 - mse: 171805312.0000 - val_loss: 296733689.1107 - val_mse: 296733696.0000\n",
      "Epoch 186/300\n",
      "312466/312466 [==============================] - 3s 10us/step - loss: 171850121.3347 - mse: 171850112.0000 - val_loss: 382088166.8292 - val_mse: 382088192.0000\n",
      "Epoch 187/300\n",
      "312466/312466 [==============================] - 3s 9us/step - loss: 171740961.0200 - mse: 171740944.0000 - val_loss: 373454365.0499 - val_mse: 373454336.0000\n",
      "Epoch 188/300\n",
      "312466/312466 [==============================] - 3s 9us/step - loss: 171569220.7123 - mse: 171569264.0000 - val_loss: 234861174.7560 - val_mse: 234861232.0000\n",
      "Epoch 189/300\n",
      "312466/312466 [==============================] - 3s 10us/step - loss: 171322715.2061 - mse: 171322608.0000 - val_loss: 270665822.1923 - val_mse: 270665856.0000\n",
      "Epoch 190/300\n",
      "312466/312466 [==============================] - 3s 10us/step - loss: 171666980.5840 - mse: 171666944.0000 - val_loss: 311632723.9393 - val_mse: 311632736.0000\n",
      "Epoch 191/300\n",
      "312466/312466 [==============================] - 3s 10us/step - loss: 171318606.9819 - mse: 171318576.0000 - val_loss: 248775417.6172 - val_mse: 248775472.0000\n",
      "Epoch 192/300\n",
      "312466/312466 [==============================] - 3s 10us/step - loss: 170941714.6805 - mse: 170941664.0000 - val_loss: 273410831.7920 - val_mse: 273410816.0000\n",
      "Epoch 193/300\n",
      "312466/312466 [==============================] - 3s 10us/step - loss: 170962212.7156 - mse: 170962240.0000 - val_loss: 333295871.5963 - val_mse: 333295872.0000\n",
      "Epoch 194/300\n",
      "312466/312466 [==============================] - 3s 9us/step - loss: 171179759.8047 - mse: 171179840.0000 - val_loss: 297790581.0492 - val_mse: 297790560.0000\n",
      "Epoch 195/300\n",
      "312466/312466 [==============================] - 3s 10us/step - loss: 171339958.4986 - mse: 171339968.0000 - val_loss: 249876444.3589 - val_mse: 249876432.0000\n",
      "Epoch 196/300\n",
      "312466/312466 [==============================] - 3s 9us/step - loss: 171179804.4350 - mse: 171179856.0000 - val_loss: 268860640.7716 - val_mse: 268860640.0000\n",
      "Epoch 197/300\n",
      "312466/312466 [==============================] - 3s 9us/step - loss: 170874080.1735 - mse: 170874016.0000 - val_loss: 276632164.8882 - val_mse: 276632192.0000\n",
      "Epoch 198/300\n",
      "312466/312466 [==============================] - 3s 10us/step - loss: 171056773.4704 - mse: 171056832.0000 - val_loss: 381538171.6664 - val_mse: 381538240.0000\n",
      "Epoch 199/300\n",
      "312466/312466 [==============================] - 3s 9us/step - loss: 170628544.7433 - mse: 170628672.0000 - val_loss: 305498492.0295 - val_mse: 305498432.0000\n",
      "Epoch 200/300\n",
      "312466/312466 [==============================] - 3s 9us/step - loss: 170715002.6322 - mse: 170714928.0000 - val_loss: 263725803.5018 - val_mse: 263725808.0000\n",
      "Epoch 201/300\n",
      "312466/312466 [==============================] - 3s 10us/step - loss: 170812459.0387 - mse: 170812512.0000 - val_loss: 253464470.2847 - val_mse: 253464480.0000\n",
      "Epoch 202/300\n",
      "312466/312466 [==============================] - 3s 9us/step - loss: 170369959.5980 - mse: 170370000.0000 - val_loss: 265657561.0135 - val_mse: 265657568.0000\n",
      "Epoch 203/300\n",
      "312466/312466 [==============================] - 3s 9us/step - loss: 170693939.6748 - mse: 170693936.0000 - val_loss: 328371728.2197 - val_mse: 328371744.0000\n",
      "Epoch 204/300\n",
      "312466/312466 [==============================] - 3s 9us/step - loss: 170504701.5615 - mse: 170504736.0000 - val_loss: 342198422.5524 - val_mse: 342198432.0000\n",
      "Epoch 205/300\n",
      "312466/312466 [==============================] - 3s 9us/step - loss: 170403494.1690 - mse: 170403456.0000 - val_loss: 280399985.7657 - val_mse: 280399968.0000\n",
      "Epoch 206/300\n",
      "312466/312466 [==============================] - 3s 10us/step - loss: 170078613.5242 - mse: 170078480.0000 - val_loss: 340651754.7180 - val_mse: 340651776.0000\n",
      "Epoch 207/300\n",
      "312466/312466 [==============================] - 3s 9us/step - loss: 169926769.7445 - mse: 169926704.0000 - val_loss: 238006930.7411 - val_mse: 238006944.0000\n",
      "Epoch 208/300\n",
      "312466/312466 [==============================] - 3s 9us/step - loss: 169804809.7179 - mse: 169804912.0000 - val_loss: 298877397.7782 - val_mse: 298877408.0000\n",
      "Epoch 209/300\n",
      "312466/312466 [==============================] - 3s 9us/step - loss: 169847944.5937 - mse: 169847872.0000 - val_loss: 309647131.0605 - val_mse: 309647104.0000\n",
      "Epoch 210/300\n",
      "312466/312466 [==============================] - 3s 9us/step - loss: 169764002.5764 - mse: 169763936.0000 - val_loss: 253344954.4792 - val_mse: 253344880.0000\n",
      "Epoch 211/300\n",
      "312466/312466 [==============================] - 3s 9us/step - loss: 169513991.6608 - mse: 169513952.0000 - val_loss: 249240437.1431 - val_mse: 249240448.0000\n",
      "Epoch 212/300\n",
      "312466/312466 [==============================] - 3s 9us/step - loss: 169197126.3193 - mse: 169197136.0000 - val_loss: 379859295.8072 - val_mse: 379859232.0000\n",
      "Epoch 213/300\n",
      "312466/312466 [==============================] - 3s 9us/step - loss: 169173051.2288 - mse: 169172976.0000 - val_loss: 308595960.2580 - val_mse: 308595904.0000\n",
      "Epoch 214/300\n",
      "312466/312466 [==============================] - 3s 9us/step - loss: 169170947.6673 - mse: 169170912.0000 - val_loss: 321915657.5509 - val_mse: 321915616.0000\n",
      "Epoch 215/300\n",
      "312466/312466 [==============================] - 3s 9us/step - loss: 169123202.5759 - mse: 169123232.0000 - val_loss: 256476715.1982 - val_mse: 256476752.0000\n",
      "Epoch 216/300\n",
      "312466/312466 [==============================] - 3s 9us/step - loss: 169220396.2318 - mse: 169220304.0000 - val_loss: 310457822.5035 - val_mse: 310457888.0000\n",
      "Epoch 217/300\n",
      "312466/312466 [==============================] - 3s 9us/step - loss: 168694325.1393 - mse: 168694448.0000 - val_loss: 292282556.1182 - val_mse: 292282592.0000\n",
      "Epoch 218/300\n",
      "312466/312466 [==============================] - 3s 9us/step - loss: 169173365.9830 - mse: 169173392.0000 - val_loss: 256773945.1658 - val_mse: 256773968.0000\n",
      "Epoch 219/300\n",
      "312466/312466 [==============================] - 3s 9us/step - loss: 168735590.8523 - mse: 168735632.0000 - val_loss: 229164570.1129 - val_mse: 229164608.0000\n",
      "Epoch 220/300\n",
      "312466/312466 [==============================] - 3s 9us/step - loss: 168889224.1212 - mse: 168889248.0000 - val_loss: 278142210.6662 - val_mse: 278142240.0000\n",
      "Epoch 221/300\n",
      "312466/312466 [==============================] - 3s 9us/step - loss: 168647167.8114 - mse: 168647248.0000 - val_loss: 420585975.8899 - val_mse: 420585952.0000\n",
      "Epoch 222/300\n",
      "312466/312466 [==============================] - 3s 9us/step - loss: 168865667.5452 - mse: 168865696.0000 - val_loss: 241600348.5352 - val_mse: 241600304.0000\n",
      "Epoch 223/300\n"
     ]
    },
    {
     "name": "stdout",
     "output_type": "stream",
     "text": [
      "312466/312466 [==============================] - 3s 10us/step - loss: 169009850.5322 - mse: 169009840.0000 - val_loss: 272454840.6165 - val_mse: 272454848.0000\n",
      "Epoch 224/300\n",
      "312466/312466 [==============================] - 3s 10us/step - loss: 168438405.0430 - mse: 168438464.0000 - val_loss: 329733372.7387 - val_mse: 329733376.0000\n",
      "Epoch 225/300\n",
      "312466/312466 [==============================] - 3s 10us/step - loss: 168573351.6414 - mse: 168573264.0000 - val_loss: 330655979.9105 - val_mse: 330656064.0000\n",
      "Epoch 226/300\n",
      "312466/312466 [==============================] - 3s 10us/step - loss: 168404233.2218 - mse: 168404192.0000 - val_loss: 286957093.9844 - val_mse: 286957120.0000\n",
      "Epoch 227/300\n",
      "312466/312466 [==============================] - 3s 9us/step - loss: 168276697.0609 - mse: 168276736.0000 - val_loss: 243408385.0515 - val_mse: 243408448.0000\n",
      "Epoch 228/300\n",
      "312466/312466 [==============================] - 3s 10us/step - loss: 167994333.7320 - mse: 167994336.0000 - val_loss: 236619540.3781 - val_mse: 236619520.0000\n",
      "Epoch 229/300\n",
      "312466/312466 [==============================] - 3s 9us/step - loss: 168096569.6303 - mse: 168096592.0000 - val_loss: 298194988.7521 - val_mse: 298195040.0000\n",
      "Epoch 230/300\n",
      "312466/312466 [==============================] - 3s 9us/step - loss: 167900267.4893 - mse: 167900384.0000 - val_loss: 281857212.6541 - val_mse: 281857216.0000\n",
      "Epoch 231/300\n",
      "312466/312466 [==============================] - 3s 11us/step - loss: 167500252.2310 - mse: 167500304.0000 - val_loss: 268879440.8331 - val_mse: 268879424.0000\n",
      "Epoch 232/300\n",
      "312466/312466 [==============================] - 4s 12us/step - loss: 167938683.1212 - mse: 167938736.0000 - val_loss: 333065971.9938 - val_mse: 333066048.0000\n",
      "Epoch 233/300\n",
      "312466/312466 [==============================] - 4s 11us/step - loss: 167715050.8795 - mse: 167714928.0000 - val_loss: 275798200.6340 - val_mse: 275798208.0000\n",
      "Epoch 234/300\n",
      "312466/312466 [==============================] - 4s 11us/step - loss: 167594717.0685 - mse: 167594640.0000 - val_loss: 269158632.1072 - val_mse: 269158624.0000\n",
      "Epoch 235/300\n",
      "312466/312466 [==============================] - 3s 9us/step - loss: 167575947.1698 - mse: 167575968.0000 - val_loss: 270109714.9772 - val_mse: 270109728.0000\n",
      "Epoch 236/300\n",
      "312466/312466 [==============================] - 3s 9us/step - loss: 167684151.0126 - mse: 167684080.0000 - val_loss: 242990398.6163 - val_mse: 242990432.0000\n",
      "Epoch 237/300\n",
      "312466/312466 [==============================] - 3s 10us/step - loss: 167619599.6852 - mse: 167619584.0000 - val_loss: 274529324.5015 - val_mse: 274529312.0000\n",
      "Epoch 238/300\n",
      "312466/312466 [==============================] - 3s 10us/step - loss: 167186753.3612 - mse: 167186672.0000 - val_loss: 275500444.5479 - val_mse: 275500416.0000\n",
      "Epoch 239/300\n",
      "312466/312466 [==============================] - 4s 12us/step - loss: 167276346.5180 - mse: 167276352.0000 - val_loss: 304652592.2068 - val_mse: 304652608.0000\n",
      "Epoch 240/300\n",
      "312466/312466 [==============================] - 3s 11us/step - loss: 166654719.6035 - mse: 166654704.0000 - val_loss: 453819553.2018 - val_mse: 453819616.0000\n",
      "Epoch 241/300\n",
      "312466/312466 [==============================] - 3s 10us/step - loss: 166955907.4066 - mse: 166955952.0000 - val_loss: 229599007.8929 - val_mse: 229599056.0000\n",
      "Epoch 242/300\n",
      "312466/312466 [==============================] - 3s 9us/step - loss: 166670306.3135 - mse: 166670400.0000 - val_loss: 242758636.6102 - val_mse: 242758640.0000\n",
      "Epoch 243/300\n",
      "312466/312466 [==============================] - 3s 10us/step - loss: 166683273.8633 - mse: 166683264.0000 - val_loss: 298548545.5256 - val_mse: 298548576.0000\n",
      "Epoch 244/300\n",
      "312466/312466 [==============================] - 3s 9us/step - loss: 166677484.2925 - mse: 166677376.0000 - val_loss: 308244211.7820 - val_mse: 308244256.0000\n",
      "Epoch 245/300\n",
      "312466/312466 [==============================] - 3s 10us/step - loss: 166378984.3370 - mse: 166378992.0000 - val_loss: 349457324.3834 - val_mse: 349457472.0000\n",
      "Epoch 246/300\n",
      "312466/312466 [==============================] - 3s 9us/step - loss: 166143444.2905 - mse: 166143360.0000 - val_loss: 245181298.3770 - val_mse: 245181360.0000\n",
      "Epoch 247/300\n",
      "312466/312466 [==============================] - 3s 9us/step - loss: 165711319.3721 - mse: 165711328.0000 - val_loss: 286840577.6342 - val_mse: 286840576.0000\n",
      "Epoch 248/300\n",
      "312466/312466 [==============================] - 3s 10us/step - loss: 165772506.9406 - mse: 165772496.0000 - val_loss: 308961435.9549 - val_mse: 308961408.0000\n",
      "Epoch 249/300\n",
      "312466/312466 [==============================] - 3s 9us/step - loss: 165377156.7064 - mse: 165377216.0000 - val_loss: 325788643.6863 - val_mse: 325788672.0000\n",
      "Epoch 250/300\n",
      "312466/312466 [==============================] - 3s 10us/step - loss: 165151292.8662 - mse: 165151248.0000 - val_loss: 228768508.8506 - val_mse: 228768464.0000\n",
      "Epoch 251/300\n",
      "312466/312466 [==============================] - 3s 9us/step - loss: 164849262.0306 - mse: 164849248.0000 - val_loss: 316120848.5505 - val_mse: 316120800.0000\n",
      "Epoch 252/300\n",
      "312466/312466 [==============================] - 3s 9us/step - loss: 165312727.6492 - mse: 165312832.0000 - val_loss: 223610082.2842 - val_mse: 223610128.0000\n",
      "Epoch 253/300\n",
      "312466/312466 [==============================] - 3s 9us/step - loss: 164817036.7307 - mse: 164816992.0000 - val_loss: 240892094.8259 - val_mse: 240892160.0000\n",
      "Epoch 254/300\n",
      "312466/312466 [==============================] - 3s 9us/step - loss: 164981961.7173 - mse: 164981888.0000 - val_loss: 361626334.3361 - val_mse: 361626368.0000\n",
      "Epoch 255/300\n",
      "312466/312466 [==============================] - 3s 11us/step - loss: 164731052.5737 - mse: 164731120.0000 - val_loss: 293216110.2442 - val_mse: 293216160.0000\n",
      "Epoch 256/300\n",
      "312466/312466 [==============================] - 4s 11us/step - loss: 164562418.2601 - mse: 164562416.0000 - val_loss: 269999761.7503 - val_mse: 269999808.0000\n",
      "Epoch 257/300\n",
      "312466/312466 [==============================] - 4s 12us/step - loss: 164435847.3388 - mse: 164435856.0000 - val_loss: 301960840.4234 - val_mse: 301960832.0000\n",
      "Epoch 258/300\n",
      "312466/312466 [==============================] - 4s 12us/step - loss: 164311053.2958 - mse: 164311040.0000 - val_loss: 239404231.5885 - val_mse: 239404224.0000\n",
      "Epoch 259/300\n",
      "312466/312466 [==============================] - 4s 12us/step - loss: 164280565.8395 - mse: 164280512.0000 - val_loss: 228223192.8862 - val_mse: 228223168.0000\n",
      "Epoch 260/300\n",
      "312466/312466 [==============================] - 4s 12us/step - loss: 163930890.8077 - mse: 163930880.0000 - val_loss: 294798837.5574 - val_mse: 294798848.0000\n",
      "Epoch 261/300\n",
      "312466/312466 [==============================] - 4s 12us/step - loss: 163835170.7903 - mse: 163835152.0000 - val_loss: 276263712.4837 - val_mse: 276263712.0000\n",
      "Epoch 262/300\n",
      "312466/312466 [==============================] - 4s 13us/step - loss: 163725244.8217 - mse: 163725280.0000 - val_loss: 257297383.7611 - val_mse: 257297344.0000\n",
      "Epoch 263/300\n",
      "312466/312466 [==============================] - 3s 11us/step - loss: 163471955.0323 - mse: 163471968.0000 - val_loss: 414290891.9645 - val_mse: 414290976.0000\n",
      "Epoch 264/300\n",
      "312466/312466 [==============================] - 4s 12us/step - loss: 163601043.1370 - mse: 163600976.0000 - val_loss: 277107888.6954 - val_mse: 277107904.0000\n",
      "Epoch 265/300\n",
      "312466/312466 [==============================] - 4s 12us/step - loss: 163156395.5022 - mse: 163156320.0000 - val_loss: 233373214.0579 - val_mse: 233373248.0000\n",
      "Epoch 266/300\n",
      "312466/312466 [==============================] - 4s 11us/step - loss: 163279957.1959 - mse: 163279952.0000 - val_loss: 230925613.0690 - val_mse: 230925616.0000\n",
      "Epoch 267/300\n",
      "312466/312466 [==============================] - 4s 12us/step - loss: 163368153.3562 - mse: 163368160.0000 - val_loss: 278864344.2000 - val_mse: 278864448.0000\n",
      "Epoch 268/300\n",
      "312466/312466 [==============================] - 4s 12us/step - loss: 163060679.6467 - mse: 163060784.0000 - val_loss: 244091496.4555 - val_mse: 244091456.0000\n",
      "Epoch 269/300\n",
      "312466/312466 [==============================] - 4s 12us/step - loss: 163040096.6257 - mse: 163040160.0000 - val_loss: 279934001.7949 - val_mse: 279933984.0000\n",
      "Epoch 270/300\n"
     ]
    },
    {
     "name": "stdout",
     "output_type": "stream",
     "text": [
      "312466/312466 [==============================] - 3s 11us/step - loss: 163026974.5967 - mse: 163027088.0000 - val_loss: 364609537.0023 - val_mse: 364609472.0000\n",
      "Epoch 271/300\n",
      "312466/312466 [==============================] - 3s 11us/step - loss: 162521904.4559 - mse: 162521936.0000 - val_loss: 345919027.6137 - val_mse: 345919168.0000\n",
      "Epoch 272/300\n",
      "312466/312466 [==============================] - 3s 11us/step - loss: 162458855.6545 - mse: 162458800.0000 - val_loss: 293451915.1282 - val_mse: 293451904.0000\n",
      "Epoch 273/300\n",
      "312466/312466 [==============================] - 4s 11us/step - loss: 162454672.8939 - mse: 162454736.0000 - val_loss: 234096926.9621 - val_mse: 234096944.0000\n",
      "Epoch 274/300\n",
      "312466/312466 [==============================] - 4s 11us/step - loss: 162098700.6141 - mse: 162098752.0000 - val_loss: 256463414.2175 - val_mse: 256463424.0000\n",
      "Epoch 275/300\n",
      "312466/312466 [==============================] - 4s 12us/step - loss: 162159745.5608 - mse: 162159680.0000 - val_loss: 319783694.5902 - val_mse: 319783648.0000\n",
      "Epoch 276/300\n",
      "312466/312466 [==============================] - 4s 12us/step - loss: 161966049.3543 - mse: 161966016.0000 - val_loss: 333567176.7318 - val_mse: 333567264.0000\n",
      "Epoch 277/300\n",
      "312466/312466 [==============================] - 4s 12us/step - loss: 162218155.7639 - mse: 162218176.0000 - val_loss: 269880365.0356 - val_mse: 269880352.0000\n",
      "Epoch 278/300\n",
      "312466/312466 [==============================] - 4s 12us/step - loss: 162001717.7565 - mse: 162001696.0000 - val_loss: 349224401.5280 - val_mse: 349224512.0000\n",
      "Epoch 279/300\n",
      "312466/312466 [==============================] - 4s 11us/step - loss: 161736248.1620 - mse: 161736160.0000 - val_loss: 233448520.5728 - val_mse: 233448528.0000\n",
      "Epoch 280/300\n",
      "312466/312466 [==============================] - 4s 11us/step - loss: 161742669.4588 - mse: 161742800.0000 - val_loss: 219177318.1364 - val_mse: 219177376.0000\n",
      "Epoch 281/300\n",
      "312466/312466 [==============================] - 3s 11us/step - loss: 161668948.8492 - mse: 161668960.0000 - val_loss: 330252197.0195 - val_mse: 330252160.0000\n",
      "Epoch 282/300\n",
      "312466/312466 [==============================] - 4s 11us/step - loss: 161535314.1950 - mse: 161535424.0000 - val_loss: 334858457.0964 - val_mse: 334858464.0000\n",
      "Epoch 283/300\n",
      "312466/312466 [==============================] - 4s 11us/step - loss: 161264362.4529 - mse: 161264384.0000 - val_loss: 214915081.4857 - val_mse: 214915088.0000\n",
      "Epoch 284/300\n",
      "312466/312466 [==============================] - 4s 11us/step - loss: 161285446.3662 - mse: 161285376.0000 - val_loss: 311656526.8122 - val_mse: 311656512.0000\n",
      "Epoch 285/300\n",
      "312466/312466 [==============================] - 3s 11us/step - loss: 161284205.8664 - mse: 161284144.0000 - val_loss: 257445983.9691 - val_mse: 257445952.0000\n",
      "Epoch 286/300\n",
      "312466/312466 [==============================] - 4s 11us/step - loss: 160905943.3276 - mse: 160906064.0000 - val_loss: 230116733.1938 - val_mse: 230116768.0000\n",
      "Epoch 287/300\n",
      "312466/312466 [==============================] - 4s 12us/step - loss: 161293513.8463 - mse: 161293456.0000 - val_loss: 246806140.9839 - val_mse: 246806144.0000\n",
      "Epoch 288/300\n",
      "312466/312466 [==============================] - 4s 12us/step - loss: 160636116.4633 - mse: 160636240.0000 - val_loss: 262632040.7402 - val_mse: 262632016.0000\n",
      "Epoch 289/300\n",
      "312466/312466 [==============================] - 4s 12us/step - loss: 160675277.2868 - mse: 160675152.0000 - val_loss: 213944708.9686 - val_mse: 213944800.0000\n",
      "Epoch 290/300\n",
      "312466/312466 [==============================] - 4s 12us/step - loss: 160872345.0485 - mse: 160872544.0000 - val_loss: 335897667.5087 - val_mse: 335897664.0000\n",
      "Epoch 291/300\n",
      "312466/312466 [==============================] - 4s 12us/step - loss: 160380702.4760 - mse: 160380736.0000 - val_loss: 234259621.9658 - val_mse: 234259648.0000\n",
      "Epoch 292/300\n",
      "312466/312466 [==============================] - 4s 12us/step - loss: 160259374.8506 - mse: 160259312.0000 - val_loss: 351552674.6458 - val_mse: 351552672.0000\n",
      "Epoch 293/300\n",
      "312466/312466 [==============================] - 4s 12us/step - loss: 160363268.6594 - mse: 160363264.0000 - val_loss: 274979303.5054 - val_mse: 274979296.0000\n",
      "Epoch 294/300\n",
      "312466/312466 [==============================] - 4s 11us/step - loss: 159939281.3102 - mse: 159939296.0000 - val_loss: 316644578.9492 - val_mse: 316644608.0000\n",
      "Epoch 295/300\n",
      "312466/312466 [==============================] - 4s 11us/step - loss: 159805337.4023 - mse: 159805232.0000 - val_loss: 279932197.7540 - val_mse: 279932224.0000\n",
      "Epoch 296/300\n",
      "312466/312466 [==============================] - 4s 11us/step - loss: 160035936.2229 - mse: 160035968.0000 - val_loss: 309119053.7708 - val_mse: 309119072.0000\n",
      "Epoch 297/300\n",
      "312466/312466 [==============================] - 3s 8us/step - loss: 160135572.3211 - mse: 160135728.0000 - val_loss: 403066755.1896 - val_mse: 403066848.0000\n",
      "Epoch 298/300\n",
      "312466/312466 [==============================] - 2s 8us/step - loss: 159569240.3819 - mse: 159569248.0000 - val_loss: 301568743.8184 - val_mse: 301568704.0000\n",
      "Epoch 299/300\n",
      "312466/312466 [==============================] - 2s 8us/step - loss: 159440153.0288 - mse: 159440112.0000 - val_loss: 271231135.6797 - val_mse: 271231168.0000\n",
      "Epoch 300/300\n",
      "312466/312466 [==============================] - 2s 8us/step - loss: 159823109.2243 - mse: 159823072.0000 - val_loss: 291287626.4035 - val_mse: 291287584.0000\n"
     ]
    }
   ],
   "source": [
    "#2.2\n",
    "history = model.fit(train_tune_cbe, train_tune_y, epochs=300, validation_data = (val_cbe, val_y), batch_size = 512)"
   ]
  },
  {
   "cell_type": "code",
   "execution_count": 16,
   "metadata": {},
   "outputs": [],
   "source": [
    "val_loss = history.history['val_loss']\n",
    "loss = history.history['loss']"
   ]
  },
  {
   "cell_type": "code",
   "execution_count": 17,
   "metadata": {},
   "outputs": [
    {
     "data": {
      "text/plain": [
       "Text(0, 0.5, 'loss')"
      ]
     },
     "execution_count": 17,
     "metadata": {},
     "output_type": "execute_result"
    },
    {
     "data": {
      "image/png": "[encoded data removed]",
      "text/plain": [
       "<Figure size 432x288 with 1 Axes>"
      ]
     },
     "metadata": {
      "needs_background": "light"
     },
     "output_type": "display_data"
    }
   ],
   "source": [
    "plt.plot(val_loss, marker='.', c='red', label=\"Validation-set Loss\")\n",
    "plt.plot(loss, marker='.', c='blue', label=\"Train-set Loss\")\n",
    "plt.legend(loc='upper right')\n",
    "plt.xlabel('epoch')\n",
    "plt.ylabel('loss')"
   ]
  },
  {
   "cell_type": "markdown",
   "metadata": {},
   "source": [
    "### 2.3 어떤문제가 발생했는지 설명해주세요.\n",
    "\n",
    "- 꼭 써주세요.\n",
    "\n",
    "힌트\n",
    "\n",
    "- 이전에 lgbm 같은 경우 validation mse가 $1.2 * 10^8$ 이였습니다."
   ]
  },
  {
   "cell_type": "markdown",
   "metadata": {},
   "source": [
    "lgbm의 validation mse가 1.2*10^8, 딥러닝 모델의 validation mse가 2.7*10^8으로 딥러닝 모델이 더 크다\n",
    "\n",
    "그리고 딥러닝 모델의 경우 validation loss가 위아래로 진동하고 있어 학습이 원활하게 되지 않는 모습이다"
   ]
  },
  {
   "cell_type": "markdown",
   "metadata": {},
   "source": [
    "### 2.4 더 좋은 성능의 딥러닝 모델을 위해\n",
    "\n",
    "- test set에 대해 딥러닝 모형의 성능을 평가하세요.\n",
    "- dense 조절, batch_size 조절, regularization, dropout, batch normalization 등의 방법을 활용해 최고의 성능을 얻어보세요.\n",
    "- 만약 성능의 향상이 어렵다면, 다양한 방법들을 시도하는 것을 목표로 해주세요!"
   ]
  },
  {
   "cell_type": "code",
   "execution_count": 18,
   "metadata": {},
   "outputs": [],
   "source": [
    "def build_model():\n",
    "    model = keras.Sequential([\n",
    "    layers.Dense(256, activation='relu', input_shape=[len(train_tune_cbe.keys())]),\n",
    "    layers.Dropout(0.3),\n",
    "    layers.BatchNormalization(),\n",
    "    layers.Dense(64, activation='relu'),\n",
    "    layers.Dropout(0.3),\n",
    "    layers.BatchNormalization(),\n",
    "    layers.Dense(32, activation='relu'),\n",
    "    layers.Dense(1)\n",
    "    ])\n",
    "\n",
    "    optimizer = keras.optimizers.RMSprop(0.0001)\n",
    "\n",
    "    model.compile(loss='mse',\n",
    "                optimizer=optimizer,\n",
    "                metrics=['mse'])\n",
    "    return model\n"
   ]
  },
  {
   "cell_type": "code",
   "execution_count": 19,
   "metadata": {},
   "outputs": [
    {
     "name": "stdout",
     "output_type": "stream",
     "text": [
      "Model: \"sequential_2\"\n",
      "_________________________________________________________________\n",
      "Layer (type)                 Output Shape              Param #   \n",
      "=================================================================\n",
      "dense_5 (Dense)              (None, 256)               2304      \n",
      "_________________________________________________________________\n",
      "dropout_1 (Dropout)          (None, 256)               0         \n",
      "_________________________________________________________________\n",
      "batch_normalization_1 (Batch (None, 256)               1024      \n",
      "_________________________________________________________________\n",
      "dense_6 (Dense)              (None, 64)                16448     \n",
      "_________________________________________________________________\n",
      "dropout_2 (Dropout)          (None, 64)                0         \n",
      "_________________________________________________________________\n",
      "batch_normalization_2 (Batch (None, 64)                256       \n",
      "_________________________________________________________________\n",
      "dense_7 (Dense)              (None, 32)                2080      \n",
      "_________________________________________________________________\n",
      "dense_8 (Dense)              (None, 1)                 33        \n",
      "=================================================================\n",
      "Total params: 22,145\n",
      "Trainable params: 21,505\n",
      "Non-trainable params: 640\n",
      "_________________________________________________________________\n"
     ]
    }
   ],
   "source": [
    "model = build_model()\n",
    "model.summary()"
   ]
  },
  {
   "cell_type": "code",
   "execution_count": 20,
   "metadata": {
    "scrolled": true
   },
   "outputs": [
    {
     "name": "stdout",
     "output_type": "stream",
     "text": [
      "Train on 312466 samples, validate on 109698 samples\n",
      "Epoch 1/100\n",
      "312466/312466 [==============================] - 11s 37us/step - loss: 3074659078.8247 - mse: 3074659584.0000 - val_loss: 4169722262.2796 - val_mse: 4169721856.0000 loss: 3073114861.3176 - mse: 3073114624.0 - ETA: 1s - loss: 3074080752.1\n",
      "Epoch 2/100\n",
      "312466/312466 [==============================] - 10s 33us/step - loss: 3073253780.1062 - mse: 3073252864.0000 - val_loss: 4167568800.1884 - val_mse: 4167569152.0000\n",
      "Epoch 3/100\n",
      "312466/312466 [==============================] - 10s 33us/step - loss: 3071096245.5987 - mse: 3071096576.0000 - val_loss: 4164257939.0965 - val_mse: 4164257280.0000\n",
      "Epoch 4/100\n",
      "312466/312466 [==============================] - 9s 29us/step - loss: 3067930608.4794 - mse: 3067930112.0000 - val_loss: 4159514074.2271 - val_mse: 4159514368.0000\n",
      "Epoch 5/100\n",
      "312466/312466 [==============================] - 10s 32us/step - loss: 3063500709.3194 - mse: 3063501312.0000 - val_loss: 4153373704.8306 - val_mse: 4153374464.0000\n",
      "Epoch 6/100\n",
      "312466/312466 [==============================] - 10s 32us/step - loss: 3057570674.8676 - mse: 3057570816.0000 - val_loss: 4145603356.7416 - val_mse: 4145603328.0000\n",
      "Epoch 7/100\n",
      "312466/312466 [==============================] - 10s 31us/step - loss: 3049935665.8046 - mse: 3049933312.0000 - val_loss: 4136060623.9075 - val_mse: 4136061952.0000\n",
      "Epoch 8/100\n",
      "312466/312466 [==============================] - 11s 34us/step - loss: 3040371970.5644 - mse: 3040373248.0000 - val_loss: 4116979272.1947 - val_mse: 4116978432.0000\n",
      "Epoch 9/100\n",
      "312466/312466 [==============================] - 10s 33us/step - loss: 3028652339.9249 - mse: 3028653312.0000 - val_loss: 4113387408.6648 - val_mse: 4113387520.0000\n",
      "Epoch 10/100\n",
      "312466/312466 [==============================] - 10s 32us/step - loss: 3014694338.8548 - mse: 3014694144.0000 - val_loss: 4096528820.0947 - val_mse: 4096529664.0000\n",
      "Epoch 11/100\n",
      "312466/312466 [==============================] - 10s 31us/step - loss: 2998288010.9318 - mse: 2998288896.0000 - val_loss: 4069460141.8498 - val_mse: 4069459712.0000\n",
      "Epoch 12/100\n",
      "312466/312466 [==============================] - 11s 34us/step - loss: 2979172653.6344 - mse: 2979172608.0000 - val_loss: 4031667003.6162 - val_mse: 4031667968.0000\n",
      "Epoch 13/100\n",
      "312466/312466 [==============================] - 11s 34us/step - loss: 2957372687.4436 - mse: 2957374720.0000 - val_loss: 4010442640.8608 - val_mse: 4010441984.0000\n",
      "Epoch 14/100\n",
      "312466/312466 [==============================] - 11s 34us/step - loss: 2932458569.3968 - mse: 2932457472.0000 - val_loss: 3954288838.1808 - val_mse: 3954288384.0000\n",
      "Epoch 15/100\n",
      "312466/312466 [==============================] - 11s 34us/step - loss: 2904358039.7225 - mse: 2904359424.0000 - val_loss: 3951844970.1638 - val_mse: 3951846144.0000\n",
      "Epoch 16/100\n",
      "312466/312466 [==============================] - 11s 34us/step - loss: 2872877819.4808 - mse: 2872877824.0000 - val_loss: 3877228593.0539 - val_mse: 3877228800.0000\n",
      "Epoch 17/100\n",
      "312466/312466 [==============================] - 11s 35us/step - loss: 2838102044.7685 - mse: 2838102016.0000 - val_loss: 3774849691.6144 - val_mse: 3774848256.0000\n",
      "Epoch 18/100\n",
      "312466/312466 [==============================] - 11s 35us/step - loss: 2799635224.5312 - mse: 2799635968.0000 - val_loss: 3776064636.7398 - val_mse: 3776065024.0000: 1s - loss: 2802416962.1545 - - ETA: 0s - loss: 2796137650.0583 - mse: 2796139\n",
      "Epoch 19/100\n",
      "312466/312466 [==============================] - 11s 36us/step - loss: 2757480778.2210 - mse: 2757480448.0000 - val_loss: 3772201085.9160 - val_mse: 3772200704.000056\n",
      "Epoch 20/100\n",
      "312466/312466 [==============================] - 11s 36us/step - loss: 2711564657.7435 - mse: 2711565824.0000 - val_loss: 3661317440.1622 - val_mse: 3661317120.0000\n",
      "Epoch 21/100\n",
      "312466/312466 [==============================] - 11s 35us/step - loss: 2661953525.7130 - mse: 2661952256.0000 - val_loss: 3601116181.0498 - val_mse: 3601116160.0000\n",
      "Epoch 22/100\n",
      "312466/312466 [==============================] - 11s 36us/step - loss: 2608003942.6913 - mse: 2608004096.0000 - val_loss: 3546826161.5604 - val_mse: 3546826240.0000\n",
      "Epoch 23/100\n",
      "312466/312466 [==============================] - 11s 37us/step - loss: 2549891407.9528 - mse: 2549890816.0000 - val_loss: 3458241351.2099 - val_mse: 3458240512.0000\n",
      "Epoch 24/100\n",
      "312466/312466 [==============================] - 11s 36us/step - loss: 2488057431.0216 - mse: 2488057600.0000 - val_loss: 3392249961.5570 - val_mse: 3392249344.0000\n",
      "Epoch 25/100\n",
      "312466/312466 [==============================] - 11s 36us/step - loss: 2422006121.7735 - mse: 2422004224.0000 - val_loss: 3209468167.1131 - val_mse: 3209468928.0000\n",
      "Epoch 26/100\n",
      "312466/312466 [==============================] - 11s 37us/step - loss: 2351813159.4537 - mse: 2351813120.0000 - val_loss: 3198996261.3109 - val_mse: 3198996224.0000\n",
      "Epoch 27/100\n",
      "312466/312466 [==============================] - 12s 38us/step - loss: 2277697112.0564 - mse: 2277696000.0000 - val_loss: 3092551291.6057 - val_mse: 3092551936.0000 3s - loss: 2295830425.9802 - mse: 229583 - ETA: 3s - loss: 2291322351.7 - ETA: 1s - loss: 22848544\n",
      "Epoch 28/100\n",
      "312466/312466 [==============================] - 12s 39us/step - loss: 2199805164.8073 - mse: 2199805952.0000 - val_loss: 2983488535.7149 - val_mse: 2983488512.0000\n",
      "Epoch 29/100\n",
      "312466/312466 [==============================] - 11s 36us/step - loss: 2117741657.7236 - mse: 2117738624.0000 - val_loss: 2888430701.7763 - val_mse: 2888429824.0000\n",
      "Epoch 30/100\n",
      "312466/312466 [==============================] - 11s 36us/step - loss: 2032686509.4009 - mse: 2032684544.0000 - val_loss: 2760127573.8747 - val_mse: 2760127744.0000 - loss: 2051540631.1770 - mse: 2051540 - ETA: 5s - lo\n",
      "Epoch 31/100\n",
      "312466/312466 [==============================] - 12s 38us/step - loss: 1943327456.7032 - mse: 1943327232.0000 - val_loss: 2505981046.9220 - val_mse: 2505981184.0000\n",
      "Epoch 32/100\n",
      "312466/312466 [==============================] - 12s 37us/step - loss: 1851437200.5603 - mse: 1851437184.0000 - val_loss: 2682128501.2347 - val_mse: 2682128384.0000\n",
      "Epoch 33/100\n",
      "312466/312466 [==============================] - 11s 37us/step - loss: 1756617387.8344 - mse: 1756617600.0000 - val_loss: 2370121014.5614 - val_mse: 2370121728.0000\n",
      "Epoch 34/100\n",
      "312466/312466 [==============================] - 11s 36us/step - loss: 1658664914.2509 - mse: 1658664576.0000 - val_loss: 2471489487.0301 - val_mse: 2471490048.0000- - ETA: 2s - loss: 1676449481.1845 - mse: 167644940 - ETA: 2s - l\n",
      "Epoch 35/100\n",
      "312466/312466 [==============================] - 11s 36us/step - loss: 1558666157.7241 - mse: 1558666496.0000 - val_loss: 2294722798.4251 - val_mse: 2294722560.0000\n",
      "Epoch 36/100\n",
      "312466/312466 [==============================] - 11s 35us/step - loss: 1457957160.5286 - mse: 1457957760.0000 - val_loss: 2108767708.7964 - val_mse: 2108767488.0000\n",
      "Epoch 37/100\n",
      "312466/312466 [==============================] - 12s 38us/step - loss: 1355958167.5955 - mse: 1355958144.0000 - val_loss: 1950045800.5675 - val_mse: 1950045696.0000\n",
      "Epoch 38/100\n",
      "312466/312466 [==============================] - 11s 37us/step - loss: 1252847478.0129 - mse: 1252846976.0000 - val_loss: 1563950756.8115 - val_mse: 1563950464.0000\n",
      "Epoch 39/100\n",
      "312466/312466 [==============================] - 12s 38us/step - loss: 1151043571.3240 - mse: 1151043328.0000 - val_loss: 1537694348.1071 - val_mse: 1537694080.0000\n",
      "Epoch 40/100\n",
      "312466/312466 [==============================] - 11s 36us/step - loss: 1047917247.2413 - mse: 1047917248.0000 - val_loss: 1432885081.1256 - val_mse: 1432884992.0000\n",
      "Epoch 41/100\n",
      "312466/312466 [==============================] - 12s 37us/step - loss: 947331789.7378 - mse: 947331904.0000 - val_loss: 1296583697.8830 - val_mse: 1296583680.0000\n",
      "Epoch 42/100\n",
      "312466/312466 [==============================] - 11s 36us/step - loss: 846921842.3191 - mse: 846921216.0000 - val_loss: 1314082790.5629 - val_mse: 1314082944.0000\n",
      "Epoch 43/100\n",
      "312466/312466 [==============================] - 12s 37us/step - loss: 752174832.4274 - mse: 752174464.0000 - val_loss: 950023066.4826 - val_mse: 950023104.0000e: - ETA: 0s - loss: 753852350.0541 - mse: 75385203\n",
      "Epoch 44/100\n"
     ]
    },
    {
     "name": "stdout",
     "output_type": "stream",
     "text": [
      "312466/312466 [==============================] - 10s 32us/step - loss: 659887739.8016 - mse: 659887296.0000 - val_loss: 885062760.6784 - val_mse: 885062848.0000\n",
      "Epoch 45/100\n",
      "312466/312466 [==============================] - 11s 35us/step - loss: 573271804.2500 - mse: 573272000.0000 - val_loss: 1122029916.7836 - val_mse: 1122029696.0000\n",
      "Epoch 46/100\n",
      "312466/312466 [==============================] - 10s 33us/step - loss: 493190390.4586 - mse: 493190432.0000 - val_loss: 699111831.5842 - val_mse: 699111872.0000\n",
      "Epoch 47/100\n",
      "312466/312466 [==============================] - 10s 32us/step - loss: 420781355.7996 - mse: 420781184.0000 - val_loss: 505408650.5156 - val_mse: 505408512.0000\n",
      "Epoch 48/100\n",
      "312466/312466 [==============================] - 10s 33us/step - loss: 355938853.0061 - mse: 355938848.0000 - val_loss: 514100009.8411 - val_mse: 514099968.0000\n",
      "Epoch 49/100\n",
      "312466/312466 [==============================] - 10s 32us/step - loss: 300437273.4467 - mse: 300437248.0000 - val_loss: 676188378.6565 - val_mse: 676188416.0000\n",
      "Epoch 50/100\n",
      "312466/312466 [==============================] - 10s 33us/step - loss: 255022285.0116 - mse: 255022320.0000 - val_loss: 312691543.0509 - val_mse: 312691616.0000\n",
      "Epoch 51/100\n",
      "312466/312466 [==============================] - 10s 33us/step - loss: 222422210.1962 - mse: 222422176.0000 - val_loss: 389968530.5242 - val_mse: 389968576.0000\n",
      "Epoch 52/100\n",
      "312466/312466 [==============================] - 10s 32us/step - loss: 200099563.2293 - mse: 200099584.0000 - val_loss: 334437511.4313 - val_mse: 334437440.0000\n",
      "Epoch 53/100\n",
      "312466/312466 [==============================] - 10s 32us/step - loss: 186263420.0743 - mse: 186263392.0000 - val_loss: 250724421.9704 - val_mse: 250724464.0000\n",
      "Epoch 54/100\n",
      "312466/312466 [==============================] - 10s 33us/step - loss: 182411341.7149 - mse: 182411344.0000 - val_loss: 253046193.5154 - val_mse: 253046176.0000\n",
      "Epoch 55/100\n",
      "312466/312466 [==============================] - 10s 33us/step - loss: 179133753.2442 - mse: 179133712.0000 - val_loss: 234558604.1894 - val_mse: 234558640.0000\n",
      "Epoch 56/100\n",
      "312466/312466 [==============================] - 10s 33us/step - loss: 176613691.0789 - mse: 176613664.0000 - val_loss: 391005572.8488 - val_mse: 391005600.0000\n",
      "Epoch 57/100\n",
      "312466/312466 [==============================] - 11s 34us/step - loss: 174229964.3718 - mse: 174229984.0000 - val_loss: 193155551.1217 - val_mse: 193155600.0000\n",
      "Epoch 58/100\n",
      "312466/312466 [==============================] - 10s 33us/step - loss: 174092421.6857 - mse: 174092480.0000 - val_loss: 234210787.9839 - val_mse: 234210752.0000\n",
      "Epoch 59/100\n",
      "312466/312466 [==============================] - 11s 34us/step - loss: 170962700.2646 - mse: 170962672.0000 - val_loss: 194232463.5505 - val_mse: 194232464.0000\n",
      "Epoch 60/100\n",
      "312466/312466 [==============================] - 11s 34us/step - loss: 170129141.9834 - mse: 170129200.0000 - val_loss: 211322533.2969 - val_mse: 211322544.0000\n",
      "Epoch 61/100\n",
      "312466/312466 [==============================] - 10s 34us/step - loss: 168124482.4525 - mse: 168124496.0000 - val_loss: 189694918.2166 - val_mse: 189694896.0000\n",
      "Epoch 62/100\n",
      "312466/312466 [==============================] - 11s 34us/step - loss: 165348741.3181 - mse: 165348736.0000 - val_loss: 220995246.5906 - val_mse: 220995232.0000\n",
      "Epoch 63/100\n",
      "312466/312466 [==============================] - 11s 34us/step - loss: 165917223.1479 - mse: 165917216.0000 - val_loss: 192076224.9831 - val_mse: 192076240.0000\n",
      "Epoch 64/100\n",
      "312466/312466 [==============================] - 10s 33us/step - loss: 164449251.4958 - mse: 164449200.0000 - val_loss: 183266907.5186 - val_mse: 183266960.0000\n",
      "Epoch 65/100\n",
      "312466/312466 [==============================] - 11s 34us/step - loss: 164030725.2292 - mse: 164030688.0000 - val_loss: 182039965.0599 - val_mse: 182039920.0000\n",
      "Epoch 66/100\n",
      "312466/312466 [==============================] - 11s 35us/step - loss: 162501488.7075 - mse: 162501440.0000 - val_loss: 213350850.7711 - val_mse: 213350848.0000\n",
      "Epoch 67/100\n",
      "312466/312466 [==============================] - 11s 35us/step - loss: 161387408.2937 - mse: 161387488.0000 - val_loss: 188814510.1199 - val_mse: 188814432.0000\n",
      "Epoch 68/100\n",
      "312466/312466 [==============================] - 11s 37us/step - loss: 162250147.7900 - mse: 162250112.0000 - val_loss: 221330126.6454 - val_mse: 221330064.0000\n",
      "Epoch 69/100\n",
      "312466/312466 [==============================] - 11s 36us/step - loss: 163497368.8819 - mse: 163497376.0000 - val_loss: 256065297.1555 - val_mse: 256065344.0000\n",
      "Epoch 70/100\n",
      "312466/312466 [==============================] - 11s 36us/step - loss: 162229539.0568 - mse: 162229648.0000 - val_loss: 172540912.1714 - val_mse: 172540880.0000\n",
      "Epoch 71/100\n",
      "312466/312466 [==============================] - 11s 36us/step - loss: 161835358.8737 - mse: 161835360.0000 - val_loss: 179148352.3769 - val_mse: 179148352.0000\n",
      "Epoch 72/100\n",
      "312466/312466 [==============================] - 11s 36us/step - loss: 160709872.8534 - mse: 160709936.0000 - val_loss: 238047614.7290 - val_mse: 238047648.0000\n",
      "Epoch 73/100\n",
      "312466/312466 [==============================] - 11s 36us/step - loss: 161248947.0765 - mse: 161248944.0000 - val_loss: 270152632.5147 - val_mse: 270152640.0000\n",
      "Epoch 74/100\n",
      "312466/312466 [==============================] - 11s 37us/step - loss: 160953967.8591 - mse: 160953920.0000 - val_loss: 173651042.8481 - val_mse: 173651072.0000\n",
      "Epoch 75/100\n",
      "312466/312466 [==============================] - 12s 37us/step - loss: 161938063.7735 - mse: 161938000.0000 - val_loss: 256359623.2907 - val_mse: 256359552.0000\n",
      "Epoch 76/100\n",
      "312466/312466 [==============================] - 11s 36us/step - loss: 161792315.1602 - mse: 161792288.0000 - val_loss: 204194719.1393 - val_mse: 204194720.0000\n",
      "Epoch 77/100\n",
      "312466/312466 [==============================] - 11s 36us/step - loss: 160166551.0912 - mse: 160166592.0000 - val_loss: 210155874.2061 - val_mse: 210155872.0000\n",
      "Epoch 78/100\n",
      "312466/312466 [==============================] - 11s 36us/step - loss: 161072997.0030 - mse: 161073024.0000 - val_loss: 287249845.6482 - val_mse: 287249856.0000\n",
      "Epoch 79/100\n",
      "312466/312466 [==============================] - 11s 36us/step - loss: 161162082.8428 - mse: 161162160.0000 - val_loss: 192697052.8727 - val_mse: 192697040.0000\n",
      "Epoch 80/100\n",
      "312466/312466 [==============================] - 11s 36us/step - loss: 162287813.3401 - mse: 162287808.0000 - val_loss: 197372567.8401 - val_mse: 197372576.0000\n",
      "Epoch 81/100\n",
      "312466/312466 [==============================] - 11s 35us/step - loss: 161573819.0591 - mse: 161573840.0000 - val_loss: 193367166.9902 - val_mse: 193367120.0000:  - ETA: 0s - loss: 160041826.4669 - mse: 16\n",
      "Epoch 82/100\n",
      "312466/312466 [==============================] - 11s 36us/step - loss: 160311787.7218 - mse: 160311712.0000 - val_loss: 186870234.3700 - val_mse: 186870240.0000\n",
      "Epoch 83/100\n",
      "312466/312466 [==============================] - 11s 36us/step - loss: 159381035.7663 - mse: 159381072.0000 - val_loss: 197726398.9459 - val_mse: 197726400.0000\n",
      "Epoch 84/100\n",
      "312466/312466 [==============================] - 11s 36us/step - loss: 159288185.6557 - mse: 159288208.0000 - val_loss: 163583929.0049 - val_mse: 163583936.0000\n",
      "Epoch 85/100\n",
      "312466/312466 [==============================] - 11s 36us/step - loss: 160419951.6158 - mse: 160419872.0000 - val_loss: 200910232.5475 - val_mse: 200910192.0000\n",
      "Epoch 86/100\n",
      "312466/312466 [==============================] - 11s 37us/step - loss: 160260685.1490 - mse: 160260672.0000 - val_loss: 212780797.8764 - val_mse: 212780848.00000445920\n",
      "Epoch 87/100\n",
      "312466/312466 [==============================] - 11s 36us/step - loss: 160379072.0494 - mse: 160379008.0000 - val_loss: 176203798.3469 - val_mse: 176203760.0000.5031 - mse: 1540 - ETA: 4s - loss - ETA: 2s - loss: 158266044.016 - ETA: 0s - loss: 159561479.2663 - mse: \n",
      "Epoch 88/100\n",
      "312466/312466 [==============================] - 11s 35us/step - loss: 160103954.0538 - mse: 160104000.0000 - val_loss: 188783024.5926 - val_mse: 188782960.0000830 - mse: 1603295\n",
      "Epoch 89/100\n",
      "312466/312466 [==============================] - 11s 36us/step - loss: 159473418.2519 - mse: 159473584.0000 - val_loss: 211467823.4030 - val_mse: 211467728.0000\n",
      "Epoch 90/100\n"
     ]
    },
    {
     "name": "stdout",
     "output_type": "stream",
     "text": [
      "312466/312466 [==============================] - 10s 33us/step - loss: 160401471.1688 - mse: 160401456.0000 - val_loss: 190627699.8135 - val_mse: 190627664.0000\n",
      "Epoch 91/100\n",
      "312466/312466 [==============================] - 10s 31us/step - loss: 158932211.2320 - mse: 158932256.0000 - val_loss: 219107670.2665 - val_mse: 219107648.0000\n",
      "Epoch 92/100\n",
      "312466/312466 [==============================] - 10s 32us/step - loss: 158666930.7652 - mse: 158666976.0000 - val_loss: 182219801.1779 - val_mse: 182219808.0000\n",
      "Epoch 93/100\n",
      "312466/312466 [==============================] - 10s 32us/step - loss: 160412084.0701 - mse: 160412048.0000 - val_loss: 199135227.0672 - val_mse: 199135280.0000\n",
      "Epoch 94/100\n",
      "312466/312466 [==============================] - 10s 32us/step - loss: 158639877.0341 - mse: 158639904.0000 - val_loss: 200874212.8306 - val_mse: 200874192.0000\n",
      "Epoch 95/100\n",
      "312466/312466 [==============================] - 10s 33us/step - loss: 159922779.8065 - mse: 159922704.0000 - val_loss: 176783320.1682 - val_mse: 176783344.0000\n",
      "Epoch 96/100\n",
      "312466/312466 [==============================] - 10s 32us/step - loss: 158822710.5789 - mse: 158822656.0000 - val_loss: 174403747.6362 - val_mse: 174403696.0000\n",
      "Epoch 97/100\n",
      "312466/312466 [==============================] - 10s 33us/step - loss: 159532519.3445 - mse: 159532560.0000 - val_loss: 191459203.3752 - val_mse: 191459232.0000\n",
      "Epoch 98/100\n",
      "312466/312466 [==============================] - 10s 33us/step - loss: 159322871.9220 - mse: 159322880.0000 - val_loss: 184350216.5742 - val_mse: 184350176.0000\n",
      "Epoch 99/100\n",
      "312466/312466 [==============================] - 10s 33us/step - loss: 159252838.8213 - mse: 159252816.0000 - val_loss: 214218842.9159 - val_mse: 214218864.0000\n",
      "Epoch 100/100\n",
      "312466/312466 [==============================] - 11s 34us/step - loss: 158551244.6250 - mse: 158551184.0000 - val_loss: 219971803.2899 - val_mse: 219971760.0000\n"
     ]
    }
   ],
   "source": [
    "history = model.fit(train_tune_cbe, train_tune_y, epochs=100, validation_data = (val_cbe, val_y), batch_size = 512)"
   ]
  },
  {
   "cell_type": "code",
   "execution_count": 21,
   "metadata": {},
   "outputs": [
    {
     "data": {
      "text/plain": [
       "Text(0, 0.5, 'loss')"
      ]
     },
     "execution_count": 21,
     "metadata": {},
     "output_type": "execute_result"
    },
    {
     "data": {
      "image/png": "[encoded data removed]",
      "text/plain": [
       "<Figure size 432x288 with 1 Axes>"
      ]
     },
     "metadata": {
      "needs_background": "light"
     },
     "output_type": "display_data"
    }
   ],
   "source": [
    "val_loss = history.history['val_loss']\n",
    "loss = history.history['loss']\n",
    "plt.plot(val_loss, marker='.', c='red', label=\"Validation-set Loss\")\n",
    "plt.plot(loss, marker='.', c='blue', label=\"Train-set Loss\")\n",
    "plt.legend(loc='upper right')\n",
    "plt.xlabel('epoch')\n",
    "plt.ylabel('loss')"
   ]
  },
  {
   "cell_type": "code",
   "execution_count": 22,
   "metadata": {},
   "outputs": [],
   "source": [
    "feature_list = list(train_x.columns)\n",
    "\n",
    "CBE_encoder = CatBoostEncoder()\n",
    "train_cbe = CBE_encoder.fit_transform(train_x[feature_list], train_y)\n",
    "test_cbe = CBE_encoder.transform(test_x[feature_list])"
   ]
  },
  {
   "cell_type": "code",
   "execution_count": 28,
   "metadata": {},
   "outputs": [
    {
     "data": {
      "text/plain": [
       "780.4163187340346"
      ]
     },
     "execution_count": 28,
     "metadata": {},
     "output_type": "execute_result"
    }
   ],
   "source": [
    "from sklearn.metrics import mean_squared_error\n",
    "pred = model.predict(test_cbe)\n",
    "mean_squared_error(test_y, np.sqrt(pred))"
   ]
  },
  {
   "cell_type": "code",
   "execution_count": null,
   "metadata": {},
   "outputs": [],
   "source": []
  }
 ],
 "metadata": {
  "kernelspec": {
   "display_name": "Python 3",
   "language": "python",
   "name": "python3"
  },
  "language_info": {
   "codemirror_mode": {
    "name": "ipython",
    "version": 3
   },
   "file_extension": ".py",
   "mimetype": "text/x-python",
   "name": "python",
   "nbconvert_exporter": "python",
   "pygments_lexer": "ipython3",
   "version": "3.7.3"
  }
 },
 "nbformat": 4,
 "nbformat_minor": 4
}
